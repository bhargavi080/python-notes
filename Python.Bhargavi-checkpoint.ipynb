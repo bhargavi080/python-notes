{
 "cells": [
  {
   "cell_type": "markdown",
   "id": "2f71bfd4",
   "metadata": {},
   "source": [
    "### first python program"
   ]
  },
  {
   "cell_type": "code",
   "execution_count": 2,
   "id": "6e76a8f2",
   "metadata": {},
   "outputs": [
    {
     "name": "stdout",
     "output_type": "stream",
     "text": [
      "bhargavi\n"
     ]
    }
   ],
   "source": [
    "print(\"bhargavi\")"
   ]
  },
  {
   "cell_type": "code",
   "execution_count": 3,
   "id": "dd00012c",
   "metadata": {},
   "outputs": [
    {
     "name": "stdout",
     "output_type": "stream",
     "text": [
      "10\n"
     ]
    }
   ],
   "source": [
    "number1=10\n",
    "print(number1)"
   ]
  },
  {
   "cell_type": "markdown",
   "id": "c77f129c",
   "metadata": {},
   "source": [
    "### HEADING USING ASHES SPACE"
   ]
  },
  {
   "cell_type": "markdown",
   "id": "1ae36140",
   "metadata": {},
   "source": [
    "# python  using (#)"
   ]
  },
  {
   "cell_type": "markdown",
   "id": "fdca895e",
   "metadata": {},
   "source": [
    "## python using(##)\n"
   ]
  },
  {
   "cell_type": "markdown",
   "id": "659fab66",
   "metadata": {},
   "source": [
    "### python using (###)"
   ]
  },
  {
   "cell_type": "markdown",
   "id": "cec2ee7d",
   "metadata": {},
   "source": [
    "#### python using(####)"
   ]
  },
  {
   "cell_type": "markdown",
   "id": "d10870a5",
   "metadata": {},
   "source": [
    "##### python using (#####)"
   ]
  },
  {
   "cell_type": "markdown",
   "id": "bf4c1f8d",
   "metadata": {},
   "source": [
    "### python is a language"
   ]
  },
  {
   "cell_type": "markdown",
   "id": "a051f386",
   "metadata": {},
   "source": [
    "> versatile\n",
    "> hardware language"
   ]
  },
  {
   "cell_type": "markdown",
   "id": "c920df90",
   "metadata": {},
   "source": [
    "### text heighlight  using backtick's(`)"
   ]
  },
  {
   "cell_type": "markdown",
   "id": "96350057",
   "metadata": {},
   "source": [
    " Iam a good `girl`"
   ]
  },
  {
   "cell_type": "markdown",
   "id": "bc1e89af",
   "metadata": {},
   "source": [
    "### using horizontal rule using (----)"
   ]
  },
  {
   "cell_type": "markdown",
   "id": "f854ae5f",
   "metadata": {},
   "source": [
    "python is good"
   ]
  },
  {
   "cell_type": "markdown",
   "id": "f024d8d3",
   "metadata": {},
   "source": [
    "python is easy"
   ]
  },
  {
   "cell_type": "markdown",
   "id": "194facf9",
   "metadata": {},
   "source": [
    "----"
   ]
  },
  {
   "cell_type": "markdown",
   "id": "42c508dc",
   "metadata": {},
   "source": [
    "### text in bold using(** **)"
   ]
  },
  {
   "cell_type": "markdown",
   "id": "5738bbe3",
   "metadata": {},
   "source": [
    "python for **data science**"
   ]
  },
  {
   "cell_type": "markdown",
   "id": "beb185dc",
   "metadata": {},
   "source": [
    "### text in italics using(*  *)"
   ]
  },
  {
   "cell_type": "markdown",
   "id": "dd2824e2",
   "metadata": {},
   "source": [
    "python for *data science*"
   ]
  },
  {
   "cell_type": "markdown",
   "id": "eac6838e",
   "metadata": {},
   "source": [
    "## LISTS these or 2 types"
   ]
  },
  {
   "cell_type": "markdown",
   "id": "513a5fdf",
   "metadata": {},
   "source": [
    "### unordered list using( * , - , + )"
   ]
  },
  {
   "cell_type": "markdown",
   "id": "4b389d37",
   "metadata": {},
   "source": [
    "+ data types\n",
    "- arithmatic\n",
    "* logical"
   ]
  },
  {
   "cell_type": "markdown",
   "id": "dc1eb57b",
   "metadata": {},
   "source": [
    "### ordered list using (numbers)"
   ]
  },
  {
   "cell_type": "markdown",
   "id": "efe9ff08",
   "metadata": {},
   "source": [
    "1 boolean"
   ]
  },
  {
   "cell_type": "markdown",
   "id": "bb00d290",
   "metadata": {},
   "source": [
    "2 bitwise"
   ]
  },
  {
   "cell_type": "markdown",
   "id": "70760b29",
   "metadata": {},
   "source": [
    "3 relational"
   ]
  },
  {
   "cell_type": "markdown",
   "id": "0d1f5dd2",
   "metadata": {},
   "source": [
    "## hyper text [] () type the side 2nd bracket in url code "
   ]
  },
  {
   "cell_type": "markdown",
   "id": "e38b67af",
   "metadata": {},
   "source": [
    "[google](https://www.google.com/)"
   ]
  },
  {
   "cell_type": "markdown",
   "id": "ec3b22f2",
   "metadata": {},
   "source": [
    "[innomatics](https://online.innomatics.in/)"
   ]
  },
  {
   "cell_type": "markdown",
   "id": "5887e5ae",
   "metadata": {},
   "source": [
    "## images using [!] () type the side 2nd bracket in url code"
   ]
  },
  {
   "cell_type": "markdown",
   "id": "d2913ad1",
   "metadata": {},
   "source": [
    "[!python](https://www.google.com/search?rlz=1C1ONGR_enIN1057IN1057&sxsrf=APwXEdfOKbAkMcR-VLWM3-5wbP99JB_OXg:1686935618938&q=python&tbm=isch&sa=X&ved=2ahUKEwihls3ypMj_AhWoklYBHeXIDbAQ0pQJegQIDRAB&biw=1536&bih=746&dpr=1.25#imgrc=fFfvynwKgzdtoM)"
   ]
  },
  {
   "cell_type": "markdown",
   "id": "eb0365e2",
   "metadata": {},
   "source": [
    "[! radha krishna](https://www.google.com/search?rlz=1C1ONGR_enIN1057IN1057&sxsrf=APwXEddemeDNEXxfJL6i4A00GAX_VjzPfQ:1686935841776&si=AMnBZoEZ8aFftZu792frFYrnK9KQYGXRL3UTeDeHB9-uc0sfFQcEaP0I0mJxmJ9UEKDtQo-jxG2VH5D2-LonqN-40XibL7MRbmBpiNUq-1hcZi_EizosCnczMRlCwua2tHJ4F9r94nM0Q2sRrOuEC9WmbFbNwiImZvDZ1Uq3IuXCVEtqw2dvAh97K9t6-X75V19puEdogotNTrP1qZOn-q65o0RP5JQYesaG66VKuOZaSEgQKxe8ygfuooxIppxLgiSP20K8LUxUieHzcWMy0sW_uLI3F-gCTa4FSF3zba8NvnywBcRSjAcVOI48PTcTPPBfzTUfMi7ija9cG4QUlSrKJQP_Med4oA%3D%3D&q=Radhakrishn:+Punar+Milan&sa=X&ved=2ahUKEwjpjO7cpcj_AhUtp1YBHT89D9UQs9oBKAJ6BAgcEAQ&biw=1536&bih=746&dpr=1.25)"
   ]
  },
  {
   "cell_type": "markdown",
   "id": "47371088",
   "metadata": {},
   "source": [
    "[! mahadev](https://www.peakpx.com/en/hd-wallpaper-desktop-nkbxj)"
   ]
  },
  {
   "cell_type": "markdown",
   "id": "53c99c7b",
   "metadata": {},
   "source": [
    "## variable only contain (alphabets,numbers,underscore)"
   ]
  },
  {
   "cell_type": "code",
   "execution_count": 4,
   "id": "1f8c26e5",
   "metadata": {},
   "outputs": [
    {
     "name": "stdout",
     "output_type": "stream",
     "text": [
      "shikar\n"
     ]
    }
   ],
   "source": [
    "first_name='shikar'\n",
    "print('shikar')"
   ]
  },
  {
   "cell_type": "code",
   "execution_count": 5,
   "id": "908c10ef",
   "metadata": {},
   "outputs": [
    {
     "name": "stdout",
     "output_type": "stream",
     "text": [
      "shikarDawanKumar\n"
     ]
    }
   ],
   "source": [
    "firstName='shikarDawanKumar'\n",
    "print('shikarDawanKumar')"
   ]
  },
  {
   "cell_type": "code",
   "execution_count": 6,
   "id": "50d638c8",
   "metadata": {},
   "outputs": [
    {
     "data": {
      "text/plain": [
       "int"
      ]
     },
     "execution_count": 6,
     "metadata": {},
     "output_type": "execute_result"
    }
   ],
   "source": [
    "number1=10\n",
    "number2=35.6\n",
    "type(number1)"
   ]
  },
  {
   "cell_type": "code",
   "execution_count": 7,
   "id": "443e6cbc",
   "metadata": {},
   "outputs": [
    {
     "data": {
      "text/plain": [
       "float"
      ]
     },
     "execution_count": 7,
     "metadata": {},
     "output_type": "execute_result"
    }
   ],
   "source": [
    "type(number2)"
   ]
  },
  {
   "cell_type": "code",
   "execution_count": 8,
   "id": "9217b1f2",
   "metadata": {},
   "outputs": [
    {
     "data": {
      "text/plain": [
       "int"
      ]
     },
     "execution_count": 8,
     "metadata": {},
     "output_type": "execute_result"
    }
   ],
   "source": [
    "type(number1)"
   ]
  },
  {
   "cell_type": "code",
   "execution_count": 9,
   "id": "e4c0c9ea",
   "metadata": {},
   "outputs": [
    {
     "data": {
      "text/plain": [
       "50.0"
      ]
     },
     "execution_count": 9,
     "metadata": {},
     "output_type": "execute_result"
    }
   ],
   "source": [
    "int ('30')\n",
    "float('50')"
   ]
  },
  {
   "cell_type": "code",
   "execution_count": 10,
   "id": "42de8896",
   "metadata": {},
   "outputs": [
    {
     "name": "stdout",
     "output_type": "stream",
     "text": [
      "number1\n"
     ]
    }
   ],
   "source": [
    "number1=10\n",
    "print(\"number1\")"
   ]
  },
  {
   "cell_type": "code",
   "execution_count": 11,
   "id": "18cdd985",
   "metadata": {},
   "outputs": [
    {
     "data": {
      "text/plain": [
       "100"
      ]
     },
     "execution_count": 11,
     "metadata": {},
     "output_type": "execute_result"
    }
   ],
   "source": [
    "num1=10\n",
    "num2=20\n",
    "num3=30\n",
    "num4=40\n",
    "add=num1+num2+num3+num4\n",
    "add"
   ]
  },
  {
   "cell_type": "code",
   "execution_count": 12,
   "id": "924959ab",
   "metadata": {},
   "outputs": [
    {
     "data": {
      "text/plain": [
       "60"
      ]
     },
     "execution_count": 12,
     "metadata": {},
     "output_type": "execute_result"
    }
   ],
   "source": [
    "num1,num2,num3=10,20,30\n",
    "add=num1+num2+num3\n",
    "add"
   ]
  },
  {
   "cell_type": "code",
   "execution_count": 13,
   "id": "adad0548",
   "metadata": {},
   "outputs": [
    {
     "data": {
      "text/plain": [
       "90"
      ]
     },
     "execution_count": 13,
     "metadata": {},
     "output_type": "execute_result"
    }
   ],
   "source": [
    "num1=num2=num3=30\n",
    "add=num1+num2+num3\n",
    "add"
   ]
  },
  {
   "cell_type": "markdown",
   "id": "15668ee4",
   "metadata": {},
   "source": [
    "### how to type variable"
   ]
  },
  {
   "cell_type": "code",
   "execution_count": 14,
   "id": "9ab41189",
   "metadata": {},
   "outputs": [],
   "source": [
    "num_=100\n",
    "_num=10"
   ]
  },
  {
   "cell_type": "markdown",
   "id": "8d755ab9",
   "metadata": {},
   "source": [
    "### this below keywords are not used in variable beacause it have some special meaning"
   ]
  },
  {
   "cell_type": "code",
   "execution_count": 15,
   "id": "5ee11bc8",
   "metadata": {},
   "outputs": [
    {
     "data": {
      "text/plain": [
       "2463019434512"
      ]
     },
     "execution_count": 15,
     "metadata": {},
     "output_type": "execute_result"
    }
   ],
   "source": [
    "num1=10\n",
    "num2=10\n",
    "id(num1)"
   ]
  },
  {
   "cell_type": "code",
   "execution_count": 16,
   "id": "6b6517b0",
   "metadata": {},
   "outputs": [
    {
     "data": {
      "text/plain": [
       "2463019434512"
      ]
     },
     "execution_count": 16,
     "metadata": {},
     "output_type": "execute_result"
    }
   ],
   "source": [
    "id(num2)"
   ]
  },
  {
   "cell_type": "markdown",
   "id": "64dbc95d",
   "metadata": {},
   "source": [
    "### type conversion"
   ]
  },
  {
   "cell_type": "code",
   "execution_count": 17,
   "id": "34691559",
   "metadata": {},
   "outputs": [
    {
     "name": "stdout",
     "output_type": "stream",
     "text": [
      "30\n",
      "30.0\n",
      "30\n"
     ]
    }
   ],
   "source": [
    "print (int(30))\n",
    "print (float(30))\n",
    "print (str(30))"
   ]
  },
  {
   "cell_type": "markdown",
   "id": "913c3c69",
   "metadata": {},
   "source": [
    "### in python,variable don't need to be declared (we don't need to say what kind of a variable it should hold) and they can change type &values mid-way"
   ]
  },
  {
   "cell_type": "code",
   "execution_count": 18,
   "id": "3351ea9e",
   "metadata": {},
   "outputs": [],
   "source": [
    "number1 = 10\n",
    "number2 = 33.5 "
   ]
  },
  {
   "cell_type": "code",
   "execution_count": 19,
   "id": "01bc04a4",
   "metadata": {},
   "outputs": [
    {
     "name": "stdout",
     "output_type": "stream",
     "text": [
      "Enter your age :10\n"
     ]
    },
    {
     "data": {
      "text/plain": [
       "10"
      ]
     },
     "execution_count": 19,
     "metadata": {},
     "output_type": "execute_result"
    }
   ],
   "source": [
    "age=int(input(\"Enter your age :\"))\n",
    "age"
   ]
  },
  {
   "cell_type": "code",
   "execution_count": 20,
   "id": "be096a31",
   "metadata": {},
   "outputs": [
    {
     "data": {
      "text/plain": [
       "int"
      ]
     },
     "execution_count": 20,
     "metadata": {},
     "output_type": "execute_result"
    }
   ],
   "source": [
    "type(age)"
   ]
  },
  {
   "cell_type": "code",
   "execution_count": 21,
   "id": "ffbf9efb",
   "metadata": {},
   "outputs": [
    {
     "data": {
      "text/plain": [
       "10"
      ]
     },
     "execution_count": 21,
     "metadata": {},
     "output_type": "execute_result"
    }
   ],
   "source": [
    "int(age)"
   ]
  },
  {
   "cell_type": "code",
   "execution_count": 22,
   "id": "593c5cc4",
   "metadata": {},
   "outputs": [
    {
     "data": {
      "text/plain": [
       "float"
      ]
     },
     "execution_count": 22,
     "metadata": {},
     "output_type": "execute_result"
    }
   ],
   "source": [
    "type(number2)"
   ]
  },
  {
   "cell_type": "code",
   "execution_count": 23,
   "id": "95b73330",
   "metadata": {},
   "outputs": [],
   "source": [
    "a=10\n",
    "b=True"
   ]
  },
  {
   "cell_type": "markdown",
   "id": "cfffe267",
   "metadata": {},
   "source": [
    "### a=10\n",
    "print(type(a))\n",
    "numa=True\n",
    "print(type(a))"
   ]
  },
  {
   "cell_type": "code",
   "execution_count": 24,
   "id": "07d3a9f2",
   "metadata": {},
   "outputs": [],
   "source": [
    "bool1=True\n",
    "bool2=False"
   ]
  },
  {
   "cell_type": "code",
   "execution_count": 25,
   "id": "d1c1f74f",
   "metadata": {},
   "outputs": [
    {
     "data": {
      "text/plain": [
       "bool"
      ]
     },
     "execution_count": 25,
     "metadata": {},
     "output_type": "execute_result"
    }
   ],
   "source": [
    "type(bool1)"
   ]
  },
  {
   "cell_type": "code",
   "execution_count": 26,
   "id": "cb7dc007",
   "metadata": {},
   "outputs": [
    {
     "name": "stdout",
     "output_type": "stream",
     "text": [
      "welcome to python\n",
      "python is fun\n"
     ]
    }
   ],
   "source": [
    "print(\"welcome to python\")\n",
    "print(\"python is fun\")"
   ]
  },
  {
   "cell_type": "code",
   "execution_count": 27,
   "id": "445ab2bf",
   "metadata": {},
   "outputs": [
    {
     "data": {
      "text/plain": [
       "bool"
      ]
     },
     "execution_count": 27,
     "metadata": {},
     "output_type": "execute_result"
    }
   ],
   "source": [
    "bool1 = True\n",
    "bool2 = False\n",
    "type(bool1)"
   ]
  },
  {
   "cell_type": "markdown",
   "id": "016badaf",
   "metadata": {},
   "source": [
    "## List based programs"
   ]
  },
  {
   "cell_type": "code",
   "execution_count": 28,
   "id": "0a553cec",
   "metadata": {},
   "outputs": [],
   "source": [
    "num1=10\n",
    "num2=20\n",
    "num3=30"
   ]
  },
  {
   "cell_type": "code",
   "execution_count": 29,
   "id": "65dc0157",
   "metadata": {},
   "outputs": [
    {
     "data": {
      "text/plain": [
       "[10, 20, 30, 40]"
      ]
     },
     "execution_count": 29,
     "metadata": {},
     "output_type": "execute_result"
    }
   ],
   "source": [
    "list1 = [10,20,30,40]\n",
    "list1"
   ]
  },
  {
   "cell_type": "code",
   "execution_count": 30,
   "id": "4bc4d952",
   "metadata": {},
   "outputs": [
    {
     "data": {
      "text/plain": [
       "['python', 'data', 'machine', 30]"
      ]
     },
     "execution_count": 30,
     "metadata": {},
     "output_type": "execute_result"
    }
   ],
   "source": [
    "list2=['python','data','machine',30]\n",
    "list2"
   ]
  },
  {
   "cell_type": "code",
   "execution_count": 31,
   "id": "f6b2d4d0",
   "metadata": {},
   "outputs": [
    {
     "data": {
      "text/plain": [
       "[23.6, 55.8, 456.78]"
      ]
     },
     "execution_count": 31,
     "metadata": {},
     "output_type": "execute_result"
    }
   ],
   "source": [
    "list3 = [23.6,55.8,456.78]\n",
    "list3"
   ]
  },
  {
   "cell_type": "code",
   "execution_count": 32,
   "id": "832d7030",
   "metadata": {},
   "outputs": [
    {
     "data": {
      "text/plain": [
       "[10, 40, 78, 78.9, 'machine', 'python', [10, 50, 70], True]"
      ]
     },
     "execution_count": 32,
     "metadata": {},
     "output_type": "execute_result"
    }
   ],
   "source": [
    "mixed_list = [10,40,78,78.9,'machine','python',[10,50,70],True]\n",
    "mixed_list"
   ]
  },
  {
   "cell_type": "code",
   "execution_count": 33,
   "id": "5b1667ec",
   "metadata": {},
   "outputs": [
    {
     "data": {
      "text/plain": [
       "list"
      ]
     },
     "execution_count": 33,
     "metadata": {},
     "output_type": "execute_result"
    }
   ],
   "source": [
    "list1=[]\n",
    "type(list1)"
   ]
  },
  {
   "cell_type": "markdown",
   "id": "c342e44f",
   "metadata": {},
   "source": [
    " #### Indexing a list"
   ]
  },
  {
   "cell_type": "code",
   "execution_count": 34,
   "id": "e8334f20",
   "metadata": {},
   "outputs": [
    {
     "data": {
      "text/plain": [
       "[10, 40, 78, 78.9, 'machine', 'python', [10, 50, 70], True]"
      ]
     },
     "execution_count": 34,
     "metadata": {},
     "output_type": "execute_result"
    }
   ],
   "source": [
    "mixed_list = [10,40,78,78.9,'machine','python',[10,50,70],True]\n",
    "mixed_list"
   ]
  },
  {
   "cell_type": "code",
   "execution_count": 35,
   "id": "6abe8f95",
   "metadata": {},
   "outputs": [
    {
     "data": {
      "text/plain": [
       "'machine'"
      ]
     },
     "execution_count": 35,
     "metadata": {},
     "output_type": "execute_result"
    }
   ],
   "source": [
    "mixed_list[4] # start the indexing value is 0,1,....."
   ]
  },
  {
   "cell_type": "code",
   "execution_count": 36,
   "id": "6f5e40bd",
   "metadata": {},
   "outputs": [
    {
     "data": {
      "text/plain": [
       "[10, 50, 70]"
      ]
     },
     "execution_count": 36,
     "metadata": {},
     "output_type": "execute_result"
    }
   ],
   "source": [
    "mixed_list[6]"
   ]
  },
  {
   "cell_type": "markdown",
   "id": "5dc961a1",
   "metadata": {},
   "source": [
    "#### negative indexing"
   ]
  },
  {
   "cell_type": "code",
   "execution_count": 37,
   "id": "1d52a7e8",
   "metadata": {},
   "outputs": [
    {
     "data": {
      "text/plain": [
       "[10, 50, 70]"
      ]
     },
     "execution_count": 37,
     "metadata": {},
     "output_type": "execute_result"
    }
   ],
   "source": [
    "mixed_list[-2]"
   ]
  },
  {
   "cell_type": "code",
   "execution_count": 38,
   "id": "103f287e",
   "metadata": {},
   "outputs": [
    {
     "data": {
      "text/plain": [
       "True"
      ]
     },
     "execution_count": 38,
     "metadata": {},
     "output_type": "execute_result"
    }
   ],
   "source": [
    "mixed_list[-1]"
   ]
  },
  {
   "cell_type": "code",
   "execution_count": 39,
   "id": "75e2cb53",
   "metadata": {},
   "outputs": [
    {
     "data": {
      "text/plain": [
       "[10, 40, 70, 78.9, 'machine', 'python', [10, 50, 70], True]"
      ]
     },
     "execution_count": 39,
     "metadata": {},
     "output_type": "execute_result"
    }
   ],
   "source": [
    "mixed_list[2]=70 ## if change any number or anything or replace\n",
    "mixed_list"
   ]
  },
  {
   "cell_type": "code",
   "execution_count": 40,
   "id": "4ec88a8e",
   "metadata": {},
   "outputs": [
    {
     "data": {
      "text/plain": [
       "50"
      ]
     },
     "execution_count": 40,
     "metadata": {},
     "output_type": "execute_result"
    }
   ],
   "source": [
    "mixed_list[6][1] # in this 6 indicates index number and 1 is indicates the inner list index number"
   ]
  },
  {
   "cell_type": "code",
   "execution_count": 41,
   "id": "d363adae",
   "metadata": {},
   "outputs": [
    {
     "data": {
      "text/plain": [
       "'i'"
      ]
     },
     "execution_count": 41,
     "metadata": {},
     "output_type": "execute_result"
    }
   ],
   "source": [
    "mixed_list[4][4]"
   ]
  },
  {
   "cell_type": "code",
   "execution_count": 42,
   "id": "845bf336",
   "metadata": {},
   "outputs": [
    {
     "data": {
      "text/plain": [
       "'ch'"
      ]
     },
     "execution_count": 42,
     "metadata": {},
     "output_type": "execute_result"
    }
   ],
   "source": [
    "mixed_list[4][2:4]    # it also use slicing"
   ]
  },
  {
   "cell_type": "code",
   "execution_count": 43,
   "id": "55b0c54e",
   "metadata": {},
   "outputs": [
    {
     "data": {
      "text/plain": [
       "[10, 40, 70, 78.9, 'machine', 'python', [10, 35, 70], True]"
      ]
     },
     "execution_count": 43,
     "metadata": {},
     "output_type": "execute_result"
    }
   ],
   "source": [
    "mixed_list[6][1]=35   ## we can change also inner list elements\n",
    "mixed_list"
   ]
  },
  {
   "cell_type": "code",
   "execution_count": 44,
   "id": "09ce43bb",
   "metadata": {},
   "outputs": [
    {
     "data": {
      "text/plain": [
       "[40, 70, 78.9, 'machine']"
      ]
     },
     "execution_count": 44,
     "metadata": {},
     "output_type": "execute_result"
    }
   ],
   "source": [
    "mixed_list[1:5]"
   ]
  },
  {
   "cell_type": "code",
   "execution_count": 45,
   "id": "7dc5cc2b",
   "metadata": {},
   "outputs": [
    {
     "data": {
      "text/plain": [
       "[True, [10, 35, 70], 'python', 'machine', 78.9, 70, 40, 10]"
      ]
     },
     "execution_count": 45,
     "metadata": {},
     "output_type": "execute_result"
    }
   ],
   "source": [
    "mixed_list[::-1] ## reverse order of whole list"
   ]
  },
  {
   "cell_type": "code",
   "execution_count": 46,
   "id": "005d750a",
   "metadata": {},
   "outputs": [
    {
     "data": {
      "text/plain": [
       "[10, 70, 'machine', [10, 35, 70]]"
      ]
     },
     "execution_count": 46,
     "metadata": {},
     "output_type": "execute_result"
    }
   ],
   "source": [
    "mixed_list[0:8:2]"
   ]
  },
  {
   "cell_type": "markdown",
   "id": "912dfbde",
   "metadata": {},
   "source": [
    " ### Built-in Functions"
   ]
  },
  {
   "cell_type": "markdown",
   "id": "474703a6",
   "metadata": {},
   "source": [
    "##### Adding values to a list"
   ]
  },
  {
   "cell_type": "markdown",
   "id": "dac2b043",
   "metadata": {},
   "source": [
    "#### 1.append()\n",
    "- `append()` is used to add a single element to the end of the list"
   ]
  },
  {
   "cell_type": "code",
   "execution_count": 47,
   "id": "ceae68ad",
   "metadata": {},
   "outputs": [
    {
     "data": {
      "text/plain": [
       "[11, 12, 13, 33, 42, 54, 16, 97]"
      ]
     },
     "execution_count": 47,
     "metadata": {},
     "output_type": "execute_result"
    }
   ],
   "source": [
    "list1 =[11,12,13,33,42,54,16] # add one element to the list\n",
    "list1.append(97)\n",
    "list1"
   ]
  },
  {
   "cell_type": "code",
   "execution_count": 48,
   "id": "a827757e",
   "metadata": {},
   "outputs": [
    {
     "data": {
      "text/plain": [
       "[11, 12, 13, 33, 42, 54, 16, 97]"
      ]
     },
     "execution_count": 48,
     "metadata": {},
     "output_type": "execute_result"
    }
   ],
   "source": [
    "list1"
   ]
  },
  {
   "cell_type": "code",
   "execution_count": 49,
   "id": "40b08be9",
   "metadata": {},
   "outputs": [],
   "source": [
    "list2=[86,94,77,81]"
   ]
  },
  {
   "cell_type": "code",
   "execution_count": 50,
   "id": "5f799b15",
   "metadata": {},
   "outputs": [
    {
     "data": {
      "text/plain": [
       "[11, 12, 13, 33, 42, 54, 16, 97, [86, 94, 77, 81]]"
      ]
     },
     "execution_count": 50,
     "metadata": {},
     "output_type": "execute_result"
    }
   ],
   "source": [
    "list1.append(list2)\n",
    "list1"
   ]
  },
  {
   "cell_type": "markdown",
   "id": "822ec599",
   "metadata": {},
   "source": [
    "#### 2.extend()\n",
    "- `extend()` is used to extend our current list with another list"
   ]
  },
  {
   "cell_type": "code",
   "execution_count": 51,
   "id": "40e3646e",
   "metadata": {},
   "outputs": [
    {
     "data": {
      "text/plain": [
       "[11, 12, 13, 33, 42, 54, 16, 97, 86, 94, 77, 81]"
      ]
     },
     "execution_count": 51,
     "metadata": {},
     "output_type": "execute_result"
    }
   ],
   "source": [
    "# add multiple elements to the list\n",
    "list1=[11,12,13,33,42,54,16,97]\n",
    "list2=[86,94,77,81]\n",
    "list1.extend(list2)\n",
    "list1"
   ]
  },
  {
   "cell_type": "markdown",
   "id": "fb03a960",
   "metadata": {},
   "source": [
    "### changing values in a list\n",
    "- changing values in a list is pretty straight-forward.index the value you're trying to change and reassign it with the replacement"
   ]
  },
  {
   "cell_type": "markdown",
   "id": "08ec13da",
   "metadata": {},
   "source": [
    " > 3.insert()\n",
    "- `insert()` to insert the element in any place in given list"
   ]
  },
  {
   "cell_type": "code",
   "execution_count": 52,
   "id": "135a96bc",
   "metadata": {},
   "outputs": [
    {
     "data": {
      "text/plain": [
       "[11, 12, 13, 14, 33, 42, 54, 16, 97, 86, 94, 77, 81]"
      ]
     },
     "execution_count": 52,
     "metadata": {},
     "output_type": "execute_result"
    }
   ],
   "source": [
    "# add one element at a particular location in the list\n",
    "list1.insert(3,14) # 3 is the location and 14 is the insert element\n",
    "list1"
   ]
  },
  {
   "cell_type": "code",
   "execution_count": 53,
   "id": "176db2ef",
   "metadata": {},
   "outputs": [
    {
     "data": {
      "text/plain": [
       "[10, 20, 30, 70, 80, 90]"
      ]
     },
     "execution_count": 53,
     "metadata": {},
     "output_type": "execute_result"
    }
   ],
   "source": [
    "list3=[10,20,30]\n",
    "list4=[70,80,90]\n",
    "list5=list3 + list4 ## concatination process this means link together into a chain\n",
    "list5"
   ]
  },
  {
   "cell_type": "code",
   "execution_count": 54,
   "id": "d92385cc",
   "metadata": {},
   "outputs": [
    {
     "data": {
      "text/plain": [
       "[10, 20, 30]"
      ]
     },
     "execution_count": 54,
     "metadata": {},
     "output_type": "execute_result"
    }
   ],
   "source": [
    "list3"
   ]
  },
  {
   "cell_type": "code",
   "execution_count": 55,
   "id": "28613064",
   "metadata": {},
   "outputs": [
    {
     "data": {
      "text/plain": [
       "[70, 80, 90]"
      ]
     },
     "execution_count": 55,
     "metadata": {},
     "output_type": "execute_result"
    }
   ],
   "source": [
    "list4"
   ]
  },
  {
   "cell_type": "code",
   "execution_count": 56,
   "id": "a2a202a0",
   "metadata": {},
   "outputs": [
    {
     "data": {
      "text/plain": [
       "[10, 20, 30, 70, 80, 90]"
      ]
     },
     "execution_count": 56,
     "metadata": {},
     "output_type": "execute_result"
    }
   ],
   "source": [
    "list5"
   ]
  },
  {
   "cell_type": "markdown",
   "id": "cafe006a",
   "metadata": {},
   "source": [
    "##### Removing values from the list"
   ]
  },
  {
   "cell_type": "markdown",
   "id": "b9e0998e",
   "metadata": {},
   "source": [
    "### pop()\n",
    "- `pop()` is used to remove a value in the list.based on its index position.if no index is mentioned.pop()removes the last value"
   ]
  },
  {
   "cell_type": "code",
   "execution_count": 57,
   "id": "96bc808a",
   "metadata": {},
   "outputs": [],
   "source": [
    "list5=[10,70,40,50,90,30]"
   ]
  },
  {
   "cell_type": "code",
   "execution_count": 58,
   "id": "dbc68410",
   "metadata": {},
   "outputs": [
    {
     "data": {
      "text/plain": [
       "40"
      ]
     },
     "execution_count": 58,
     "metadata": {},
     "output_type": "execute_result"
    }
   ],
   "source": [
    "#remove any element from the list using its index value\n",
    "list5.pop(2)"
   ]
  },
  {
   "cell_type": "code",
   "execution_count": 59,
   "id": "334fd802",
   "metadata": {},
   "outputs": [
    {
     "data": {
      "text/plain": [
       "[10, 70, 50, 90, 30]"
      ]
     },
     "execution_count": 59,
     "metadata": {},
     "output_type": "execute_result"
    }
   ],
   "source": [
    "list5"
   ]
  },
  {
   "cell_type": "markdown",
   "id": "807a64fe",
   "metadata": {},
   "source": [
    "### remove()\n",
    " - `remove()` to remove particular element in the list"
   ]
  },
  {
   "cell_type": "code",
   "execution_count": 60,
   "id": "1c6bcb00",
   "metadata": {},
   "outputs": [
    {
     "data": {
      "text/plain": [
       "[10, 50, 90, 30]"
      ]
     },
     "execution_count": 60,
     "metadata": {},
     "output_type": "execute_result"
    }
   ],
   "source": [
    "#remove any particular element from the list\n",
    "list5.remove(70)\n",
    "list5"
   ]
  },
  {
   "cell_type": "markdown",
   "id": "f030b91f",
   "metadata": {},
   "source": [
    "### del()\n",
    "- `del()` to delete number of elements at a time in the list"
   ]
  },
  {
   "cell_type": "code",
   "execution_count": 61,
   "id": "082df3e6",
   "metadata": {},
   "outputs": [],
   "source": [
    "list6=[10,20,30,40,50,60,70,80]"
   ]
  },
  {
   "cell_type": "code",
   "execution_count": 62,
   "id": "6be1f88a",
   "metadata": {},
   "outputs": [],
   "source": [
    "del list6[3]"
   ]
  },
  {
   "cell_type": "code",
   "execution_count": 63,
   "id": "f3d9f3c5",
   "metadata": {},
   "outputs": [
    {
     "data": {
      "text/plain": [
       "[10, 20, 30, 50, 60, 70, 80]"
      ]
     },
     "execution_count": 63,
     "metadata": {},
     "output_type": "execute_result"
    }
   ],
   "source": [
    "list6"
   ]
  },
  {
   "cell_type": "code",
   "execution_count": 64,
   "id": "3a68190b",
   "metadata": {},
   "outputs": [
    {
     "data": {
      "text/plain": [
       "[10, 20, 30]"
      ]
     },
     "execution_count": 64,
     "metadata": {},
     "output_type": "execute_result"
    }
   ],
   "source": [
    "del list6[3:7]\n",
    "list6"
   ]
  },
  {
   "cell_type": "markdown",
   "id": "972363fb",
   "metadata": {},
   "source": [
    "### clear()\n",
    "- `clear()` to clear all the elements in the list(like empty list)"
   ]
  },
  {
   "cell_type": "code",
   "execution_count": 65,
   "id": "d916d921",
   "metadata": {},
   "outputs": [
    {
     "data": {
      "text/plain": [
       "[]"
      ]
     },
     "execution_count": 65,
     "metadata": {},
     "output_type": "execute_result"
    }
   ],
   "source": [
    "list6.clear()\n",
    "list6"
   ]
  },
  {
   "cell_type": "markdown",
   "id": "b1c02ac7",
   "metadata": {},
   "source": [
    "### count()\n",
    "- to look at the number of occurences of an element in the list"
   ]
  },
  {
   "cell_type": "code",
   "execution_count": 66,
   "id": "1f7f5269",
   "metadata": {},
   "outputs": [],
   "source": [
    "list1=[10,10,10,20,20,20,30,40,45]"
   ]
  },
  {
   "cell_type": "code",
   "execution_count": 67,
   "id": "473386e7",
   "metadata": {},
   "outputs": [
    {
     "data": {
      "text/plain": [
       "3"
      ]
     },
     "execution_count": 67,
     "metadata": {},
     "output_type": "execute_result"
    }
   ],
   "source": [
    "list1.count(20)"
   ]
  },
  {
   "cell_type": "markdown",
   "id": "1072ba29",
   "metadata": {},
   "source": [
    "### index()\n",
    "- to look at the index position of the first occurence of an element"
   ]
  },
  {
   "cell_type": "code",
   "execution_count": 68,
   "id": "6d5184ff",
   "metadata": {},
   "outputs": [
    {
     "data": {
      "text/plain": [
       "[10, 10, 10, 20, 20, 20, 30, 40, 45]"
      ]
     },
     "execution_count": 68,
     "metadata": {},
     "output_type": "execute_result"
    }
   ],
   "source": [
    "list1"
   ]
  },
  {
   "cell_type": "code",
   "execution_count": 69,
   "id": "aa90d3a8",
   "metadata": {},
   "outputs": [
    {
     "data": {
      "text/plain": [
       "6"
      ]
     },
     "execution_count": 69,
     "metadata": {},
     "output_type": "execute_result"
    }
   ],
   "source": [
    "list1.index(30)"
   ]
  },
  {
   "cell_type": "code",
   "execution_count": 70,
   "id": "6ac32da9",
   "metadata": {},
   "outputs": [
    {
     "data": {
      "text/plain": [
       "3"
      ]
     },
     "execution_count": 70,
     "metadata": {},
     "output_type": "execute_result"
    }
   ],
   "source": [
    "list1.index(20) # in this index it can only shows the first  element index number "
   ]
  },
  {
   "cell_type": "markdown",
   "id": "4655e2e4",
   "metadata": {},
   "source": [
    "### reverse()\n",
    "- it is reverse function of given list"
   ]
  },
  {
   "cell_type": "code",
   "execution_count": 71,
   "id": "75d51ea6",
   "metadata": {},
   "outputs": [
    {
     "data": {
      "text/plain": [
       "[10, 10, 10, 20, 20, 20, 30, 40, 45]"
      ]
     },
     "execution_count": 71,
     "metadata": {},
     "output_type": "execute_result"
    }
   ],
   "source": [
    "list1"
   ]
  },
  {
   "cell_type": "code",
   "execution_count": 72,
   "id": "3564173e",
   "metadata": {},
   "outputs": [
    {
     "data": {
      "text/plain": [
       "[45, 40, 30, 20, 20, 20, 10, 10, 10]"
      ]
     },
     "execution_count": 72,
     "metadata": {},
     "output_type": "execute_result"
    }
   ],
   "source": [
    "list1[::-1]"
   ]
  },
  {
   "cell_type": "code",
   "execution_count": 73,
   "id": "ce47974e",
   "metadata": {},
   "outputs": [
    {
     "data": {
      "text/plain": [
       "[45, 40, 30, 20, 20, 20, 10, 10, 10]"
      ]
     },
     "execution_count": 73,
     "metadata": {},
     "output_type": "execute_result"
    }
   ],
   "source": [
    "list1.reverse()\n",
    "list1"
   ]
  },
  {
   "cell_type": "markdown",
   "id": "671bc285",
   "metadata": {},
   "source": [
    "### sort()\n",
    "- sequence of the given list (@ it can perform only integer and float values not strings)"
   ]
  },
  {
   "cell_type": "code",
   "execution_count": 74,
   "id": "3c17e6f0",
   "metadata": {},
   "outputs": [],
   "source": [
    "list2=[6,2,14,11,1,3,67]"
   ]
  },
  {
   "cell_type": "code",
   "execution_count": 75,
   "id": "92b9c1b8",
   "metadata": {},
   "outputs": [
    {
     "data": {
      "text/plain": [
       "[1, 2, 3, 6, 11, 14, 67]"
      ]
     },
     "execution_count": 75,
     "metadata": {},
     "output_type": "execute_result"
    }
   ],
   "source": [
    "list2.sort() # it can show the assending order\n",
    "list2"
   ]
  },
  {
   "cell_type": "code",
   "execution_count": 76,
   "id": "9bd97882",
   "metadata": {},
   "outputs": [
    {
     "data": {
      "text/plain": [
       "[67, 14, 11, 6, 3, 2, 1]"
      ]
     },
     "execution_count": 76,
     "metadata": {},
     "output_type": "execute_result"
    }
   ],
   "source": [
    "list2.sort(reverse=True)# it can show the descending order\n",
    "list2"
   ]
  },
  {
   "cell_type": "code",
   "execution_count": 77,
   "id": "ea44926a",
   "metadata": {},
   "outputs": [
    {
     "data": {
      "text/plain": [
       "[1, 2, 3, 6, 11, 14, 67]"
      ]
     },
     "execution_count": 77,
     "metadata": {},
     "output_type": "execute_result"
    }
   ],
   "source": [
    "list3=[6,2,14,11,1,3,67]\n",
    "sorted(list3) # again create original list .it can only temporarly view"
   ]
  },
  {
   "cell_type": "code",
   "execution_count": 78,
   "id": "090bd398",
   "metadata": {},
   "outputs": [
    {
     "data": {
      "text/plain": [
       "[6, 2, 14, 11, 1, 3, 67]"
      ]
     },
     "execution_count": 78,
     "metadata": {},
     "output_type": "execute_result"
    }
   ],
   "source": [
    "list3"
   ]
  },
  {
   "cell_type": "markdown",
   "id": "b644a06f",
   "metadata": {},
   "source": [
    "### sorted()"
   ]
  },
  {
   "cell_type": "code",
   "execution_count": 79,
   "id": "12c92588",
   "metadata": {},
   "outputs": [
    {
     "data": {
      "text/plain": [
       "[1, 2, 3, 6, 11, 14, 67]"
      ]
     },
     "execution_count": 79,
     "metadata": {},
     "output_type": "execute_result"
    }
   ],
   "source": [
    "#if create perminantely view that time used\n",
    "sorted_list=sorted(list3)\n",
    "sorted_list"
   ]
  },
  {
   "cell_type": "markdown",
   "id": "274f82ce",
   "metadata": {},
   "source": [
    "### extra logic"
   ]
  },
  {
   "cell_type": "code",
   "execution_count": 80,
   "id": "76b5c3da",
   "metadata": {},
   "outputs": [],
   "source": [
    "list8 = [11,12,13,14,15,16]"
   ]
  },
  {
   "cell_type": "code",
   "execution_count": 81,
   "id": "92177c73",
   "metadata": {},
   "outputs": [],
   "source": [
    "removed_element=list8.remove(13)\n",
    "removed_element # it can be show error because it can not back"
   ]
  },
  {
   "cell_type": "code",
   "execution_count": 82,
   "id": "3e6d5e9a",
   "metadata": {},
   "outputs": [
    {
     "data": {
      "text/plain": [
       "[11, 12, 14, 15, 16]"
      ]
     },
     "execution_count": 82,
     "metadata": {},
     "output_type": "execute_result"
    }
   ],
   "source": [
    "list8"
   ]
  },
  {
   "cell_type": "code",
   "execution_count": 83,
   "id": "2d57ea46",
   "metadata": {},
   "outputs": [],
   "source": [
    "removed_element=list8.pop(2)"
   ]
  },
  {
   "cell_type": "code",
   "execution_count": 84,
   "id": "9bca5f23",
   "metadata": {},
   "outputs": [
    {
     "data": {
      "text/plain": [
       "14"
      ]
     },
     "execution_count": 84,
     "metadata": {},
     "output_type": "execute_result"
    }
   ],
   "source": [
    "removed_element   #it can be back to the element"
   ]
  },
  {
   "cell_type": "markdown",
   "id": "94a3fcc8",
   "metadata": {},
   "source": [
    "### some more list methods\n",
    "if we want to preserve our existing list the below assignment is not correct since it just creates new list which shares the memory hence modification on one list will directly impact the other list"
   ]
  },
  {
   "cell_type": "code",
   "execution_count": 85,
   "id": "b189588d",
   "metadata": {},
   "outputs": [
    {
     "data": {
      "text/plain": [
       "False"
      ]
     },
     "execution_count": 85,
     "metadata": {},
     "output_type": "execute_result"
    }
   ],
   "source": [
    "list1=[11,12,13]\n",
    "list2=[11,12,13]\n",
    "list1 is list2"
   ]
  },
  {
   "cell_type": "code",
   "execution_count": 86,
   "id": "ec4ffb12",
   "metadata": {},
   "outputs": [
    {
     "data": {
      "text/plain": [
       "True"
      ]
     },
     "execution_count": 86,
     "metadata": {},
     "output_type": "execute_result"
    }
   ],
   "source": [
    "list1=[11,12,13]\n",
    "list2=list1\n",
    "list1 is list2"
   ]
  },
  {
   "cell_type": "code",
   "execution_count": 87,
   "id": "27245ec8",
   "metadata": {},
   "outputs": [],
   "source": [
    "list1.append(14)"
   ]
  },
  {
   "cell_type": "code",
   "execution_count": 88,
   "id": "2e1d2f8f",
   "metadata": {},
   "outputs": [
    {
     "name": "stdout",
     "output_type": "stream",
     "text": [
      "[11, 12, 13, 14]\n",
      "[11, 12, 13, 14]\n"
     ]
    }
   ],
   "source": [
    "print(list1)\n",
    "print(list2)"
   ]
  },
  {
   "cell_type": "code",
   "execution_count": 89,
   "id": "c24e78b5",
   "metadata": {},
   "outputs": [],
   "source": [
    "list3=[11,12,13]\n",
    "list4=list3\n",
    "list5=list4"
   ]
  },
  {
   "cell_type": "code",
   "execution_count": 90,
   "id": "8d384511",
   "metadata": {},
   "outputs": [
    {
     "data": {
      "text/plain": [
       "2463129155648"
      ]
     },
     "execution_count": 90,
     "metadata": {},
     "output_type": "execute_result"
    }
   ],
   "source": [
    "id(list1)"
   ]
  },
  {
   "cell_type": "code",
   "execution_count": 91,
   "id": "10f86b68",
   "metadata": {},
   "outputs": [
    {
     "data": {
      "text/plain": [
       "2463129155648"
      ]
     },
     "execution_count": 91,
     "metadata": {},
     "output_type": "execute_result"
    }
   ],
   "source": [
    "id(list2)"
   ]
  },
  {
   "cell_type": "code",
   "execution_count": 92,
   "id": "ecbb7aa3",
   "metadata": {},
   "outputs": [],
   "source": [
    "num1=10\n",
    "num2=10"
   ]
  },
  {
   "cell_type": "code",
   "execution_count": 93,
   "id": "5b81fc1c",
   "metadata": {},
   "outputs": [
    {
     "data": {
      "text/plain": [
       "2463019434512"
      ]
     },
     "execution_count": 93,
     "metadata": {},
     "output_type": "execute_result"
    }
   ],
   "source": [
    "id(num1)"
   ]
  },
  {
   "cell_type": "code",
   "execution_count": 94,
   "id": "7bc4a7a9",
   "metadata": {},
   "outputs": [
    {
     "data": {
      "text/plain": [
       "2463019434512"
      ]
     },
     "execution_count": 94,
     "metadata": {},
     "output_type": "execute_result"
    }
   ],
   "source": [
    "id(num2)"
   ]
  },
  {
   "cell_type": "markdown",
   "id": "21ed07ba",
   "metadata": {},
   "source": [
    "### deepcopy()"
   ]
  },
  {
   "cell_type": "code",
   "execution_count": 95,
   "id": "2e39d2d4",
   "metadata": {},
   "outputs": [],
   "source": [
    "import copy"
   ]
  },
  {
   "cell_type": "code",
   "execution_count": 96,
   "id": "56f2df18",
   "metadata": {},
   "outputs": [
    {
     "data": {
      "text/plain": [
       "False"
      ]
     },
     "execution_count": 96,
     "metadata": {},
     "output_type": "execute_result"
    }
   ],
   "source": [
    "list1=[1,2,3,4]\n",
    "list2=copy.copy(list1)\n",
    "list2 is list1         ## they are not identical"
   ]
  },
  {
   "cell_type": "code",
   "execution_count": 97,
   "id": "28cf85e3",
   "metadata": {},
   "outputs": [],
   "source": [
    "list2[2]=24"
   ]
  },
  {
   "cell_type": "code",
   "execution_count": 98,
   "id": "4e567093",
   "metadata": {},
   "outputs": [
    {
     "name": "stdout",
     "output_type": "stream",
     "text": [
      "[1, 2, 3, 4]\n",
      "[1, 2, 24, 4]\n"
     ]
    }
   ],
   "source": [
    "print(list1)\n",
    "print(list2)"
   ]
  },
  {
   "cell_type": "code",
   "execution_count": 99,
   "id": "a1a52bea",
   "metadata": {},
   "outputs": [],
   "source": [
    "list3=[1,2,3,4,[10,11]] #shallow copy is nothing but any inner list elements are changed automatically both list3 and list4 are changed that is the shallow copy\n",
    "list4=copy.copy(list3)   ##shallow copy\n",
    "#which means that if there any list inside tuple inside it is not able to copy proper them"
   ]
  },
  {
   "cell_type": "code",
   "execution_count": 100,
   "id": "5cd4af1c",
   "metadata": {},
   "outputs": [
    {
     "data": {
      "text/plain": [
       "[1, 2, 3, 4, [10, 11]]"
      ]
     },
     "execution_count": 100,
     "metadata": {},
     "output_type": "execute_result"
    }
   ],
   "source": [
    "list4"
   ]
  },
  {
   "cell_type": "code",
   "execution_count": 101,
   "id": "a9df1943",
   "metadata": {},
   "outputs": [],
   "source": [
    "list4[2]=23"
   ]
  },
  {
   "cell_type": "code",
   "execution_count": 102,
   "id": "b87d3fd8",
   "metadata": {},
   "outputs": [
    {
     "data": {
      "text/plain": [
       "[1, 2, 3, 4, [10, 11]]"
      ]
     },
     "execution_count": 102,
     "metadata": {},
     "output_type": "execute_result"
    }
   ],
   "source": [
    "list3"
   ]
  },
  {
   "cell_type": "code",
   "execution_count": 103,
   "id": "d4aa1b3b",
   "metadata": {},
   "outputs": [
    {
     "data": {
      "text/plain": [
       "[1, 2, 23, 4, [10, 11]]"
      ]
     },
     "execution_count": 103,
     "metadata": {},
     "output_type": "execute_result"
    }
   ],
   "source": [
    "list4"
   ]
  },
  {
   "cell_type": "code",
   "execution_count": 104,
   "id": "1df8b807",
   "metadata": {},
   "outputs": [
    {
     "data": {
      "text/plain": [
       "[1, 2, 23, 4, [100, 11]]"
      ]
     },
     "execution_count": 104,
     "metadata": {},
     "output_type": "execute_result"
    }
   ],
   "source": [
    "list4[4][0]=100\n",
    "list4"
   ]
  },
  {
   "cell_type": "code",
   "execution_count": 105,
   "id": "edafc5a8",
   "metadata": {},
   "outputs": [
    {
     "data": {
      "text/plain": [
       "[1, 2, 3, 4, [100, 11]]"
      ]
     },
     "execution_count": 105,
     "metadata": {},
     "output_type": "execute_result"
    }
   ],
   "source": [
    "list3"
   ]
  },
  {
   "cell_type": "code",
   "execution_count": 106,
   "id": "9b4760de",
   "metadata": {},
   "outputs": [],
   "source": [
    "list5=[1,2,3,4,[10,11]]#deep copy is nothing but any inner list elements are changed only a particular list elements only changed not both is that called deep copy\n",
    "list6=copy.deepcopy(list5) ##deep copy"
   ]
  },
  {
   "cell_type": "code",
   "execution_count": 107,
   "id": "23e29ae3",
   "metadata": {},
   "outputs": [],
   "source": [
    "list5[4][0]=100"
   ]
  },
  {
   "cell_type": "code",
   "execution_count": 108,
   "id": "25d9436f",
   "metadata": {},
   "outputs": [
    {
     "data": {
      "text/plain": [
       "[1, 2, 3, 4, [100, 11]]"
      ]
     },
     "execution_count": 108,
     "metadata": {},
     "output_type": "execute_result"
    }
   ],
   "source": [
    "list5"
   ]
  },
  {
   "cell_type": "code",
   "execution_count": 109,
   "id": "90a01b47",
   "metadata": {},
   "outputs": [
    {
     "data": {
      "text/plain": [
       "[1, 2, 3, 4, [10, 11]]"
      ]
     },
     "execution_count": 109,
     "metadata": {},
     "output_type": "execute_result"
    }
   ],
   "source": [
    "list6"
   ]
  },
  {
   "cell_type": "code",
   "execution_count": 110,
   "id": "b4866c16",
   "metadata": {},
   "outputs": [
    {
     "name": "stdout",
     "output_type": "stream",
     "text": [
      "[1, 4, 5, 7, [500, 8]]\n",
      "[1, 4, 5, 7, [500, 8]]\n"
     ]
    }
   ],
   "source": [
    "#shallow copy\n",
    "list1=[1,4,5,7,[90,8]]\n",
    "list2=copy.copy(list1)\n",
    "list2[4][0]=500\n",
    "print(list1)\n",
    "print(list2)"
   ]
  },
  {
   "cell_type": "code",
   "execution_count": 111,
   "id": "892e05ee",
   "metadata": {},
   "outputs": [
    {
     "name": "stdout",
     "output_type": "stream",
     "text": [
      "[1, 4, 5, 7, [90, 8]]\n",
      "[1, 4, 5, 7, [500, 8]]\n"
     ]
    }
   ],
   "source": [
    "#deep copy\n",
    "list1=[1,4,5,7,[90,8]]\n",
    "list2=copy.deepcopy(list1)\n",
    "list2[4][0]=500\n",
    "print(list1)\n",
    "print(list2)"
   ]
  },
  {
   "cell_type": "markdown",
   "id": "bf171880",
   "metadata": {},
   "source": [
    "## Tuple\n",
    "- Collection which can be indexed but immutable,(apple,250)\n",
    "- so once we declare the tuple,we can not edit the data\n",
    "- tuple will be declared using`()`"
   ]
  },
  {
   "cell_type": "code",
   "execution_count": 112,
   "id": "cfa4fdc8",
   "metadata": {},
   "outputs": [],
   "source": [
    "tuple1=(10,20,30,'python',[11,12,13],True,(33,44,55))# immutable means we can not changeble"
   ]
  },
  {
   "cell_type": "code",
   "execution_count": 113,
   "id": "7b8e797d",
   "metadata": {},
   "outputs": [],
   "source": [
    "password=('python','1234','abcdef') #tuple is flexible,likelist,secure,it can not change and replace"
   ]
  },
  {
   "cell_type": "code",
   "execution_count": 114,
   "id": "8a27788a",
   "metadata": {},
   "outputs": [
    {
     "data": {
      "text/plain": [
       "(10, 23, 34, 45, 56, 67)"
      ]
     },
     "execution_count": 114,
     "metadata": {},
     "output_type": "execute_result"
    }
   ],
   "source": [
    "list1=[10,23,34,45,56,67]\n",
    "tuple20=tuple(list1)\n",
    "tuple20      # conversion of list to tuple"
   ]
  },
  {
   "cell_type": "markdown",
   "id": "263ac895",
   "metadata": {},
   "source": [
    "### tuple declaration"
   ]
  },
  {
   "cell_type": "code",
   "execution_count": 115,
   "id": "6f48634e",
   "metadata": {},
   "outputs": [
    {
     "name": "stdout",
     "output_type": "stream",
     "text": [
      "(1, 4, 5)\n",
      "<class 'tuple'>\n"
     ]
    }
   ],
   "source": [
    "a=(1,4,5)\n",
    "print(a)\n",
    "print(type(a))"
   ]
  },
  {
   "cell_type": "code",
   "execution_count": 116,
   "id": "c31e5a5d",
   "metadata": {},
   "outputs": [
    {
     "name": "stdout",
     "output_type": "stream",
     "text": [
      "1\n",
      "<class 'int'>\n"
     ]
    }
   ],
   "source": [
    "a=(1)\n",
    "print(a)\n",
    "print(type(a))"
   ]
  },
  {
   "cell_type": "markdown",
   "id": "c2404120",
   "metadata": {},
   "source": [
    "#### How to add elements in tuple? "
   ]
  },
  {
   "cell_type": "code",
   "execution_count": 117,
   "id": "836ca76d",
   "metadata": {},
   "outputs": [],
   "source": [
    "tuple1=(10,20,30)\n",
    "tuple2=('python','data science','machine learning')\n",
    "tuple3=tuple1+tuple2"
   ]
  },
  {
   "cell_type": "code",
   "execution_count": 118,
   "id": "bc68b615",
   "metadata": {},
   "outputs": [
    {
     "data": {
      "text/plain": [
       "(10, 20, 30, 'python', 'data science', 'machine learning')"
      ]
     },
     "execution_count": 118,
     "metadata": {},
     "output_type": "execute_result"
    }
   ],
   "source": [
    "tuple3"
   ]
  },
  {
   "cell_type": "code",
   "execution_count": 119,
   "id": "464a38ff",
   "metadata": {},
   "outputs": [
    {
     "data": {
      "text/plain": [
       "(10, 11, 12, 13, 16, 17)"
      ]
     },
     "execution_count": 119,
     "metadata": {},
     "output_type": "execute_result"
    }
   ],
   "source": [
    "tuple4=(10,11,12,13,14,15,16,17)\n",
    "tuple5=tuple4[0:4]+tuple4[6:]\n",
    "tuple5"
   ]
  },
  {
   "cell_type": "code",
   "execution_count": 120,
   "id": "589152cb",
   "metadata": {},
   "outputs": [
    {
     "data": {
      "text/plain": [
       "(10, 11, 12, 13, 16, 17, 20, 21)"
      ]
     },
     "execution_count": 120,
     "metadata": {},
     "output_type": "execute_result"
    }
   ],
   "source": [
    "tuple5=tuple4[0:4]+tuple4[6:]+(20,21)\n",
    "tuple5"
   ]
  },
  {
   "cell_type": "markdown",
   "id": "f8a241ab",
   "metadata": {},
   "source": [
    "### packing and unpacking"
   ]
  },
  {
   "cell_type": "code",
   "execution_count": 121,
   "id": "601bb8c6",
   "metadata": {},
   "outputs": [
    {
     "data": {
      "text/plain": [
       "(10, 20, 30, 40)"
      ]
     },
     "execution_count": 121,
     "metadata": {},
     "output_type": "execute_result"
    }
   ],
   "source": [
    "num1=10\n",
    "num2=20\n",
    "num3=30\n",
    "num4=40\n",
    "tuple_new=(num1,num2,num3,num4)\n",
    "tuple_new"
   ]
  },
  {
   "cell_type": "code",
   "execution_count": 122,
   "id": "53d2c56d",
   "metadata": {},
   "outputs": [
    {
     "data": {
      "text/plain": [
       "(10, 20, (30, 40))"
      ]
     },
     "execution_count": 122,
     "metadata": {},
     "output_type": "execute_result"
    }
   ],
   "source": [
    "data1=10\n",
    "data2=20\n",
    "data3=(30,40)\n",
    "tuple7=(data1,data2,data3)\n",
    "tuple7\n",
    "# what we do three data together and adding is called packing"
   ]
  },
  {
   "cell_type": "code",
   "execution_count": 123,
   "id": "efb72d33",
   "metadata": {},
   "outputs": [
    {
     "data": {
      "text/plain": [
       "(10, 20, 30, 40)"
      ]
     },
     "execution_count": 123,
     "metadata": {},
     "output_type": "execute_result"
    }
   ],
   "source": [
    "tuple_new"
   ]
  },
  {
   "cell_type": "code",
   "execution_count": 124,
   "id": "b05edc05",
   "metadata": {},
   "outputs": [
    {
     "name": "stdout",
     "output_type": "stream",
     "text": [
      "20\n"
     ]
    }
   ],
   "source": [
    "var1,var2,var3,var4=tuple_new\n",
    "print(var2)\n",
    "# this process is called unpacking"
   ]
  },
  {
   "cell_type": "code",
   "execution_count": 125,
   "id": "2879ed45",
   "metadata": {},
   "outputs": [],
   "source": [
    "tuple10=('python','data science','machine learning')"
   ]
  },
  {
   "cell_type": "code",
   "execution_count": 126,
   "id": "aff81e72",
   "metadata": {},
   "outputs": [
    {
     "name": "stdout",
     "output_type": "stream",
     "text": [
      "data science\n"
     ]
    }
   ],
   "source": [
    "str1,str2,str3=tuple10\n",
    "print(str2)"
   ]
  },
  {
   "cell_type": "markdown",
   "id": "a31e94cd",
   "metadata": {},
   "source": [
    "#### len()"
   ]
  },
  {
   "cell_type": "code",
   "execution_count": 127,
   "id": "3c33be39",
   "metadata": {},
   "outputs": [
    {
     "data": {
      "text/plain": [
       "(10, 20, 30, 40)"
      ]
     },
     "execution_count": 127,
     "metadata": {},
     "output_type": "execute_result"
    }
   ],
   "source": [
    "tuple_new"
   ]
  },
  {
   "cell_type": "code",
   "execution_count": 128,
   "id": "ca544de8",
   "metadata": {},
   "outputs": [
    {
     "data": {
      "text/plain": [
       "4"
      ]
     },
     "execution_count": 128,
     "metadata": {},
     "output_type": "execute_result"
    }
   ],
   "source": [
    "len(tuple_new)"
   ]
  },
  {
   "cell_type": "code",
   "execution_count": 129,
   "id": "d667184f",
   "metadata": {},
   "outputs": [
    {
     "data": {
      "text/plain": [
       "3"
      ]
     },
     "execution_count": 129,
     "metadata": {},
     "output_type": "execute_result"
    }
   ],
   "source": [
    "len(tuple10)"
   ]
  },
  {
   "cell_type": "markdown",
   "id": "328e55e7",
   "metadata": {},
   "source": [
    "### min,max,sum functions \n",
    "- it can be only used nummerical values"
   ]
  },
  {
   "cell_type": "code",
   "execution_count": 130,
   "id": "1a21768c",
   "metadata": {},
   "outputs": [
    {
     "name": "stdout",
     "output_type": "stream",
     "text": [
      "20\n",
      "50.6\n"
     ]
    }
   ],
   "source": [
    "tuple7=(20,30,40.5,50.6)\n",
    "print(min(tuple7))\n",
    "print(max(tuple7))"
   ]
  },
  {
   "cell_type": "code",
   "execution_count": 131,
   "id": "d7e7471b",
   "metadata": {},
   "outputs": [
    {
     "data": {
      "text/plain": [
       "50.6"
      ]
     },
     "execution_count": 131,
     "metadata": {},
     "output_type": "execute_result"
    }
   ],
   "source": [
    "max(tuple7)"
   ]
  },
  {
   "cell_type": "code",
   "execution_count": 132,
   "id": "67612c52",
   "metadata": {},
   "outputs": [
    {
     "data": {
      "text/plain": [
       "20"
      ]
     },
     "execution_count": 132,
     "metadata": {},
     "output_type": "execute_result"
    }
   ],
   "source": [
    "min(tuple7)"
   ]
  },
  {
   "cell_type": "code",
   "execution_count": 133,
   "id": "56a275e3",
   "metadata": {},
   "outputs": [
    {
     "data": {
      "text/plain": [
       "141.1"
      ]
     },
     "execution_count": 133,
     "metadata": {},
     "output_type": "execute_result"
    }
   ],
   "source": [
    "sum(tuple7)"
   ]
  },
  {
   "cell_type": "markdown",
   "id": "43a51c90",
   "metadata": {},
   "source": [
    "### Tuple indexing\n",
    "- we can apply all the list indexing steps on the tuples"
   ]
  },
  {
   "cell_type": "code",
   "execution_count": 134,
   "id": "d8a1de95",
   "metadata": {},
   "outputs": [
    {
     "data": {
      "text/plain": [
       "(10, 20, 30, 40)"
      ]
     },
     "execution_count": 134,
     "metadata": {},
     "output_type": "execute_result"
    }
   ],
   "source": [
    "tuple_new"
   ]
  },
  {
   "cell_type": "code",
   "execution_count": 135,
   "id": "78ad52e8",
   "metadata": {},
   "outputs": [
    {
     "data": {
      "text/plain": [
       "(30, 40)"
      ]
     },
     "execution_count": 135,
     "metadata": {},
     "output_type": "execute_result"
    }
   ],
   "source": [
    "tuple_new[2:4]"
   ]
  },
  {
   "cell_type": "markdown",
   "id": "01d1b18c",
   "metadata": {},
   "source": [
    "#### reverse tuple"
   ]
  },
  {
   "cell_type": "code",
   "execution_count": 136,
   "id": "9fed58f9",
   "metadata": {},
   "outputs": [
    {
     "data": {
      "text/plain": [
       "(40, 30, 20, 10)"
      ]
     },
     "execution_count": 136,
     "metadata": {},
     "output_type": "execute_result"
    }
   ],
   "source": [
    "tuple_new[::-1]"
   ]
  },
  {
   "cell_type": "code",
   "execution_count": 137,
   "id": "81400ca8",
   "metadata": {},
   "outputs": [
    {
     "data": {
      "text/plain": [
       "(40, 30, 20, 10)"
      ]
     },
     "execution_count": 137,
     "metadata": {},
     "output_type": "execute_result"
    }
   ],
   "source": [
    "reversed_tuple=tuple_new[::-1]\n",
    "reversed_tuple"
   ]
  },
  {
   "cell_type": "markdown",
   "id": "14479005",
   "metadata": {},
   "source": [
    "#### sorted"
   ]
  },
  {
   "cell_type": "code",
   "execution_count": 138,
   "id": "e1e18033",
   "metadata": {},
   "outputs": [],
   "source": [
    "tuple11=(67,11,93,7,2,17)"
   ]
  },
  {
   "cell_type": "code",
   "execution_count": 139,
   "id": "6afe5192",
   "metadata": {},
   "outputs": [
    {
     "data": {
      "text/plain": [
       "[2, 7, 11, 17, 67, 93]"
      ]
     },
     "execution_count": 139,
     "metadata": {},
     "output_type": "execute_result"
    }
   ],
   "source": [
    "sorted(tuple11)"
   ]
  },
  {
   "cell_type": "code",
   "execution_count": 140,
   "id": "ec8559ae",
   "metadata": {},
   "outputs": [
    {
     "data": {
      "text/plain": [
       "[2, 7, 11, 17, 67, 93]"
      ]
     },
     "execution_count": 140,
     "metadata": {},
     "output_type": "execute_result"
    }
   ],
   "source": [
    "sorted_data=sorted(tuple11)# ascending order\n",
    "sorted_data"
   ]
  },
  {
   "cell_type": "code",
   "execution_count": 141,
   "id": "aa10a891",
   "metadata": {},
   "outputs": [
    {
     "data": {
      "text/plain": [
       "[93, 67, 17, 11, 7, 2]"
      ]
     },
     "execution_count": 141,
     "metadata": {},
     "output_type": "execute_result"
    }
   ],
   "source": [
    "sorted_data=sorted(tuple11,reverse=True)# descending order\n",
    "sorted_data"
   ]
  },
  {
   "cell_type": "markdown",
   "id": "f10c1e11",
   "metadata": {},
   "source": [
    "#### count"
   ]
  },
  {
   "cell_type": "code",
   "execution_count": 142,
   "id": "8a0bf8f6",
   "metadata": {},
   "outputs": [
    {
     "data": {
      "text/plain": [
       "1"
      ]
     },
     "execution_count": 142,
     "metadata": {},
     "output_type": "execute_result"
    }
   ],
   "source": [
    "tuple11.count(2)"
   ]
  },
  {
   "cell_type": "code",
   "execution_count": 143,
   "id": "1aaccc95",
   "metadata": {},
   "outputs": [
    {
     "data": {
      "text/plain": [
       "3"
      ]
     },
     "execution_count": 143,
     "metadata": {},
     "output_type": "execute_result"
    }
   ],
   "source": [
    "tuple12=(1,2,4,3,4,2,5,6,7,8,7,7,6,5,4,3,2)\n",
    "tuple12.count(7)"
   ]
  },
  {
   "cell_type": "markdown",
   "id": "070e7c84",
   "metadata": {},
   "source": [
    "## sets\n",
    "- sets are like lists in that you use them for storing a collection of elements.unlike lists,however,the elements in a set are nonduplicates and are not placed in any particular order\n",
    "- with`{}` we declare a set\n",
    "- sets are unordered and unindexed\n",
    "- set will not allow duplicate elements\n",
    "- set is mutable"
   ]
  },
  {
   "cell_type": "code",
   "execution_count": 144,
   "id": "d7372189",
   "metadata": {},
   "outputs": [
    {
     "data": {
      "text/plain": [
       "{10, 20, 30, 40, 50}"
      ]
     },
     "execution_count": 144,
     "metadata": {},
     "output_type": "execute_result"
    }
   ],
   "source": [
    "set1={10,20,30,40,50}\n",
    "set1 # it can not allow duplicate elements and not indexing and not slicing"
   ]
  },
  {
   "cell_type": "code",
   "execution_count": 145,
   "id": "e9f0479d",
   "metadata": {},
   "outputs": [
    {
     "data": {
      "text/plain": [
       "{10, 11, 12, 13}"
      ]
     },
     "execution_count": 145,
     "metadata": {},
     "output_type": "execute_result"
    }
   ],
   "source": [
    "set2=set([10,11,12,13])\n",
    "set2 # it is also one way to create set"
   ]
  },
  {
   "cell_type": "code",
   "execution_count": 146,
   "id": "80479fa5",
   "metadata": {},
   "outputs": [
    {
     "data": {
      "text/plain": [
       "{10, 11, 13, 14, 15, 16, 17, 18}"
      ]
     },
     "execution_count": 146,
     "metadata": {},
     "output_type": "execute_result"
    }
   ],
   "source": [
    "list_dup=[10,10,11,11,13,13,14,15,16,17,18,18]\n",
    "set(list_dup)"
   ]
  },
  {
   "cell_type": "code",
   "execution_count": 147,
   "id": "d5f93b56",
   "metadata": {},
   "outputs": [
    {
     "data": {
      "text/plain": [
       "{10, 11, 13, 14, 15, 16, 17, 18}"
      ]
     },
     "execution_count": 147,
     "metadata": {},
     "output_type": "execute_result"
    }
   ],
   "source": [
    "list_dup=[10,10,11,11,13,13,14,15,16,17,18,18]\n",
    "set_new=set(list_dup)\n",
    "set_new"
   ]
  },
  {
   "cell_type": "code",
   "execution_count": 148,
   "id": "77d4a8b7",
   "metadata": {},
   "outputs": [
    {
     "data": {
      "text/plain": [
       "[10, 11, 13, 14, 15, 16, 17, 18]"
      ]
     },
     "execution_count": 148,
     "metadata": {},
     "output_type": "execute_result"
    }
   ],
   "source": [
    "list_new=list(set_new)\n",
    "list_new"
   ]
  },
  {
   "cell_type": "markdown",
   "id": "6f30e636",
   "metadata": {},
   "source": [
    "### Built-in functions"
   ]
  },
  {
   "cell_type": "markdown",
   "id": "9d88949c",
   "metadata": {},
   "source": [
    "#### adding elements into a set"
   ]
  },
  {
   "cell_type": "code",
   "execution_count": 149,
   "id": "4f6c94b4",
   "metadata": {},
   "outputs": [
    {
     "ename": "SyntaxError",
     "evalue": "cannot assign to expression here. Maybe you meant '==' instead of '='? (3467312134.py, line 2)",
     "output_type": "error",
     "traceback": [
      "\u001b[1;36m  Cell \u001b[1;32mIn[149], line 2\u001b[1;36m\u001b[0m\n\u001b[1;33m    my-set[0]=12\u001b[0m\n\u001b[1;37m    ^\u001b[0m\n\u001b[1;31mSyntaxError\u001b[0m\u001b[1;31m:\u001b[0m cannot assign to expression here. Maybe you meant '==' instead of '='?\n"
     ]
    }
   ],
   "source": [
    "# we can't assign value directly through index\n",
    "my-set[0]=12\n",
    "print(my_set)"
   ]
  },
  {
   "cell_type": "markdown",
   "id": "847003ee",
   "metadata": {},
   "source": [
    "#### add()\n",
    "- to add elements inside of a set"
   ]
  },
  {
   "cell_type": "code",
   "execution_count": 150,
   "id": "6b8eeafc",
   "metadata": {},
   "outputs": [
    {
     "data": {
      "text/plain": [
       "{10, 11, 13, 14, 15, 16, 17, 18, 23}"
      ]
     },
     "execution_count": 150,
     "metadata": {},
     "output_type": "execute_result"
    }
   ],
   "source": [
    "# add one element at a time in set\n",
    "set_new\n",
    "set_new.add(23)\n",
    "set_new"
   ]
  },
  {
   "cell_type": "markdown",
   "id": "90b11c0c",
   "metadata": {},
   "source": [
    "#### update()\n",
    "- we can add multiple elements using `update`"
   ]
  },
  {
   "cell_type": "code",
   "execution_count": 151,
   "id": "50ef9237",
   "metadata": {},
   "outputs": [
    {
     "data": {
      "text/plain": [
       "{10, 11, 13, 14, 15, 16, 17, 18, 22, 23, 33, 45, 76}"
      ]
     },
     "execution_count": 151,
     "metadata": {},
     "output_type": "execute_result"
    }
   ],
   "source": [
    "# add multiple elements to a set\n",
    "set_new.update([45,33,22,76])\n",
    "set_new"
   ]
  },
  {
   "cell_type": "markdown",
   "id": "3ca7f297",
   "metadata": {},
   "source": [
    "#### sort()"
   ]
  },
  {
   "cell_type": "code",
   "execution_count": 152,
   "id": "176e39f7",
   "metadata": {},
   "outputs": [
    {
     "data": {
      "text/plain": [
       "[0, 1, 3, 5, 6, 8]"
      ]
     },
     "execution_count": 152,
     "metadata": {},
     "output_type": "execute_result"
    }
   ],
   "source": [
    "set3={1,6,3,5,0,8}\n",
    "sorted(set3)"
   ]
  },
  {
   "cell_type": "code",
   "execution_count": 153,
   "id": "7442aeb8",
   "metadata": {},
   "outputs": [
    {
     "data": {
      "text/plain": [
       "[10, 11, 13, 14, 15, 16, 17, 18, 22, 23, 33, 45, 76]"
      ]
     },
     "execution_count": 153,
     "metadata": {},
     "output_type": "execute_result"
    }
   ],
   "source": [
    "sorted_data=sorted(set_new)\n",
    "sorted_data"
   ]
  },
  {
   "cell_type": "markdown",
   "id": "e595d1f6",
   "metadata": {},
   "source": [
    "### delete elements from a set"
   ]
  },
  {
   "cell_type": "markdown",
   "id": "c4421f89",
   "metadata": {},
   "source": [
    "#### pop()\n",
    "- pop is used to delete element from the given set\n",
    "- we can not the predict the which element will be delete because set is unindexed"
   ]
  },
  {
   "cell_type": "code",
   "execution_count": 154,
   "id": "80eb5810",
   "metadata": {},
   "outputs": [
    {
     "data": {
      "text/plain": [
       "{10, 11, 13, 14, 15, 16, 17, 18, 22, 23, 33, 45, 76}"
      ]
     },
     "execution_count": 154,
     "metadata": {},
     "output_type": "execute_result"
    }
   ],
   "source": [
    "set_new"
   ]
  },
  {
   "cell_type": "code",
   "execution_count": 155,
   "id": "207c1af4",
   "metadata": {},
   "outputs": [
    {
     "data": {
      "text/plain": [
       "33"
      ]
     },
     "execution_count": 155,
     "metadata": {},
     "output_type": "execute_result"
    }
   ],
   "source": [
    "set_new.pop() ## any random element should be eleminated"
   ]
  },
  {
   "cell_type": "markdown",
   "id": "927dbdef",
   "metadata": {},
   "source": [
    "#### remove()\n",
    "- remove will remove the value from the set if the value exists,if not\n",
    "- it generates error"
   ]
  },
  {
   "cell_type": "code",
   "execution_count": 156,
   "id": "bcde180d",
   "metadata": {},
   "outputs": [
    {
     "data": {
      "text/plain": [
       "{10, 11, 14, 15, 16, 17, 18, 22, 23, 45, 76}"
      ]
     },
     "execution_count": 156,
     "metadata": {},
     "output_type": "execute_result"
    }
   ],
   "source": [
    "set_new.remove(13)\n",
    "set_new      ### to delete particular element ina set"
   ]
  },
  {
   "cell_type": "markdown",
   "id": "9d149d81",
   "metadata": {},
   "source": [
    "#### discard()\n",
    "- discard will discard the value from the set\n",
    "- if the value is not there in the set,discard will not throw any error"
   ]
  },
  {
   "cell_type": "code",
   "execution_count": 157,
   "id": "4dfde28e",
   "metadata": {},
   "outputs": [
    {
     "data": {
      "text/plain": [
       "{10, 11, 14, 15, 17, 18, 22, 23, 45, 76}"
      ]
     },
     "execution_count": 157,
     "metadata": {},
     "output_type": "execute_result"
    }
   ],
   "source": [
    "set_new.discard(16)\n",
    "set_new          # same like remove"
   ]
  },
  {
   "cell_type": "code",
   "execution_count": 158,
   "id": "a87977e1",
   "metadata": {},
   "outputs": [
    {
     "data": {
      "text/plain": [
       "{10, 11, 14, 15, 17, 18, 22, 23, 45, 76}"
      ]
     },
     "execution_count": 158,
     "metadata": {},
     "output_type": "execute_result"
    }
   ],
   "source": [
    "set_new"
   ]
  },
  {
   "cell_type": "markdown",
   "id": "33c8e2f6",
   "metadata": {},
   "source": [
    "##### differences between remove and discard"
   ]
  },
  {
   "cell_type": "code",
   "execution_count": 159,
   "id": "d6b8870a",
   "metadata": {},
   "outputs": [],
   "source": [
    "set_new.discard(97) # in this code we can click run it can not show the error and continue the program code"
   ]
  },
  {
   "cell_type": "code",
   "execution_count": 160,
   "id": "1756c189",
   "metadata": {},
   "outputs": [
    {
     "ename": "KeyError",
     "evalue": "97",
     "output_type": "error",
     "traceback": [
      "\u001b[1;31m---------------------------------------------------------------------------\u001b[0m",
      "\u001b[1;31mKeyError\u001b[0m                                  Traceback (most recent call last)",
      "Cell \u001b[1;32mIn[160], line 1\u001b[0m\n\u001b[1;32m----> 1\u001b[0m \u001b[43mset_new\u001b[49m\u001b[38;5;241;43m.\u001b[39;49m\u001b[43mremove\u001b[49m\u001b[43m(\u001b[49m\u001b[38;5;241;43m97\u001b[39;49m\u001b[43m)\u001b[49m\n",
      "\u001b[1;31mKeyError\u001b[0m: 97"
     ]
    }
   ],
   "source": [
    "set_new.remove(97)# in this code we can clik run it can be show the error and not continue the next program"
   ]
  },
  {
   "cell_type": "markdown",
   "id": "f20dde5a",
   "metadata": {},
   "source": [
    "#### clear()"
   ]
  },
  {
   "cell_type": "code",
   "execution_count": 161,
   "id": "9cedbe07",
   "metadata": {},
   "outputs": [
    {
     "data": {
      "text/plain": [
       "set()"
      ]
     },
     "execution_count": 161,
     "metadata": {},
     "output_type": "execute_result"
    }
   ],
   "source": [
    "set_new.clear()\n",
    "set_new"
   ]
  },
  {
   "cell_type": "code",
   "execution_count": 162,
   "id": "4fe9f61e",
   "metadata": {},
   "outputs": [],
   "source": [
    "del set_new"
   ]
  },
  {
   "cell_type": "markdown",
   "id": "a68808bd",
   "metadata": {},
   "source": [
    "## other set operations\n",
    "- 1.union()\n",
    "- 2.intersection()\n",
    "- 3.difference()\n",
    "- 4.symmetric-difference"
   ]
  },
  {
   "cell_type": "code",
   "execution_count": 163,
   "id": "5b7b51e3",
   "metadata": {},
   "outputs": [],
   "source": [
    "set1={10,11,12,13,14}\n",
    "set2={13,14,15,16,17}"
   ]
  },
  {
   "cell_type": "code",
   "execution_count": 164,
   "id": "f7e9a25b",
   "metadata": {},
   "outputs": [
    {
     "data": {
      "text/plain": [
       "{10, 11, 12, 13, 14, 15, 16, 17}"
      ]
     },
     "execution_count": 164,
     "metadata": {},
     "output_type": "execute_result"
    }
   ],
   "source": [
    "set1 | set2 # the middle of the symbol is represens union function "
   ]
  },
  {
   "cell_type": "code",
   "execution_count": 165,
   "id": "c1d5c32a",
   "metadata": {},
   "outputs": [
    {
     "data": {
      "text/plain": [
       "{10, 11, 12, 13, 14, 15, 16, 17}"
      ]
     },
     "execution_count": 165,
     "metadata": {},
     "output_type": "execute_result"
    }
   ],
   "source": [
    "set1.union(set2)"
   ]
  },
  {
   "cell_type": "code",
   "execution_count": 166,
   "id": "c878f684",
   "metadata": {},
   "outputs": [
    {
     "data": {
      "text/plain": [
       "{13, 14}"
      ]
     },
     "execution_count": 166,
     "metadata": {},
     "output_type": "execute_result"
    }
   ],
   "source": [
    "set1 & set2 # in this & symbol represents the intersection"
   ]
  },
  {
   "cell_type": "code",
   "execution_count": 167,
   "id": "7e7ec92c",
   "metadata": {},
   "outputs": [
    {
     "data": {
      "text/plain": [
       "{13, 14}"
      ]
     },
     "execution_count": 167,
     "metadata": {},
     "output_type": "execute_result"
    }
   ],
   "source": [
    "set1.intersection(set2)"
   ]
  },
  {
   "cell_type": "code",
   "execution_count": 168,
   "id": "e41e1a88",
   "metadata": {},
   "outputs": [
    {
     "data": {
      "text/plain": [
       "{10, 11, 12}"
      ]
     },
     "execution_count": 168,
     "metadata": {},
     "output_type": "execute_result"
    }
   ],
   "source": [
    "set1 - set2     #  '-'this symbol indicates difference"
   ]
  },
  {
   "cell_type": "code",
   "execution_count": 169,
   "id": "f2f9ca25",
   "metadata": {},
   "outputs": [
    {
     "data": {
      "text/plain": [
       "{10, 11, 12}"
      ]
     },
     "execution_count": 169,
     "metadata": {},
     "output_type": "execute_result"
    }
   ],
   "source": [
    "set1.difference(set2)"
   ]
  },
  {
   "cell_type": "code",
   "execution_count": 170,
   "id": "19cea0bf",
   "metadata": {},
   "outputs": [
    {
     "data": {
      "text/plain": [
       "{10, 11, 12, 15, 16, 17}"
      ]
     },
     "execution_count": 170,
     "metadata": {},
     "output_type": "execute_result"
    }
   ],
   "source": [
    "# opposite function of intersection\n",
    "set1 ^ set2   # '^' this symbol represents symmetric difference"
   ]
  },
  {
   "cell_type": "code",
   "execution_count": 171,
   "id": "e1cbf554",
   "metadata": {},
   "outputs": [
    {
     "data": {
      "text/plain": [
       "{10, 11, 12, 15, 16, 17}"
      ]
     },
     "execution_count": 171,
     "metadata": {},
     "output_type": "execute_result"
    }
   ],
   "source": [
    "set1.symmetric_difference(set2)"
   ]
  },
  {
   "cell_type": "markdown",
   "id": "e48e7efc",
   "metadata": {},
   "source": [
    "### manipulating and accessing sets\n",
    "- you can add an element to a set or remove an element by using the add(e)or remove(e)method.you can use the len,min,max,and sum functions on a set,and a for loop to traverse all elements in a set.you can use the in or not in operator to determine whether an element is in the set"
   ]
  },
  {
   "cell_type": "code",
   "execution_count": 172,
   "id": "1ce09632",
   "metadata": {},
   "outputs": [
    {
     "data": {
      "text/plain": [
       "{1, 2, 4, 9}"
      ]
     },
     "execution_count": 172,
     "metadata": {},
     "output_type": "execute_result"
    }
   ],
   "source": [
    "s1={1,2,4}\n",
    "s1.add(9)\n",
    "s1"
   ]
  },
  {
   "cell_type": "code",
   "execution_count": 173,
   "id": "7dde0df3",
   "metadata": {},
   "outputs": [
    {
     "name": "stdout",
     "output_type": "stream",
     "text": [
      "length is 4\n",
      "max is 9\n",
      "min is 1\n",
      "sum is 16\n"
     ]
    }
   ],
   "source": [
    "print('length is',len(s1))\n",
    "print('max is',max(s1))\n",
    "print('min is',min(s1))\n",
    "print('sum is',sum(s1))"
   ]
  },
  {
   "cell_type": "code",
   "execution_count": 174,
   "id": "1af01c0a",
   "metadata": {},
   "outputs": [
    {
     "data": {
      "text/plain": [
       "True"
      ]
     },
     "execution_count": 174,
     "metadata": {},
     "output_type": "execute_result"
    }
   ],
   "source": [
    "4 in s1"
   ]
  },
  {
   "cell_type": "code",
   "execution_count": 175,
   "id": "90fe7e50",
   "metadata": {},
   "outputs": [
    {
     "data": {
      "text/plain": [
       "True"
      ]
     },
     "execution_count": 175,
     "metadata": {},
     "output_type": "execute_result"
    }
   ],
   "source": [
    "100 not in s1"
   ]
  },
  {
   "cell_type": "markdown",
   "id": "5be03204",
   "metadata": {},
   "source": [
    "## Dictionary\n",
    "python dictionary is an unordered collection of items.while other compound data types have only value as an element,a dictionary has a key:value pair.\n",
    "it is mutable"
   ]
  },
  {
   "cell_type": "markdown",
   "id": "a0e5b64c",
   "metadata": {},
   "source": [
    "### Dict creation"
   ]
  },
  {
   "cell_type": "code",
   "execution_count": 176,
   "id": "1ea892ec",
   "metadata": {},
   "outputs": [
    {
     "data": {
      "text/plain": [
       "{'name': 'bhargavi',\n",
       " 'place': 'india',\n",
       " 'role': ['instructor', 'mentor'],\n",
       " 1: 'python'}"
      ]
     },
     "execution_count": 176,
     "metadata": {},
     "output_type": "execute_result"
    }
   ],
   "source": [
    "dict1={'name':'bhargavi','place':'india','role':['instructor','mentor'],1:'python'}\n",
    "dict1       #dictionary with mixed keys"
   ]
  },
  {
   "cell_type": "code",
   "execution_count": 177,
   "id": "6ee99c99",
   "metadata": {},
   "outputs": [
    {
     "data": {
      "text/plain": [
       "{'qualification': {1: 'bachelors', 2: 'masters'}}"
      ]
     },
     "execution_count": 177,
     "metadata": {},
     "output_type": "execute_result"
    }
   ],
   "source": [
    "dict2={'qualification':{1:'bachelors',2:'masters'}}\n",
    "dict2     #dictionary with integer keys "
   ]
  },
  {
   "cell_type": "code",
   "execution_count": 178,
   "id": "4d14e069",
   "metadata": {},
   "outputs": [
    {
     "data": {
      "text/plain": [
       "{1: 'abc', 2: 'xyz'}"
      ]
     },
     "execution_count": 178,
     "metadata": {},
     "output_type": "execute_result"
    }
   ],
   "source": [
    "dict3=dict([(1,'abc'),(2,'xyz')]) # create a dict with list of tuples\n",
    "dict3"
   ]
  },
  {
   "cell_type": "code",
   "execution_count": 179,
   "id": "f10f49c9",
   "metadata": {},
   "outputs": [
    {
     "data": {
      "text/plain": [
       "dict"
      ]
     },
     "execution_count": 179,
     "metadata": {},
     "output_type": "execute_result"
    }
   ],
   "source": [
    "dict3=dict()\n",
    "type(dict3)"
   ]
  },
  {
   "cell_type": "code",
   "execution_count": 180,
   "id": "3f202b07",
   "metadata": {},
   "outputs": [
    {
     "data": {
      "text/plain": [
       "{}"
      ]
     },
     "execution_count": 180,
     "metadata": {},
     "output_type": "execute_result"
    }
   ],
   "source": [
    "dict3=dict()\n",
    "dict3  # empty dictionary"
   ]
  },
  {
   "cell_type": "markdown",
   "id": "2b360389",
   "metadata": {},
   "source": [
    "### Dict access"
   ]
  },
  {
   "cell_type": "code",
   "execution_count": 181,
   "id": "075c3b64",
   "metadata": {},
   "outputs": [
    {
     "data": {
      "text/plain": [
       "{'name': 'bhargavi',\n",
       " 'place': 'india',\n",
       " 'role': ['instructor', 'mentor'],\n",
       " 1: 'python'}"
      ]
     },
     "execution_count": 181,
     "metadata": {},
     "output_type": "execute_result"
    }
   ],
   "source": [
    "dict1"
   ]
  },
  {
   "cell_type": "code",
   "execution_count": 182,
   "id": "408d8140",
   "metadata": {},
   "outputs": [
    {
     "data": {
      "text/plain": [
       "['instructor', 'mentor']"
      ]
     },
     "execution_count": 182,
     "metadata": {},
     "output_type": "execute_result"
    }
   ],
   "source": [
    "dict1['role']"
   ]
  },
  {
   "cell_type": "markdown",
   "id": "994a35ad",
   "metadata": {},
   "source": [
    "*dictionary is not indexible : because dictionaries are unordered collection of items*"
   ]
  },
  {
   "cell_type": "code",
   "execution_count": 183,
   "id": "caad48fb",
   "metadata": {},
   "outputs": [
    {
     "data": {
      "text/plain": [
       "'bhargavi'"
      ]
     },
     "execution_count": 183,
     "metadata": {},
     "output_type": "execute_result"
    }
   ],
   "source": [
    "dict1['name']"
   ]
  },
  {
   "cell_type": "markdown",
   "id": "dbf59bbe",
   "metadata": {},
   "source": [
    "#### get()"
   ]
  },
  {
   "cell_type": "code",
   "execution_count": 184,
   "id": "23cea8b6",
   "metadata": {},
   "outputs": [
    {
     "data": {
      "text/plain": [
       "'india'"
      ]
     },
     "execution_count": 184,
     "metadata": {},
     "output_type": "execute_result"
    }
   ],
   "source": [
    "dict1.get('place') ## this is second approach"
   ]
  },
  {
   "cell_type": "markdown",
   "id": "fce874d4",
   "metadata": {},
   "source": [
    "### dict add or modify elements"
   ]
  },
  {
   "cell_type": "code",
   "execution_count": 185,
   "id": "cb8c1962",
   "metadata": {},
   "outputs": [],
   "source": [
    "dict1[1]='machine learning' # it is mutable and replace or modify the data"
   ]
  },
  {
   "cell_type": "code",
   "execution_count": 186,
   "id": "0b46a20c",
   "metadata": {},
   "outputs": [
    {
     "data": {
      "text/plain": [
       "{'name': 'bhargavi',\n",
       " 'place': 'india',\n",
       " 'role': ['instructor', 'mentor'],\n",
       " 1: 'machine learning'}"
      ]
     },
     "execution_count": 186,
     "metadata": {},
     "output_type": "execute_result"
    }
   ],
   "source": [
    "dict1"
   ]
  },
  {
   "cell_type": "code",
   "execution_count": 187,
   "id": "b594a51f",
   "metadata": {},
   "outputs": [
    {
     "data": {
      "text/plain": [
       "{'name': 'bhargavi',\n",
       " 'place': 'india',\n",
       " 'role': ['instructor', 'mentor'],\n",
       " 1: 'machine learning',\n",
       " 'qualification': ('b.tech', 'bachelors')}"
      ]
     },
     "execution_count": 187,
     "metadata": {},
     "output_type": "execute_result"
    }
   ],
   "source": [
    "dict1['qualification']=('b.tech','bachelors')\n",
    "dict1 # add the data in this 'qualification' is the key and'b.tech'is the value to the key"
   ]
  },
  {
   "cell_type": "code",
   "execution_count": 188,
   "id": "1a745225",
   "metadata": {},
   "outputs": [
    {
     "data": {
      "text/plain": [
       "{'name': 'bhargavi',\n",
       " 'place': 'india',\n",
       " 'role': ['instructor', 'mentor'],\n",
       " 1: 'machine learning',\n",
       " 'qualification': ('b.tech', 'bachelors'),\n",
       " 'hobbies': 'play indoor games'}"
      ]
     },
     "execution_count": 188,
     "metadata": {},
     "output_type": "execute_result"
    }
   ],
   "source": [
    "dict1['hobbies']='play indoor games'\n",
    "dict1                 "
   ]
  },
  {
   "cell_type": "markdown",
   "id": "c6c90ec1",
   "metadata": {},
   "source": [
    "### Dict Delete or Remove Element"
   ]
  },
  {
   "cell_type": "code",
   "execution_count": 189,
   "id": "a13a5297",
   "metadata": {},
   "outputs": [
    {
     "data": {
      "text/plain": [
       "{'name': 'bhargavi',\n",
       " 'place': 'india',\n",
       " 'role': ['instructor', 'mentor'],\n",
       " 1: 'machine learning',\n",
       " 'qualification': ('b.tech', 'bachelors'),\n",
       " 'hobbies': 'play indoor games'}"
      ]
     },
     "execution_count": 189,
     "metadata": {},
     "output_type": "execute_result"
    }
   ],
   "source": [
    "dict1"
   ]
  },
  {
   "cell_type": "code",
   "execution_count": 190,
   "id": "61bcc31e",
   "metadata": {},
   "outputs": [
    {
     "data": {
      "text/plain": [
       "'india'"
      ]
     },
     "execution_count": 190,
     "metadata": {},
     "output_type": "execute_result"
    }
   ],
   "source": [
    "dict1.pop('place') # specific will be removed"
   ]
  },
  {
   "cell_type": "code",
   "execution_count": 191,
   "id": "b499b26d",
   "metadata": {},
   "outputs": [
    {
     "data": {
      "text/plain": [
       "{'name': 'bhargavi',\n",
       " 'role': ['instructor', 'mentor'],\n",
       " 1: 'machine learning',\n",
       " 'qualification': ('b.tech', 'bachelors'),\n",
       " 'hobbies': 'play indoor games'}"
      ]
     },
     "execution_count": 191,
     "metadata": {},
     "output_type": "execute_result"
    }
   ],
   "source": [
    "dict1"
   ]
  },
  {
   "cell_type": "code",
   "execution_count": 192,
   "id": "ac1121f1",
   "metadata": {},
   "outputs": [
    {
     "data": {
      "text/plain": [
       "('hobbies', 'play indoor games')"
      ]
     },
     "execution_count": 192,
     "metadata": {},
     "output_type": "execute_result"
    }
   ],
   "source": [
    "dict1.popitem() # delete something like any one or any value because inorder"
   ]
  },
  {
   "cell_type": "code",
   "execution_count": 193,
   "id": "e0e7f468",
   "metadata": {},
   "outputs": [
    {
     "data": {
      "text/plain": [
       "{'name': 'bhargavi',\n",
       " 'role': ['instructor', 'mentor'],\n",
       " 1: 'machine learning',\n",
       " 'qualification': ('b.tech', 'bachelors')}"
      ]
     },
     "execution_count": 193,
     "metadata": {},
     "output_type": "execute_result"
    }
   ],
   "source": [
    "dict1"
   ]
  },
  {
   "cell_type": "code",
   "execution_count": 194,
   "id": "aa48a03c",
   "metadata": {},
   "outputs": [
    {
     "data": {
      "text/plain": [
       "{'role': ['instructor', 'mentor'],\n",
       " 1: 'machine learning',\n",
       " 'qualification': ('b.tech', 'bachelors')}"
      ]
     },
     "execution_count": 194,
     "metadata": {},
     "output_type": "execute_result"
    }
   ],
   "source": [
    "del dict1['name']\n",
    "dict1            # value not removed or delete only delete key functions "
   ]
  },
  {
   "cell_type": "code",
   "execution_count": 195,
   "id": "906d5e37",
   "metadata": {},
   "outputs": [
    {
     "data": {
      "text/plain": [
       "{}"
      ]
     },
     "execution_count": 195,
     "metadata": {},
     "output_type": "execute_result"
    }
   ],
   "source": [
    "dict1.clear()\n",
    "dict1           # all data is clear"
   ]
  },
  {
   "cell_type": "markdown",
   "id": "320f1e80",
   "metadata": {},
   "source": [
    "### dictionary methods"
   ]
  },
  {
   "cell_type": "code",
   "execution_count": 196,
   "id": "9c24d0f9",
   "metadata": {},
   "outputs": [
    {
     "data": {
      "text/plain": [
       "{}"
      ]
     },
     "execution_count": 196,
     "metadata": {},
     "output_type": "execute_result"
    }
   ],
   "source": [
    "dict1"
   ]
  },
  {
   "cell_type": "code",
   "execution_count": 197,
   "id": "e92c1d67",
   "metadata": {},
   "outputs": [
    {
     "name": "stdout",
     "output_type": "stream",
     "text": [
      "dict_keys([])\n"
     ]
    }
   ],
   "source": [
    "print(dict1.keys())"
   ]
  },
  {
   "cell_type": "code",
   "execution_count": 198,
   "id": "e98cbe19",
   "metadata": {},
   "outputs": [
    {
     "data": {
      "text/plain": [
       "dict_values([])"
      ]
     },
     "execution_count": 198,
     "metadata": {},
     "output_type": "execute_result"
    }
   ],
   "source": [
    "dict1.values()"
   ]
  },
  {
   "cell_type": "code",
   "execution_count": 199,
   "id": "d2dcf4ba",
   "metadata": {},
   "outputs": [
    {
     "data": {
      "text/plain": [
       "dict_items([])"
      ]
     },
     "execution_count": 199,
     "metadata": {},
     "output_type": "execute_result"
    }
   ],
   "source": [
    "dict1.items() # it will show the all keys and values or data pairs"
   ]
  },
  {
   "cell_type": "code",
   "execution_count": 200,
   "id": "df3ae960",
   "metadata": {},
   "outputs": [
    {
     "data": {
      "text/plain": [
       "{}"
      ]
     },
     "execution_count": 200,
     "metadata": {},
     "output_type": "execute_result"
    }
   ],
   "source": [
    "dict1"
   ]
  },
  {
   "cell_type": "code",
   "execution_count": 201,
   "id": "e992a077",
   "metadata": {},
   "outputs": [
    {
     "data": {
      "text/plain": [
       "{}"
      ]
     },
     "execution_count": 201,
     "metadata": {},
     "output_type": "execute_result"
    }
   ],
   "source": [
    "dict1_copy=dict1.copy()\n",
    "dict1_copy"
   ]
  },
  {
   "cell_type": "code",
   "execution_count": 202,
   "id": "2e704711",
   "metadata": {},
   "outputs": [
    {
     "data": {
      "text/plain": [
       "{1: 'python', 2: 'python', 3: 'python', 4: 'python'}"
      ]
     },
     "execution_count": 202,
     "metadata": {},
     "output_type": "execute_result"
    }
   ],
   "source": [
    "dict4={}.fromkeys([1,2,3,4],'python')\n",
    "dict4"
   ]
  },
  {
   "cell_type": "code",
   "execution_count": 203,
   "id": "eae24f55",
   "metadata": {},
   "outputs": [
    {
     "data": {
      "text/plain": [
       "{1: ['python', 'machine learning'],\n",
       " 2: ['python', 'machine learning'],\n",
       " 3: ['python', 'machine learning'],\n",
       " 4: ['python', 'machine learning']}"
      ]
     },
     "execution_count": 203,
     "metadata": {},
     "output_type": "execute_result"
    }
   ],
   "source": [
    "dict4={}.fromkeys([1,2,3,4],['python','machine learning'])\n",
    "dict4"
   ]
  },
  {
   "cell_type": "markdown",
   "id": "ba2f9c5b",
   "metadata": {},
   "source": [
    "## Python conditional statements\n",
    "> conditionals help us to make decisions.they  executes blocks of code based on the truthfullness of some statements.the is elif else keywords actually help us to write conditions\n",
    "- If\n",
    "- If-else\n",
    "- Elif\n",
    "- Nested if and if-else\n",
    "- Elif ladder"
   ]
  },
  {
   "cell_type": "markdown",
   "id": "e836a3cc",
   "metadata": {},
   "source": [
    "## python indentation\n",
    "\n",
    "a simple if block-\n",
    "\n",
    "    if(number < 0):\n",
    "    print('you entered a negative number')"
   ]
  },
  {
   "cell_type": "markdown",
   "id": "b9d505b7",
   "metadata": {},
   "source": [
    "in python,the code blocks are defined by a set of common or consistent number of spaces.this is called as **python indentation.**\n",
    "\n",
    "the block scope will end at the first unindented line.\n",
    "\n",
    "the best practice is to use**Tab**key."
   ]
  },
  {
   "cell_type": "markdown",
   "id": "dafa87ad",
   "metadata": {},
   "source": [
    "### 1. IF\n",
    "- The if keyword is used to check for a statement and execute the subsequent block of code based on the truthfullness of the statement.if statement contains the starter condition.as such,a condition has to be always given to the if block"
   ]
  },
  {
   "cell_type": "markdown",
   "id": "cd5fac82",
   "metadata": {},
   "source": [
    "syntax:\n",
    "\n",
    "if statement:block_of_code"
   ]
  },
  {
   "cell_type": "code",
   "execution_count": 204,
   "id": "f3fe6aea",
   "metadata": {},
   "outputs": [
    {
     "name": "stdout",
     "output_type": "stream",
     "text": [
      "enter the number of students in the session:10\n",
      "this is outside the body of if\n"
     ]
    }
   ],
   "source": [
    "num_of_students = int(input('enter the number of students in the session:'))\n",
    "\n",
    "if(num_of_students > 20):\n",
    "    print('hello','welcome to the session.')\n",
    "    print('we will start the session in 5 minutes.')\n",
    "    print('we are going to study python today')\n",
    "print('this is outside the body of if')"
   ]
  },
  {
   "cell_type": "code",
   "execution_count": 205,
   "id": "e7b34999",
   "metadata": {},
   "outputs": [
    {
     "name": "stdout",
     "output_type": "stream",
     "text": [
      "enter the number of students in the session:45\n",
      "hello welcome to the session.\n",
      "we will start the session in 5 minutes.\n",
      "we are going to study python today\n",
      "this is outside the body of if\n"
     ]
    }
   ],
   "source": [
    "num_of_students = int(input('enter the number of students in the session:'))\n",
    "\n",
    "if(num_of_students >= 20) and (num_of_students <=50):\n",
    "    print('hello','welcome to the session.')\n",
    "    print('we will start the session in 5 minutes.')\n",
    "    print('we are going to study python today')\n",
    "print('this is outside the body of if')"
   ]
  },
  {
   "cell_type": "code",
   "execution_count": 209,
   "id": "a5b3adc6",
   "metadata": {},
   "outputs": [
    {
     "name": "stdout",
     "output_type": "stream",
     "text": [
      "enter the number of students in the session:15\n",
      "hello welcome to the session.\n",
      "we will start the session in 5 minutes.\n",
      "we are going to study python today\n",
      "this is outside the body of if\n"
     ]
    }
   ],
   "source": [
    "num_of_students = int(input('enter the number of students in the session:'))\n",
    "\n",
    "if(num_of_students > 20) or (num_of_students<=50):\n",
    "    print('hello','welcome to the session.')\n",
    "    print('we will start the session in 5 minutes.')\n",
    "    print('we are going to study python today')\n",
    "print('this is outside the body of if')"
   ]
  },
  {
   "cell_type": "code",
   "execution_count": 207,
   "id": "9faf5a18",
   "metadata": {},
   "outputs": [
    {
     "name": "stdout",
     "output_type": "stream",
     "text": [
      "enter the number of students in the session:24\n",
      "hello welcome to the session.\n",
      "we will start the session in 5 minutes.\n",
      "we are going to study python today\n",
      "this is outside the body of if\n"
     ]
    }
   ],
   "source": [
    "num_of_students = int(input('enter the number of students in the session:'))\n",
    "\n",
    "if True:\n",
    "    print('hello','welcome to the session.')\n",
    "    print('we will start the session in 5 minutes.')\n",
    "    print('we are going to study python today')\n",
    "print('this is outside the body of if')"
   ]
  },
  {
   "cell_type": "markdown",
   "id": "c1e04872",
   "metadata": {},
   "source": [
    "#### operarors in if"
   ]
  },
  {
   "cell_type": "code",
   "execution_count": 208,
   "id": "c3644497",
   "metadata": {},
   "outputs": [
    {
     "name": "stdout",
     "output_type": "stream",
     "text": [
      "65\n",
      "[25, 35, 65, 55]\n"
     ]
    }
   ],
   "source": [
    "# using membership test\n",
    "mylist1 =[25,35,65,55]\n",
    "#i=65\n",
    "\n",
    "if(65 in mylist1):\n",
    "    print(65)\n",
    "    \n",
    "print(mylist1)"
   ]
  },
  {
   "cell_type": "markdown",
   "id": "ecf5d797",
   "metadata": {},
   "source": [
    "### 2. IF-ELSE\n",
    "USING IF-ELSE"
   ]
  },
  {
   "cell_type": "code",
   "execution_count": 210,
   "id": "f44b0322",
   "metadata": {},
   "outputs": [
    {
     "name": "stdout",
     "output_type": "stream",
     "text": [
      "enter the number of students in the session:10\n",
      "we will wait for more students to join the session and then we will start.\n"
     ]
    }
   ],
   "source": [
    "num_of_students = int(input('enter the number of students in the session:'))\n",
    "\n",
    "if(num_of_students > 20):\n",
    "    print('hello','welcome to the session.')\n",
    "    print('we will start the session in 5 minutes.')\n",
    "    print('we are going to study python today')\n",
    "else:\n",
    "    print('we will wait for more students to join the session and then we will start.')"
   ]
  },
  {
   "cell_type": "code",
   "execution_count": null,
   "id": "41eecb90",
   "metadata": {},
   "outputs": [],
   "source": [
    "# True: everything except false values\n",
    "# False: false,0,none"
   ]
  },
  {
   "cell_type": "code",
   "execution_count": 211,
   "id": "d7e74fcb",
   "metadata": {},
   "outputs": [
    {
     "name": "stdout",
     "output_type": "stream",
     "text": [
      "hello welcome to the session.\n",
      "we will start the session in 5 minutes.\n",
      "we are going to study python today\n"
     ]
    }
   ],
   "source": [
    "#num_of_students = int(input('enter the number of students in the session:'))\n",
    "\n",
    "if(4-3):   #condition that is checked for true or false \n",
    "    print('hello','welcome to the session.')\n",
    "    print('we will start the session in 5 minutes.')\n",
    "    print('we are going to study python today')\n",
    "else:\n",
    "    print('we will wait for more students to join the session and then we will start.')"
   ]
  },
  {
   "cell_type": "code",
   "execution_count": 212,
   "id": "9509e35c",
   "metadata": {},
   "outputs": [
    {
     "name": "stdout",
     "output_type": "stream",
     "text": [
      "enter the marks : 16\n",
      "sorry,you failed the exam.\n"
     ]
    }
   ],
   "source": [
    "marks = int(input('enter the marks : '))\n",
    "cutoff=35\n",
    "\n",
    "if marks > cutoff:\n",
    "    print('congratulations,you passed!')\n",
    "else:\n",
    "    print('sorry,you failed the exam.')"
   ]
  },
  {
   "cell_type": "code",
   "execution_count": 213,
   "id": "5feea918",
   "metadata": {},
   "outputs": [
    {
     "name": "stdout",
     "output_type": "stream",
     "text": [
      "enter a number:35\n",
      "number is odd\n"
     ]
    }
   ],
   "source": [
    "num = int(input('enter a number:'))\n",
    "\n",
    "if num%2==0 :\n",
    "    print('number is even')\n",
    "else:\n",
    "    print('number is odd')     "
   ]
  },
  {
   "cell_type": "markdown",
   "id": "9e400142",
   "metadata": {},
   "source": [
    "### 3. ELSE\n",
    "- all the cases which aren't satisfied using the if statement are collected in the else block given by the else keyword. else block is the terminal block where all edge cases are collected. as such, no statement has to be given when we are using the else"
   ]
  },
  {
   "cell_type": "code",
   "execution_count": 214,
   "id": "01e97668",
   "metadata": {},
   "outputs": [
    {
     "name": "stdout",
     "output_type": "stream",
     "text": [
      "enter your marks :65\n",
      "passed\n"
     ]
    }
   ],
   "source": [
    "marks=int(input('enter your marks :'))\n",
    "cutoff =35\n",
    "distinction =75\n",
    "# if and elif only write in conditions dont write in else#\n",
    "if marks <cutoff:\n",
    "    print('failed')\n",
    "elif marks >=distinction:\n",
    "    print('passed with distinction')\n",
    "else:\n",
    "    print('passed')   "
   ]
  },
  {
   "cell_type": "markdown",
   "id": "9dd0eed0",
   "metadata": {},
   "source": [
    "### 4. Nested if & if-else"
   ]
  },
  {
   "cell_type": "code",
   "execution_count": 216,
   "id": "c9d7cdd3",
   "metadata": {},
   "outputs": [
    {
     "name": "stdout",
     "output_type": "stream",
     "text": [
      "enter your marks :67\n",
      "result:pass\n"
     ]
    }
   ],
   "source": [
    "marksscored=int(input('enter your marks :'))\n",
    "cutoffscore =35\n",
    "distinctioncutoff =75\n",
    "if(marksscored>cutoffscore):\n",
    "    print('result:pass')\n",
    "    if(marksscored>=distinctioncutoff):\n",
    "        print('result: pass with distinction')"
   ]
  },
  {
   "cell_type": "markdown",
   "id": "5e4f824f",
   "metadata": {},
   "source": [
    "#### problem on tax payment"
   ]
  },
  {
   "cell_type": "code",
   "execution_count": 217,
   "id": "ed16e893",
   "metadata": {},
   "outputs": [
    {
     "name": "stdout",
     "output_type": "stream",
     "text": [
      "enter the taxable income:56\n",
      "taxable income 16.8\n"
     ]
    }
   ],
   "source": [
    "taxable_income = float(input('enter the taxable income:'))\n",
    "# taxable_income=taxable_income/100000\n",
    "# 0 - 2.5 - 0%\n",
    "# 2.5 -5 -5%\n",
    "# 5. -10 -20%\n",
    "# 10 or above -30%\n",
    "if(taxable_income>=10):\n",
    "    print('taxable income',taxable_income*0.3)\n",
    "else:\n",
    "    if(taxable_income<10 and taxable_income>=5):\n",
    "        print('taxable income',taxable_income*0.2)\n",
    "    else:\n",
    "        if(taxable_income<5 and taxable_income>=2.5):\n",
    "            print('taxable income',taxable_income*0.05)\n",
    "        else:\n",
    "            print('taxable income',0)"
   ]
  },
  {
   "cell_type": "markdown",
   "id": "fea2d2a1",
   "metadata": {},
   "source": [
    "### 5. Elif ladder\n",
    "- the `elif` keyword is used to check for those conditions which weren't done so by the previous statements. as a rule of thumb, if we're checking for n number of outcomes(n>s2).we'll be having n-2 number of elif statements"
   ]
  },
  {
   "cell_type": "code",
   "execution_count": 218,
   "id": "dc821723",
   "metadata": {},
   "outputs": [
    {
     "name": "stdout",
     "output_type": "stream",
     "text": [
      "enter the taxable income:34\n",
      "slab is 30% and tax payable is 10.2\n"
     ]
    }
   ],
   "source": [
    "taxable_income = float(input('enter the taxable income:'))\n",
    "\n",
    "# taxable_income=taxable_income/100000\n",
    "# 0 - 2.5 - 0%\n",
    "# 2.5 -5 -5%\n",
    "# 5. -10 -20%\n",
    "# 10 or above -30%\n",
    "\n",
    "if(taxable_income>=10):\n",
    "    print('slab is {} and tax payable is {}'.format('30%',taxable_income*0.3))\n",
    "elif(taxable_income<10 and taxable_income>=5):\n",
    "    print('slab is {} and tax payable is {}'.format('20%',taxable_income*0.2))\n",
    "elif(taxable_income<5 and taxable_income>=2.5):\n",
    "    print('slab is {} and tax payable is {}'.format('5%',taxable_income*0.05))\n",
    "else:\n",
    "    print('slab is {} and tax payable is {}'.format('0%',0))"
   ]
  },
  {
   "cell_type": "code",
   "execution_count": 219,
   "id": "e0a5c539",
   "metadata": {},
   "outputs": [],
   "source": [
    "#### advantages of function\n",
    "# code reusable\n",
    "# time saving\n",
    "# error can be less\n",
    "# no repetation of code\n",
    "# you can make multiple functions it becomes much more efficient and clean and managable\n",
    "# it will increase time complexity of the program\n",
    "# time complexity is nothing but how much time it can be taken to run any program"
   ]
  },
  {
   "cell_type": "markdown",
   "id": "247b1473",
   "metadata": {},
   "source": [
    "### **what is function ?**\n",
    "- function is a group of statrments that performs a specific task.\n",
    "- a function is a collection of statements grouped together that performs an operation. when you call the random.randint(a,b)function,for example,the system actually executes the statements in the function and returns the result."
   ]
  },
  {
   "cell_type": "markdown",
   "id": "fdfb7125",
   "metadata": {},
   "source": [
    "### **advantages of functions:**makes\n",
    " - your code more organized and manageable\n",
    " - brings resuability there by avoiding code redundency"
   ]
  },
  {
   "cell_type": "markdown",
   "id": "35ed11cc",
   "metadata": {},
   "source": [
    "#### **some of terminalogies/keywords used in functions**\n",
    "- `def`-marks the start of the function header.\n",
    "- `function name`-used to uniquely identify the function.function naming follows the same check list which we followed for variables.\n",
    "- `params/arga`-used to pass values to a function.params ate optional.\n",
    "- `colon(:)`-marks the end of the function header.\n",
    "- `doc string`-a short description about the function.this is optional.\n",
    "- `business logic/statements`-one ore more valid python statements to perform the required task.\n",
    "- `return`-this is optional.but this statement will help you to return a value from the function.\n",
    "- `print`-to disply the value from the function.this is optional.either print or return need to be inclided at the end of the function.make sure proper indentation is gicen inside the function body."
   ]
  },
  {
   "cell_type": "code",
   "execution_count": null,
   "id": "119cd6a3",
   "metadata": {},
   "outputs": [],
   "source": [
    "def funtion_name(var1,var2): # var1,var2 these are the parameters of the function\n",
    "  \"\"\"this is a doc string and it is used to explain your function logic\"\"\" ## this is called doc string\n",
    "  add=var1+var2\n",
    "  start1\n",
    "  start2\n",
    "  start3 ## is whole is called body of the function and works in based on logics\n",
    "  start4\n",
    "  start5\n",
    "\n",
    "  return add ## return is the keyword"
   ]
  },
  {
   "cell_type": "code",
   "execution_count": null,
   "id": "2f824e40",
   "metadata": {},
   "outputs": [],
   "source": [
    "#function_name(10,20) # function call\n",
    "#function_name(50,60)"
   ]
  },
  {
   "cell_type": "markdown",
   "id": "a930f542",
   "metadata": {},
   "source": [
    "#### **function definition**\n",
    "- a function contains a header and body.the header begins with the def keywoed,followed by the function's name and parameres,and ends with a colon."
   ]
  },
  {
   "cell_type": "code",
   "execution_count": null,
   "id": "56e70593",
   "metadata": {},
   "outputs": [],
   "source": [
    "#function_name(30,40)\n",
    "#function_name(70,80)\n",
    "#function_name(90,100)"
   ]
  },
  {
   "cell_type": "code",
   "execution_count": 220,
   "id": "9412bae0",
   "metadata": {},
   "outputs": [
    {
     "name": "stdout",
     "output_type": "stream",
     "text": [
      "hello world\n"
     ]
    }
   ],
   "source": [
    "def maximum(a,b):\n",
    "    if a>b:\n",
    "        print('a is greater than b')\n",
    "    else:\n",
    "        print('b is greater than a')\n",
    "print('hello world')"
   ]
  },
  {
   "cell_type": "code",
   "execution_count": 221,
   "id": "3756e7b0",
   "metadata": {},
   "outputs": [
    {
     "name": "stdout",
     "output_type": "stream",
     "text": [
      "a is greater than b\n"
     ]
    }
   ],
   "source": [
    "maximum(12,10)"
   ]
  },
  {
   "cell_type": "code",
   "execution_count": 222,
   "id": "5f8add66",
   "metadata": {},
   "outputs": [
    {
     "name": "stdout",
     "output_type": "stream",
     "text": [
      "b is greater than a\n"
     ]
    }
   ],
   "source": [
    "maximum(12,15)"
   ]
  },
  {
   "cell_type": "markdown",
   "id": "4bcfe244",
   "metadata": {},
   "source": [
    "### function call\n",
    "- in a function definition,you define what it is to do.to use a function,you have to call or invoke it. the program that calls the function is called a caller. there are two ways to call a function,depending on whether or not it returns a value."
   ]
  },
  {
   "cell_type": "markdown",
   "id": "6078e916",
   "metadata": {},
   "source": [
    "- if a function does not return a value,the call to the function must be a statement.for example,the print function does not return a value.the following call is a statement. print(\"programming is fun!\")"
   ]
  },
  {
   "cell_type": "code",
   "execution_count": 223,
   "id": "4b6dc395",
   "metadata": {},
   "outputs": [
    {
     "name": "stdout",
     "output_type": "stream",
     "text": [
      "2.0\n"
     ]
    }
   ],
   "source": [
    "import math\n",
    "ans=math.sqrt(4)\n",
    "print(ans)"
   ]
  },
  {
   "cell_type": "markdown",
   "id": "8369a616",
   "metadata": {},
   "source": [
    "**note**:when a program calls a function,program control is transferred to the called function.a called function returns control to the caller when its return statement is executed or the function is finished."
   ]
  },
  {
   "cell_type": "code",
   "execution_count": 224,
   "id": "facc3900",
   "metadata": {},
   "outputs": [
    {
     "name": "stdout",
     "output_type": "stream",
     "text": [
      "the larger number of 5 and 2 is 5\n"
     ]
    }
   ],
   "source": [
    "def maximum(num1,num2):\n",
    "    if num1>num2:\n",
    "        result=num1\n",
    "    else:\n",
    "        result=num2\n",
    "    return result # if return is not written it can not identify k value and display the none\n",
    "def main():\n",
    "    i=5\n",
    "    j=2\n",
    "    k=maximum(i,j)\n",
    "    print('the larger number of',i,'and',j,'is',k)\n",
    "\n",
    "main() #execution starts in this line"
   ]
  },
  {
   "cell_type": "markdown",
   "id": "387a7a37",
   "metadata": {},
   "source": [
    "### functions with/without return values\n",
    "- this section shows how to define and invoke a function that does not return a value.such a function is commonly known as a void function in programming terminology"
   ]
  },
  {
   "cell_type": "code",
   "execution_count": 225,
   "id": "f8688f5a",
   "metadata": {},
   "outputs": [],
   "source": [
    "def maximum(num1,num2):\n",
    "    if num1>num2:\n",
    "        return num1\n",
    "    else:\n",
    "        return num2"
   ]
  },
  {
   "cell_type": "code",
   "execution_count": 226,
   "id": "2470cdab",
   "metadata": {},
   "outputs": [
    {
     "data": {
      "text/plain": [
       "65"
      ]
     },
     "execution_count": 226,
     "metadata": {},
     "output_type": "execute_result"
    }
   ],
   "source": [
    "maximum(65,43)"
   ]
  },
  {
   "cell_type": "code",
   "execution_count": 227,
   "id": "39d4dccd",
   "metadata": {},
   "outputs": [],
   "source": [
    "def maximum(num1,num2):\n",
    "    if num1 > num2:\n",
    "        result = num1\n",
    "    else:\n",
    "        result = num2 #if can not use return it not show the output and use the print then it can be show the none output"
   ]
  },
  {
   "cell_type": "code",
   "execution_count": 228,
   "id": "4944c1b4",
   "metadata": {},
   "outputs": [
    {
     "name": "stdout",
     "output_type": "stream",
     "text": [
      "None\n"
     ]
    }
   ],
   "source": [
    "print(maximum(65,43))"
   ]
  },
  {
   "cell_type": "code",
   "execution_count": 229,
   "id": "1824df52",
   "metadata": {},
   "outputs": [],
   "source": [
    "def maximum(num1,num2):\n",
    "    if num1 > num2:\n",
    "        result = num1\n",
    "    else:\n",
    "        result = num2\n",
    "    return result"
   ]
  },
  {
   "cell_type": "code",
   "execution_count": 230,
   "id": "bdf054b1",
   "metadata": {},
   "outputs": [
    {
     "data": {
      "text/plain": [
       "65"
      ]
     },
     "execution_count": 230,
     "metadata": {},
     "output_type": "execute_result"
    }
   ],
   "source": [
    "maximum(65,43)"
   ]
  },
  {
   "cell_type": "code",
   "execution_count": 231,
   "id": "1411a5fb",
   "metadata": {},
   "outputs": [
    {
     "name": "stdout",
     "output_type": "stream",
     "text": [
      "maximum= 90\n"
     ]
    }
   ],
   "source": [
    "# function with return value\n",
    "def maximum(a,b):\n",
    "    if a>b:\n",
    "        return a\n",
    "    else:\n",
    "        return b\n",
    "\n",
    "ans=maximum(50,90)\n",
    "print('maximum=',ans)"
   ]
  },
  {
   "cell_type": "code",
   "execution_count": 232,
   "id": "7ebeac5f",
   "metadata": {},
   "outputs": [],
   "source": [
    "def maximum_2(num1,num2):\n",
    "    if num1>num2:\n",
    "        print(num1,'is maximum')\n",
    "    else:\n",
    "        print(num2,'is maximum')# in this program it can not nessesary used return keyword\n",
    "    return None"
   ]
  },
  {
   "cell_type": "code",
   "execution_count": 233,
   "id": "fc26472c",
   "metadata": {},
   "outputs": [
    {
     "name": "stdout",
     "output_type": "stream",
     "text": [
      "65 is maximum\n",
      "None\n"
     ]
    }
   ],
   "source": [
    "print(maximum_2(65,43)) #if none is display it can be used to print option"
   ]
  },
  {
   "cell_type": "markdown",
   "id": "367e10a0",
   "metadata": {},
   "source": [
    "### note 1:\n",
    "technically,every function in python returns a value whether you use return or not.if a function does not return a value,by default,it returns a special value `none`.for this reason,a function that does not return a value is also called a none function.the none value can be assigned to a variable to indicate that the variable does not references any object.for example,if you run the following program,you will see the output is none,because the sum function does not have a return statement.by default,it returns none."
   ]
  },
  {
   "cell_type": "code",
   "execution_count": 234,
   "id": "c519f7f5",
   "metadata": {},
   "outputs": [
    {
     "name": "stdout",
     "output_type": "stream",
     "text": [
      "None\n"
     ]
    }
   ],
   "source": [
    "def sum(number1,number2):\n",
    "    total=number1+number2\n",
    "    return None\n",
    "print(sum(10,20))"
   ]
  },
  {
   "cell_type": "markdown",
   "id": "b39cab05",
   "metadata": {},
   "source": [
    "### note 2:\n",
    "a return statement is not needed for a none function,but it can be used for terminating the function and returning control to the function's caller.the syntax is simply\n",
    "\n",
    "**return(or)**\n",
    "\n",
    "**return None**\n",
    "\n",
    "this is rarely used,but it is sometimes useful for circumventing the normal flow of control in a function that does not return any value.for example,the following code has a return statement to terminate the function when the score is invalid."
   ]
  },
  {
   "cell_type": "code",
   "execution_count": 235,
   "id": "9af49c84",
   "metadata": {},
   "outputs": [],
   "source": [
    "#  break is used to inside of iteration for used for and while#"
   ]
  },
  {
   "cell_type": "code",
   "execution_count": 236,
   "id": "29278562",
   "metadata": {},
   "outputs": [
    {
     "name": "stdout",
     "output_type": "stream",
     "text": [
      "invalid score\n"
     ]
    }
   ],
   "source": [
    "# print grade for the score\n",
    "def printgrade(score):\n",
    "    if score <0 or score >100:\n",
    "        print('invalid score')\n",
    "        return #same as return none ### it can be writen in return keyword it cant move the next body of the function\n",
    "    if score >=90.0:\n",
    "        print('a')\n",
    "    elif score >=80.0:\n",
    "        print('b')\n",
    "    elif score >=70.0:\n",
    "        print('c')\n",
    "    elif score >=60.0:\n",
    "        print('d')\n",
    "    else:\n",
    "        print('f')\n",
    "printgrade(112) ##after writen the return keyword it can move directly printgrade"
   ]
  },
  {
   "cell_type": "code",
   "execution_count": 237,
   "id": "03485913",
   "metadata": {},
   "outputs": [
    {
     "name": "stdout",
     "output_type": "stream",
     "text": [
      "f\n"
     ]
    }
   ],
   "source": [
    "# print grade for the score\n",
    "def printgrade(score):\n",
    "    if score <0 or score >100:\n",
    "        print('invalid score')\n",
    "        return #same as return none\n",
    "    if score >=90.0:\n",
    "        print('a')\n",
    "    elif score >=80.0:\n",
    "        print('b')\n",
    "    elif score >=70.0:\n",
    "        print('c')\n",
    "    elif score >=60.0:\n",
    "        print('d')\n",
    "    else:\n",
    "        print('f')\n",
    "printgrade(56)"
   ]
  },
  {
   "cell_type": "markdown",
   "id": "a53773bc",
   "metadata": {},
   "source": [
    "### positional and keyword arguments\n",
    "the power of function is its ability to work with parameters.when calling a function,you need to pass arguments to paramters.there are two kinds of arguments:positional arguments and keyword arguments.\n",
    "\n",
    "using **positional arguments** requires that the arguments be passed in the same order as their respective parameters in the function header.the arguments must match the parameters in order,number,and compatible type,as defined in the function header.\n",
    "\n",
    "you can also call a function using **keyword arguments**,passing each argument in the form`name=value`.the arguments can appears in any order using keyword arguments."
   ]
  },
  {
   "cell_type": "code",
   "execution_count": 238,
   "id": "aef96091",
   "metadata": {},
   "outputs": [],
   "source": [
    "def  nprintln(message,n):\n",
    "    for i in range(n):\n",
    "        print(message)"
   ]
  },
  {
   "cell_type": "code",
   "execution_count": 239,
   "id": "1e776a9c",
   "metadata": {},
   "outputs": [
    {
     "name": "stdout",
     "output_type": "stream",
     "text": [
      "a\n",
      "a\n",
      "a\n"
     ]
    }
   ],
   "source": [
    "nprintln('a',3)"
   ]
  },
  {
   "cell_type": "code",
   "execution_count": 240,
   "id": "567e208d",
   "metadata": {},
   "outputs": [
    {
     "ename": "TypeError",
     "evalue": "'str' object cannot be interpreted as an integer",
     "output_type": "error",
     "traceback": [
      "\u001b[1;31m---------------------------------------------------------------------------\u001b[0m",
      "\u001b[1;31mTypeError\u001b[0m                                 Traceback (most recent call last)",
      "Cell \u001b[1;32mIn[240], line 1\u001b[0m\n\u001b[1;32m----> 1\u001b[0m \u001b[43mnprintln\u001b[49m\u001b[43m(\u001b[49m\u001b[38;5;241;43m3\u001b[39;49m\u001b[43m,\u001b[49m\u001b[38;5;124;43m'\u001b[39;49m\u001b[38;5;124;43ma\u001b[39;49m\u001b[38;5;124;43m'\u001b[39;49m\u001b[43m)\u001b[49m\n",
      "Cell \u001b[1;32mIn[238], line 2\u001b[0m, in \u001b[0;36mnprintln\u001b[1;34m(message, n)\u001b[0m\n\u001b[0;32m      1\u001b[0m \u001b[38;5;28;01mdef\u001b[39;00m  \u001b[38;5;21mnprintln\u001b[39m(message,n):\n\u001b[1;32m----> 2\u001b[0m     \u001b[38;5;28;01mfor\u001b[39;00m i \u001b[38;5;129;01min\u001b[39;00m \u001b[38;5;28;43mrange\u001b[39;49m\u001b[43m(\u001b[49m\u001b[43mn\u001b[49m\u001b[43m)\u001b[49m:\n\u001b[0;32m      3\u001b[0m         \u001b[38;5;28mprint\u001b[39m(message)\n",
      "\u001b[1;31mTypeError\u001b[0m: 'str' object cannot be interpreted as an integer"
     ]
    }
   ],
   "source": [
    "nprintln(3,'a')"
   ]
  },
  {
   "cell_type": "code",
   "execution_count": 241,
   "id": "482df960",
   "metadata": {},
   "outputs": [
    {
     "name": "stdout",
     "output_type": "stream",
     "text": [
      "good\n",
      "good\n",
      "good\n",
      "good\n",
      "good\n"
     ]
    }
   ],
   "source": [
    "nprintln(n=5,message='good')"
   ]
  },
  {
   "cell_type": "code",
   "execution_count": 242,
   "id": "409421ef",
   "metadata": {},
   "outputs": [
    {
     "name": "stdout",
     "output_type": "stream",
     "text": [
      "good\n",
      "good\n",
      "good\n",
      "good\n",
      "good\n"
     ]
    }
   ],
   "source": [
    "nprintln(message='good',n=5)"
   ]
  },
  {
   "cell_type": "markdown",
   "id": "493f5495",
   "metadata": {},
   "source": [
    "### modularizing code\n",
    "function can be used to reduce redundant code and enable code reuse.functions can also be used to modularize code and improve a program's quality.in python,you can place the function into a file called module with the file-name extention.py.the module can be later imported into a program for reuse.the module file should be placed in the same directory with your other programs.a module can contain more than one function.each function in a module must have a different name."
   ]
  },
  {
   "cell_type": "code",
   "execution_count": 243,
   "id": "306d4d06",
   "metadata": {},
   "outputs": [
    {
     "name": "stdout",
     "output_type": "stream",
     "text": [
      "Overwriting mymath.py\n"
     ]
    }
   ],
   "source": [
    "%%writefile mymath.py\n",
    "def add(x,y):\n",
    "    return x+y\n",
    "def subtract(x,y):\n",
    "    return x-y\n",
    "def multiply(x,y):\n",
    "    return x*y\n",
    "def divide(x,y):\n",
    "    return x/y"
   ]
  },
  {
   "cell_type": "code",
   "execution_count": 244,
   "id": "691a3609",
   "metadata": {},
   "outputs": [
    {
     "name": "stdout",
     "output_type": "stream",
     "text": [
      "30\n"
     ]
    }
   ],
   "source": [
    "import mymath as m\n",
    "ans=m.add(10,20)\n",
    "print(ans)"
   ]
  },
  {
   "cell_type": "markdown",
   "id": "b691702b",
   "metadata": {},
   "source": [
    "### the scope of variables\n",
    "the scope of a variable is the part of the program where the variable can be referenced.a variable created inside a function is reffered to as a local variable.local variables can only be accessed within a function.the scope of a local variable starts from its creation and continue to the end of the function that contains the variable.\n",
    "\n",
    "in python,you can also use global variables.they are created outside all functions and are accessible to all functions in their scope."
   ]
  },
  {
   "cell_type": "code",
   "execution_count": 245,
   "id": "228dd401",
   "metadata": {},
   "outputs": [],
   "source": [
    "#scope of a variable:where the variable is identify # life time of a variable:the time till which any variable is active"
   ]
  },
  {
   "cell_type": "markdown",
   "id": "c6343986",
   "metadata": {},
   "source": [
    "**lifetime of the variable:the time till which any variable is active throughout the program**\n",
    "\n",
    "**scope of a variable:the area where any variable is identified**."
   ]
  },
  {
   "cell_type": "code",
   "execution_count": 246,
   "id": "f1e1a032",
   "metadata": {},
   "outputs": [
    {
     "name": "stdout",
     "output_type": "stream",
     "text": [
      "1\n",
      "2\n",
      "1\n"
     ]
    },
    {
     "ename": "NameError",
     "evalue": "name 'localvar' is not defined",
     "output_type": "error",
     "traceback": [
      "\u001b[1;31m---------------------------------------------------------------------------\u001b[0m",
      "\u001b[1;31mNameError\u001b[0m                                 Traceback (most recent call last)",
      "Cell \u001b[1;32mIn[246], line 8\u001b[0m\n\u001b[0;32m      6\u001b[0m f1()\n\u001b[0;32m      7\u001b[0m \u001b[38;5;28mprint\u001b[39m(globalvar) \n\u001b[1;32m----> 8\u001b[0m \u001b[38;5;28mprint\u001b[39m(\u001b[43mlocalvar\u001b[49m)\n",
      "\u001b[1;31mNameError\u001b[0m: name 'localvar' is not defined"
     ]
    }
   ],
   "source": [
    "globalvar=1\n",
    "def f1():\n",
    "    localvar=2\n",
    "    print(globalvar)\n",
    "    print(localvar)\n",
    "f1()\n",
    "print(globalvar) \n",
    "print(localvar) #out of scope,so this gives an error #only works inside of the function"
   ]
  },
  {
   "cell_type": "code",
   "execution_count": 247,
   "id": "0bd76875",
   "metadata": {},
   "outputs": [
    {
     "name": "stdout",
     "output_type": "stream",
     "text": [
      "1\n",
      "2\n"
     ]
    }
   ],
   "source": [
    "f1()"
   ]
  },
  {
   "cell_type": "code",
   "execution_count": 248,
   "id": "34531618",
   "metadata": {},
   "outputs": [
    {
     "name": "stdout",
     "output_type": "stream",
     "text": [
      "2\n",
      "1\n"
     ]
    }
   ],
   "source": [
    "x=1\n",
    "def f1():\n",
    "    x=2\n",
    "    print(x)# displays 2\n",
    "f1()\n",
    "print(x) # displays 1"
   ]
  },
  {
   "cell_type": "code",
   "execution_count": 249,
   "id": "bbe126fa",
   "metadata": {},
   "outputs": [
    {
     "name": "stdout",
     "output_type": "stream",
     "text": [
      "2\n",
      "2\n"
     ]
    }
   ],
   "source": [
    "p=1 # global variable\n",
    "def increase():\n",
    "    global p\n",
    "    p=p+1\n",
    "    print(p)\n",
    "increase()\n",
    "print(p)# display 2"
   ]
  },
  {
   "cell_type": "code",
   "execution_count": 250,
   "id": "0008ae73",
   "metadata": {},
   "outputs": [
    {
     "name": "stdout",
     "output_type": "stream",
     "text": [
      "10\n",
      "2\n",
      "1\n"
     ]
    },
    {
     "ename": "NameError",
     "evalue": "name 'localvar' is not defined",
     "output_type": "error",
     "traceback": [
      "\u001b[1;31m---------------------------------------------------------------------------\u001b[0m",
      "\u001b[1;31mNameError\u001b[0m                                 Traceback (most recent call last)",
      "Cell \u001b[1;32mIn[250], line 9\u001b[0m\n\u001b[0;32m      7\u001b[0m f1()\n\u001b[0;32m      8\u001b[0m \u001b[38;5;28mprint\u001b[39m(globalvar) \n\u001b[1;32m----> 9\u001b[0m \u001b[38;5;28mprint\u001b[39m(\u001b[43mlocalvar\u001b[49m)\n",
      "\u001b[1;31mNameError\u001b[0m: name 'localvar' is not defined"
     ]
    }
   ],
   "source": [
    "globalvar=1\n",
    "def f1():\n",
    "    localvar=2\n",
    "    globalvar=10\n",
    "    print(globalvar)\n",
    "    print(localvar)\n",
    "f1()\n",
    "print(globalvar) \n",
    "print(localvar)"
   ]
  },
  {
   "cell_type": "markdown",
   "id": "3d8dc8e4",
   "metadata": {},
   "source": [
    "**global**:gives us the permission to make changes to the global variable from inside of any function"
   ]
  },
  {
   "cell_type": "code",
   "execution_count": 251,
   "id": "8a22ec2e",
   "metadata": {},
   "outputs": [
    {
     "name": "stdout",
     "output_type": "stream",
     "text": [
      "10\n",
      "2\n",
      "10\n"
     ]
    },
    {
     "ename": "NameError",
     "evalue": "name 'localvar' is not defined",
     "output_type": "error",
     "traceback": [
      "\u001b[1;31m---------------------------------------------------------------------------\u001b[0m",
      "\u001b[1;31mNameError\u001b[0m                                 Traceback (most recent call last)",
      "Cell \u001b[1;32mIn[251], line 10\u001b[0m\n\u001b[0;32m      8\u001b[0m f1()\n\u001b[0;32m      9\u001b[0m \u001b[38;5;28mprint\u001b[39m(globalvar) \n\u001b[1;32m---> 10\u001b[0m \u001b[38;5;28mprint\u001b[39m(\u001b[43mlocalvar\u001b[49m)\n",
      "\u001b[1;31mNameError\u001b[0m: name 'localvar' is not defined"
     ]
    }
   ],
   "source": [
    "globalvar=1\n",
    "def f1():\n",
    "    localvar=2\n",
    "    global globalvar ##access the global var\n",
    "    globalvar=10\n",
    "    print(globalvar)\n",
    "    print(localvar)\n",
    "f1()\n",
    "print(globalvar) \n",
    "print(localvar)"
   ]
  },
  {
   "cell_type": "code",
   "execution_count": 252,
   "id": "b409f3ab",
   "metadata": {},
   "outputs": [],
   "source": [
    "def maximum(a,b):\n",
    "    pass"
   ]
  },
  {
   "cell_type": "code",
   "execution_count": 253,
   "id": "180af799",
   "metadata": {},
   "outputs": [],
   "source": [
    "maximum(10,20)"
   ]
  },
  {
   "cell_type": "markdown",
   "id": "8c802c0a",
   "metadata": {},
   "source": [
    "### function arguments"
   ]
  },
  {
   "cell_type": "code",
   "execution_count": 254,
   "id": "8292bdcb",
   "metadata": {},
   "outputs": [],
   "source": [
    "def maximum(num1,num2):## num1,num2 are called parameters\n",
    "    if num1>num2:\n",
    "        result=num1\n",
    "    else:\n",
    "        result=num2\n",
    "    return result  "
   ]
  },
  {
   "cell_type": "code",
   "execution_count": 255,
   "id": "5c5d1b4f",
   "metadata": {},
   "outputs": [
    {
     "data": {
      "text/plain": [
       "20"
      ]
     },
     "execution_count": 255,
     "metadata": {},
     "output_type": "execute_result"
    }
   ],
   "source": [
    "maximum(20,10)## these are called arguments"
   ]
  },
  {
   "cell_type": "code",
   "execution_count": 256,
   "id": "4a8a723a",
   "metadata": {},
   "outputs": [],
   "source": [
    "def maximum(num1,num2=15):## num1,num2 are called parameters# this is going to the default argument\n",
    "    if num1>num2:\n",
    "        result=num1\n",
    "    else:\n",
    "        result=num2\n",
    "    return result"
   ]
  },
  {
   "cell_type": "code",
   "execution_count": 257,
   "id": "50c23789",
   "metadata": {},
   "outputs": [
    {
     "data": {
      "text/plain": [
       "20"
      ]
     },
     "execution_count": 257,
     "metadata": {},
     "output_type": "execute_result"
    }
   ],
   "source": [
    "maximum(20)"
   ]
  },
  {
   "cell_type": "code",
   "execution_count": 258,
   "id": "66d0e1d8",
   "metadata": {},
   "outputs": [
    {
     "data": {
      "text/plain": [
       "20"
      ]
     },
     "execution_count": 258,
     "metadata": {},
     "output_type": "execute_result"
    }
   ],
   "source": [
    "def maximum(num2,num1=10):## num1,num2 are called parameters\n",
    "    if num1>num2:\n",
    "        result=num1\n",
    "    else:\n",
    "        result=num2\n",
    "    return result\n",
    "maximum(20)"
   ]
  },
  {
   "cell_type": "code",
   "execution_count": 259,
   "id": "9deb3b7a",
   "metadata": {},
   "outputs": [
    {
     "data": {
      "text/plain": [
       "30"
      ]
     },
     "execution_count": 259,
     "metadata": {},
     "output_type": "execute_result"
    }
   ],
   "source": [
    "def maximum(num1,num2):## num1,num2 are called parameters\n",
    "    if num1>num2:\n",
    "        result=num1\n",
    "    else:\n",
    "        result=num2\n",
    "    return result\n",
    "maximum(20,30)"
   ]
  },
  {
   "cell_type": "markdown",
   "id": "eacd129d",
   "metadata": {},
   "source": [
    "### 1. default arguments\n",
    "- we can provide a default value to an argument by using the assignment operator(=)."
   ]
  },
  {
   "cell_type": "code",
   "execution_count": 260,
   "id": "54f0c2a8",
   "metadata": {},
   "outputs": [
    {
     "name": "stdout",
     "output_type": "stream",
     "text": [
      "hello Rohit good evening\n"
     ]
    }
   ],
   "source": [
    "def greet(name='Rohut',msg='good morning'):\n",
    "    \"\"\"this function greets to person with the provided message if message is not provided,it defaults to 'good morning'\"\"\"\n",
    "    #print('hello{0},{1}'.format(name,msg))\n",
    "    print('hello',name,msg)\n",
    "greet('Rohit','good evening')"
   ]
  },
  {
   "cell_type": "code",
   "execution_count": 261,
   "id": "f1f18ae5",
   "metadata": {},
   "outputs": [
    {
     "name": "stdout",
     "output_type": "stream",
     "text": [
      "hello rohit good morning\n"
     ]
    }
   ],
   "source": [
    "#with out msg argument\n",
    "greet('rohit')"
   ]
  },
  {
   "cell_type": "markdown",
   "id": "b4d523fc",
   "metadata": {},
   "source": [
    "once we have a default argument,all the arguments to its right must also have default values.\n",
    "\n",
    "def greet(msg='good morning',name)\n",
    "\n",
    "#will get a syntaxerror:non-default argument follows default argument"
   ]
  },
  {
   "cell_type": "markdown",
   "id": "f9e55726",
   "metadata": {},
   "source": [
    "### 2. keyword arguments\n",
    "- kwargs allows you to pass keyworded variable length of arguments to a function.you should use **kwargs if you want to handle named arguments in a function"
   ]
  },
  {
   "cell_type": "code",
   "execution_count": 262,
   "id": "a9754d13",
   "metadata": {},
   "outputs": [],
   "source": [
    "def greet(**kwargs): # ** these are called keyworded arguments\n",
    "    print(kwargs)"
   ]
  },
  {
   "cell_type": "code",
   "execution_count": 263,
   "id": "a591bd32",
   "metadata": {},
   "outputs": [
    {
     "name": "stdout",
     "output_type": "stream",
     "text": [
      "{'num1': 10, 'num2': 20, 'num3': 30}\n"
     ]
    }
   ],
   "source": [
    "greet(num1=10,num2=20,num3=30)"
   ]
  },
  {
   "cell_type": "code",
   "execution_count": 264,
   "id": "a6da0d94",
   "metadata": {},
   "outputs": [],
   "source": [
    "def greet(**batman):\n",
    "    print(batman)"
   ]
  },
  {
   "cell_type": "code",
   "execution_count": 265,
   "id": "1a655ac0",
   "metadata": {},
   "outputs": [
    {
     "name": "stdout",
     "output_type": "stream",
     "text": [
      "{'player1': 'sachin', 'player2': 'virat'}\n"
     ]
    }
   ],
   "source": [
    "greet(player1='sachin',player2='virat')"
   ]
  },
  {
   "cell_type": "code",
   "execution_count": 266,
   "id": "8250b3b7",
   "metadata": {},
   "outputs": [
    {
     "name": "stdout",
     "output_type": "stream",
     "text": [
      "{'msg1': 'hello', 'msg2': 'good morning'}\n"
     ]
    }
   ],
   "source": [
    "greet(msg1='hello',msg2='good morning')"
   ]
  },
  {
   "cell_type": "code",
   "execution_count": 267,
   "id": "31ec6876",
   "metadata": {},
   "outputs": [
    {
     "name": "stdout",
     "output_type": "stream",
     "text": [
      "{'num1': 10, 'num2': 20, 'num3': 30}\n"
     ]
    }
   ],
   "source": [
    "def maximum(**kwargs):\n",
    "    print(kwargs)\n",
    "maximum(num1=10,num2=20,num3=30) ##dictionary of the values"
   ]
  },
  {
   "cell_type": "markdown",
   "id": "73151c9e",
   "metadata": {},
   "source": [
    "### 3. arbitary arguments\n",
    "- sometimes,we do not know in advance the number of arguments that will be passed into a function.python allows us to handle this kind of situation through function calls with arbitary number of arguments."
   ]
  },
  {
   "cell_type": "code",
   "execution_count": 268,
   "id": "8681ea7f",
   "metadata": {},
   "outputs": [
    {
     "name": "stdout",
     "output_type": "stream",
     "text": [
      "('hello', 'good morning', 'how are you?')\n",
      "hello\n",
      "good morning\n",
      "how are you?\n"
     ]
    }
   ],
   "source": [
    "def greet(*messages): # * these are called arbitraory arguments\n",
    "    print(messages)           ## name of parameter\n",
    "    for message in messages:\n",
    "        print(message)\n",
    "greet('hello','good morning','how are you?') #this is function call"
   ]
  },
  {
   "cell_type": "markdown",
   "id": "de81daf4",
   "metadata": {},
   "source": [
    "### kwargs and args in functions\n",
    "`*args and **kwargs`"
   ]
  },
  {
   "cell_type": "markdown",
   "id": "7ac50e6b",
   "metadata": {},
   "source": [
    "- *args - when you have no idea about how many arguments you will be receiving as an input for the function\n",
    "- **kwargs - ........how many keyword arguments you will be ..............."
   ]
  },
  {
   "cell_type": "code",
   "execution_count": 269,
   "id": "a4a108e9",
   "metadata": {},
   "outputs": [],
   "source": [
    "def fname(*args):\n",
    "    print(args)"
   ]
  },
  {
   "cell_type": "code",
   "execution_count": 270,
   "id": "c352176d",
   "metadata": {},
   "outputs": [],
   "source": [
    "def fname(*b):\n",
    "    print(b)"
   ]
  },
  {
   "cell_type": "code",
   "execution_count": 271,
   "id": "cfb9f8c2",
   "metadata": {},
   "outputs": [
    {
     "name": "stdout",
     "output_type": "stream",
     "text": [
      "(1, 2, 3)\n"
     ]
    }
   ],
   "source": [
    "fname(1,2,3)    # *args - it will be passed or considered as tuple"
   ]
  },
  {
   "cell_type": "code",
   "execution_count": 272,
   "id": "b60de506",
   "metadata": {},
   "outputs": [
    {
     "name": "stdout",
     "output_type": "stream",
     "text": [
      "(1, 2, 3, 4, 5, 6)\n"
     ]
    }
   ],
   "source": [
    "def fname(*args):\n",
    "    z=args +(4,5,6)\n",
    "    print(z)\n",
    "fname(1,2,3)"
   ]
  },
  {
   "cell_type": "code",
   "execution_count": 273,
   "id": "e47cdd18",
   "metadata": {},
   "outputs": [
    {
     "data": {
      "text/plain": [
       "(1, 2, 3, 4, 5, 6)"
      ]
     },
     "execution_count": 273,
     "metadata": {},
     "output_type": "execute_result"
    }
   ],
   "source": [
    "(1,2,3)+(4,5,6)"
   ]
  },
  {
   "cell_type": "code",
   "execution_count": 274,
   "id": "6f63e89a",
   "metadata": {},
   "outputs": [
    {
     "name": "stdout",
     "output_type": "stream",
     "text": [
      "9\n"
     ]
    }
   ],
   "source": [
    "def fname(*args):\n",
    "    z=args[1]        # it can also use indexing\n",
    "    print(z)\n",
    "fname(4,9,0)"
   ]
  },
  {
   "cell_type": "code",
   "execution_count": 275,
   "id": "6761ebd0",
   "metadata": {},
   "outputs": [
    {
     "name": "stdout",
     "output_type": "stream",
     "text": [
      "{'x': 8, 'y': 10, 's': 5, 'r': 4, 'b': 2}\n"
     ]
    }
   ],
   "source": [
    "## **kwargs - go as dictionary format\n",
    "def fname(**kwargs):\n",
    "    print(kwargs)\n",
    "fname(x=8,y=10,s=5,r=4,b=2)"
   ]
  },
  {
   "cell_type": "code",
   "execution_count": 276,
   "id": "9147260b",
   "metadata": {},
   "outputs": [
    {
     "name": "stdout",
     "output_type": "stream",
     "text": [
      "dict_keys(['x', 'y', 's', 't'])\n",
      "dict_values([8, 9, 7, 4])\n"
     ]
    }
   ],
   "source": [
    "def fname(**kwargs):\n",
    "    print(kwargs.keys())\n",
    "    print(kwargs.values())\n",
    "fname(x=8,y=9,s=7,t=4)"
   ]
  },
  {
   "cell_type": "markdown",
   "id": "879454f8",
   "metadata": {},
   "source": [
    "### Types of functions\n",
    "1.built-in functions\n",
    "\n",
    "2.user-defined functions"
   ]
  },
  {
   "cell_type": "markdown",
   "id": "e157c093",
   "metadata": {},
   "source": [
    "### Built-in functions"
   ]
  },
  {
   "cell_type": "markdown",
   "id": "336438c7",
   "metadata": {},
   "source": [
    "abs()"
   ]
  },
  {
   "cell_type": "code",
   "execution_count": 277,
   "id": "64ca8916",
   "metadata": {},
   "outputs": [
    {
     "data": {
      "text/plain": [
       "200"
      ]
     },
     "execution_count": 277,
     "metadata": {},
     "output_type": "execute_result"
    }
   ],
   "source": [
    "# find the absolute value\n",
    "number=-200\n",
    "abs(number)"
   ]
  },
  {
   "cell_type": "markdown",
   "id": "5c7ff6c3",
   "metadata": {},
   "source": [
    "##### all()\n",
    "#return value of all() function\n",
    "\n",
    "true:if all elements in an iterable are true\n",
    "\n",
    "false:if any element in an iterable is false"
   ]
  },
  {
   "cell_type": "code",
   "execution_count": 278,
   "id": "b1c48db9",
   "metadata": {},
   "outputs": [
    {
     "data": {
      "text/plain": [
       "True"
      ]
     },
     "execution_count": 278,
     "metadata": {},
     "output_type": "execute_result"
    }
   ],
   "source": [
    "list1=[10,20,30,-40,61.5]\n",
    "all(list1)"
   ]
  },
  {
   "cell_type": "markdown",
   "id": "5a01bb05",
   "metadata": {},
   "source": [
    "- false values in python: False,none,0"
   ]
  },
  {
   "cell_type": "code",
   "execution_count": 279,
   "id": "ee1afa24",
   "metadata": {},
   "outputs": [
    {
     "data": {
      "text/plain": [
       "False"
      ]
     },
     "execution_count": 279,
     "metadata": {},
     "output_type": "execute_result"
    }
   ],
   "source": [
    "list1=[10,20,30,-40,61.5,0,'python']\n",
    "all(list1)"
   ]
  },
  {
   "cell_type": "code",
   "execution_count": 280,
   "id": "59ccafe6",
   "metadata": {},
   "outputs": [
    {
     "data": {
      "text/plain": [
       "False"
      ]
     },
     "execution_count": 280,
     "metadata": {},
     "output_type": "execute_result"
    }
   ],
   "source": [
    "list1=[None]\n",
    "all(list1)"
   ]
  },
  {
   "cell_type": "markdown",
   "id": "048c446c",
   "metadata": {},
   "source": [
    "#### dir()\n",
    "- the dir() tries to return a list of valid attributes of the object.\n",
    "- if the object has *dir()* method will be called and must return the list of attributes.\n",
    "- if the object doesn't have dir() method,this method tries to find information from the `dict` attribute(if defined),and from type object.in this case,the list returned from dir() may not be complete."
   ]
  },
  {
   "cell_type": "code",
   "execution_count": 281,
   "id": "9334232f",
   "metadata": {},
   "outputs": [
    {
     "data": {
      "text/plain": [
       "['__add__',\n",
       " '__class__',\n",
       " '__class_getitem__',\n",
       " '__contains__',\n",
       " '__delattr__',\n",
       " '__delitem__',\n",
       " '__dir__',\n",
       " '__doc__',\n",
       " '__eq__',\n",
       " '__format__',\n",
       " '__ge__',\n",
       " '__getattribute__',\n",
       " '__getitem__',\n",
       " '__gt__',\n",
       " '__hash__',\n",
       " '__iadd__',\n",
       " '__imul__',\n",
       " '__init__',\n",
       " '__init_subclass__',\n",
       " '__iter__',\n",
       " '__le__',\n",
       " '__len__',\n",
       " '__lt__',\n",
       " '__mul__',\n",
       " '__ne__',\n",
       " '__new__',\n",
       " '__reduce__',\n",
       " '__reduce_ex__',\n",
       " '__repr__',\n",
       " '__reversed__',\n",
       " '__rmul__',\n",
       " '__setattr__',\n",
       " '__setitem__',\n",
       " '__sizeof__',\n",
       " '__str__',\n",
       " '__subclasshook__',\n",
       " 'append',\n",
       " 'clear',\n",
       " 'copy',\n",
       " 'count',\n",
       " 'extend',\n",
       " 'index',\n",
       " 'insert',\n",
       " 'pop',\n",
       " 'remove',\n",
       " 'reverse',\n",
       " 'sort']"
      ]
     },
     "execution_count": 281,
     "metadata": {},
     "output_type": "execute_result"
    }
   ],
   "source": [
    "dir(list1)"
   ]
  },
  {
   "cell_type": "code",
   "execution_count": null,
   "id": "2d7de708",
   "metadata": {},
   "outputs": [],
   "source": []
  },
  {
   "cell_type": "code",
   "execution_count": null,
   "id": "ca9c0abd",
   "metadata": {},
   "outputs": [],
   "source": []
  },
  {
   "cell_type": "markdown",
   "id": "32cd4fea",
   "metadata": {},
   "source": [
    "#### divmod()\n",
    "- the divmod() method takes two numbers and returns a pair of numbers(a tuple) consisting of their quotient and remainder."
   ]
  },
  {
   "cell_type": "code",
   "execution_count": 282,
   "id": "c4f39ee2",
   "metadata": {},
   "outputs": [
    {
     "data": {
      "text/plain": [
       "(20, 0)"
      ]
     },
     "execution_count": 282,
     "metadata": {},
     "output_type": "execute_result"
    }
   ],
   "source": [
    "divmod(40,2) # print quotient and remainder as a tuple"
   ]
  },
  {
   "cell_type": "markdown",
   "id": "01d51631",
   "metadata": {},
   "source": [
    "#### enumerate()\n",
    "- the enumerate() method adds counter to an iterable and returns it.\n",
    "- syntax:enumerate(iterable,start=0)"
   ]
  },
  {
   "cell_type": "code",
   "execution_count": 283,
   "id": "d8c23807",
   "metadata": {},
   "outputs": [
    {
     "name": "stdout",
     "output_type": "stream",
     "text": [
      "(0, 10)\n",
      "(1, 20)\n",
      "(2, 30)\n",
      "(3, 40)\n",
      "(4, 50)\n",
      "(5, 60)\n",
      "(6, 70)\n",
      "(7, 80)\n",
      "(8, 90)\n"
     ]
    }
   ],
   "source": [
    "list1=[10,20,30,40,50,60,70,80,90]\n",
    "for num in enumerate(list1):         # it is shows the index and value\n",
    "    print(num)"
   ]
  },
  {
   "cell_type": "code",
   "execution_count": 284,
   "id": "ee67c597",
   "metadata": {},
   "outputs": [
    {
     "name": "stdout",
     "output_type": "stream",
     "text": [
      "0 10\n",
      "1 20\n",
      "2 30\n",
      "3 40\n",
      "4 50\n",
      "5 60\n",
      "6 70\n",
      "7 80\n",
      "8 90\n"
     ]
    }
   ],
   "source": [
    "list1=[10,20,30,40,50,60,70,80,90]\n",
    "for index,num in enumerate(list1):         # it is shows the index and value\n",
    "    print(index,num)"
   ]
  },
  {
   "cell_type": "code",
   "execution_count": 285,
   "id": "19e68b03",
   "metadata": {},
   "outputs": [
    {
     "name": "stdout",
     "output_type": "stream",
     "text": [
      "(0, 'd')\n",
      "(1, 'a')\n",
      "(2, 't')\n",
      "(3, 'a')\n",
      "(4, 's')\n",
      "(5, 'c')\n",
      "(6, 'i')\n",
      "(7, 'e')\n",
      "(8, 'n')\n",
      "(9, 'c')\n",
      "(10, 'e')\n"
     ]
    }
   ],
   "source": [
    "topic='datascience'\n",
    "for char in enumerate(topic):\n",
    "    print(char)"
   ]
  },
  {
   "cell_type": "code",
   "execution_count": 286,
   "id": "2caddfd1",
   "metadata": {},
   "outputs": [
    {
     "name": "stdout",
     "output_type": "stream",
     "text": [
      "0 d\n",
      "1 a\n",
      "2 t\n",
      "3 a\n",
      "4 s\n",
      "5 c\n",
      "6 i\n",
      "7 e\n",
      "8 n\n",
      "9 c\n",
      "10 e\n"
     ]
    }
   ],
   "source": [
    "topic='datascience'\n",
    "for index,char in enumerate(topic):\n",
    "    print(index,char)"
   ]
  },
  {
   "cell_type": "code",
   "execution_count": 287,
   "id": "7f823899",
   "metadata": {},
   "outputs": [
    {
     "name": "stdout",
     "output_type": "stream",
     "text": [
      "index 0 has value 10\n",
      "index 1 has value 20\n",
      "index 2 has value 30\n",
      "index 3 has value 40\n",
      "index 4 has value 50\n",
      "index 5 has value 60\n"
     ]
    }
   ],
   "source": [
    "numbers=[10,20,30,40,50,60]\n",
    "for index,num in enumerate(numbers,):\n",
    "    print('index {0} has value {1}'.format(index,num))"
   ]
  },
  {
   "cell_type": "markdown",
   "id": "90146cf6",
   "metadata": {},
   "source": [
    "#### zip()"
   ]
  },
  {
   "cell_type": "code",
   "execution_count": 288,
   "id": "c726609c",
   "metadata": {},
   "outputs": [
    {
     "data": {
      "text/plain": [
       "[('vinay', 123, 21),\n",
       " ('ronit', 234, 23),\n",
       " ('krishna', 345, 24),\n",
       " ('radav', 456, 25),\n",
       " ('pranav', 567, 26)]"
      ]
     },
     "execution_count": 288,
     "metadata": {},
     "output_type": "execute_result"
    }
   ],
   "source": [
    "names=['vinay','ronit','krishna','radav','pranav']\n",
    "passwords=[123,234,345,456,567]\n",
    "ages=[21,23,24,25,26]\n",
    "list(zip(names,passwords,ages)) ## to add the values like combining"
   ]
  },
  {
   "cell_type": "code",
   "execution_count": 289,
   "id": "f1a49b13",
   "metadata": {},
   "outputs": [
    {
     "data": {
      "text/plain": [
       "[(1, 'one'), (2, 'two'), (3, 'three')]"
      ]
     },
     "execution_count": 289,
     "metadata": {},
     "output_type": "execute_result"
    }
   ],
   "source": [
    "numberlist=[1,2,3]\n",
    "numbers_tuple=('one','two','three','four')\n",
    "# notice the size of numberlist and numbers_tuple is different\n",
    "result=list(zip(numberlist,numbers_tuple))\n",
    "result"
   ]
  },
  {
   "cell_type": "markdown",
   "id": "58d8693c",
   "metadata": {},
   "source": [
    "#### filter()\n",
    "- the filter() method constructs an iterator from elements of an iterable for which a function returns true.\n",
    "- syntax:filter(function,iterable)"
   ]
  },
  {
   "cell_type": "markdown",
   "id": "82200b83",
   "metadata": {},
   "source": [
    "1.iterables : lists,sets,tuples,strings,dictionaries"
   ]
  },
  {
   "cell_type": "code",
   "execution_count": 290,
   "id": "cc4731ee",
   "metadata": {},
   "outputs": [
    {
     "name": "stdout",
     "output_type": "stream",
     "text": [
      "None\n"
     ]
    }
   ],
   "source": [
    "def find_positive(num):\n",
    "    if num>0:          \n",
    "        return num\n",
    "print(find_positive(-10))"
   ]
  },
  {
   "cell_type": "code",
   "execution_count": 291,
   "id": "05f765ca",
   "metadata": {},
   "outputs": [
    {
     "data": {
      "text/plain": [
       "<filter at 0x23d7e04ee60>"
      ]
     },
     "execution_count": 291,
     "metadata": {},
     "output_type": "execute_result"
    }
   ],
   "source": [
    "list1=[-10,-9,-8,-7,-6,-5,5,4,3,2,1]\n",
    "filter(find_positive,list1)"
   ]
  },
  {
   "cell_type": "code",
   "execution_count": 292,
   "id": "2e55735e",
   "metadata": {},
   "outputs": [
    {
     "data": {
      "text/plain": [
       "[5, 4, 3, 2, 1]"
      ]
     },
     "execution_count": 292,
     "metadata": {},
     "output_type": "execute_result"
    }
   ],
   "source": [
    "list1=[-10,-9,-8,-7,-6,-5,5,4,3,2,1]\n",
    "filtered_values=list(filter(find_positive,list1)) # comparision is happen\n",
    "filtered_values"
   ]
  },
  {
   "cell_type": "code",
   "execution_count": 293,
   "id": "c456802f",
   "metadata": {},
   "outputs": [
    {
     "name": "stdout",
     "output_type": "stream",
     "text": [
      "[-10, -9, -8, -7, -6, -5, -4, -3, -2, -1, 0, 1, 2, 3, 4, 5, 6, 7, 8, 9]\n"
     ]
    },
    {
     "ename": "NameError",
     "evalue": "name 'find_positive_number' is not defined",
     "output_type": "error",
     "traceback": [
      "\u001b[1;31m---------------------------------------------------------------------------\u001b[0m",
      "\u001b[1;31mNameError\u001b[0m                                 Traceback (most recent call last)",
      "Cell \u001b[1;32mIn[293], line 3\u001b[0m\n\u001b[0;32m      1\u001b[0m list1\u001b[38;5;241m=\u001b[39m\u001b[38;5;28mlist\u001b[39m(\u001b[38;5;28mrange\u001b[39m(\u001b[38;5;241m-\u001b[39m\u001b[38;5;241m10\u001b[39m,\u001b[38;5;241m10\u001b[39m)) \u001b[38;5;66;03m# in filter we can use the (>,<,>=,<=,==,!=) are used\u001b[39;00m\n\u001b[0;32m      2\u001b[0m \u001b[38;5;28mprint\u001b[39m(list1)\n\u001b[1;32m----> 3\u001b[0m positive_list\u001b[38;5;241m=\u001b[39m\u001b[38;5;28mlist\u001b[39m(\u001b[38;5;28mfilter\u001b[39m(\u001b[43mfind_positive_number\u001b[49m,list1))\n\u001b[0;32m      4\u001b[0m \u001b[38;5;28mprint\u001b[39m(positive_list)\n",
      "\u001b[1;31mNameError\u001b[0m: name 'find_positive_number' is not defined"
     ]
    }
   ],
   "source": [
    "list1=list(range(-10,10)) # in filter we can use the (>,<,>=,<=,==,!=) are used\n",
    "print(list1)\n",
    "positive_list=list(filter(find_positive_number,list1))\n",
    "print(positive_list)"
   ]
  },
  {
   "cell_type": "markdown",
   "id": "ced6849e",
   "metadata": {},
   "source": [
    "#### isinstance()\n",
    "- the inistance() function checks if the object(first argument) is an instance or subclass of classinfo class(second argument).\n",
    "- syntax:ininstance(object,classinfo)"
   ]
  },
  {
   "cell_type": "code",
   "execution_count": 294,
   "id": "020a1303",
   "metadata": {},
   "outputs": [
    {
     "name": "stdout",
     "output_type": "stream",
     "text": [
      "True\n",
      "True\n"
     ]
    }
   ],
   "source": [
    "lst=[1,2,3,4]\n",
    "print(isinstance(lst,list))\n",
    "t=(1,2,3,4)\n",
    "print(isinstance(t,tuple))"
   ]
  },
  {
   "cell_type": "markdown",
   "id": "d54cf54d",
   "metadata": {},
   "source": [
    "#### map()\n",
    "- map applies a function to all the items in an input_list.\n",
    "- syntax:map(function_to_apply,list_of_inputs)"
   ]
  },
  {
   "cell_type": "code",
   "execution_count": 295,
   "id": "ea59dc7b",
   "metadata": {},
   "outputs": [
    {
     "data": {
      "text/plain": [
       "[-10, -9, -8, -7, -6, -5, -4, -3, -2, -1, 0, 1, 2, 3, 4, 5, 6, 7, 8, 9]"
      ]
     },
     "execution_count": 295,
     "metadata": {},
     "output_type": "execute_result"
    }
   ],
   "source": [
    "list1"
   ]
  },
  {
   "cell_type": "code",
   "execution_count": 296,
   "id": "4e00018b",
   "metadata": {},
   "outputs": [
    {
     "data": {
      "text/plain": [
       "[100, 81, 64, 49, 36, 25, 16, 9, 4, 1, 0, 1, 4, 9, 16, 25, 36, 49, 64, 81]"
      ]
     },
     "execution_count": 296,
     "metadata": {},
     "output_type": "execute_result"
    }
   ],
   "source": [
    "def square(num):\n",
    "    return num**2          #some operation is going to each\n",
    "list(map(square,list1))"
   ]
  },
  {
   "cell_type": "code",
   "execution_count": 297,
   "id": "c67c1b72",
   "metadata": {},
   "outputs": [
    {
     "data": {
      "text/plain": [
       "[None,\n",
       " None,\n",
       " None,\n",
       " None,\n",
       " None,\n",
       " None,\n",
       " None,\n",
       " None,\n",
       " None,\n",
       " None,\n",
       " None,\n",
       " 1,\n",
       " 2,\n",
       " 3,\n",
       " 4,\n",
       " 5,\n",
       " 6,\n",
       " 7,\n",
       " 8,\n",
       " 9]"
      ]
     },
     "execution_count": 297,
     "metadata": {},
     "output_type": "execute_result"
    }
   ],
   "source": [
    "list(map(find_positive,list1))"
   ]
  },
  {
   "cell_type": "markdown",
   "id": "316e44b2",
   "metadata": {},
   "source": [
    "#### reduce()\n",
    "- reduce() function is for performing some computation on a list and returning the result.\n",
    "- it applies a rolling computation to sequential pairs of values in a list."
   ]
  },
  {
   "cell_type": "code",
   "execution_count": 298,
   "id": "51838095",
   "metadata": {},
   "outputs": [
    {
     "data": {
      "text/plain": [
       "5040"
      ]
     },
     "execution_count": 298,
     "metadata": {},
     "output_type": "execute_result"
    }
   ],
   "source": [
    "from functools import reduce\n",
    "def multiply(num1,num2): #only two variables used then the operation\n",
    "    return num1 * num2\n",
    "list2 = [1,2,3,4,5,6,7]\n",
    "reduce(multiply,list2)"
   ]
  },
  {
   "cell_type": "markdown",
   "id": "0d754eef",
   "metadata": {},
   "source": [
    "### anonymous/lambda function\n",
    "- in python,annonymous function is a function that is defined without a name.\n",
    "- while normal functions are defined using the def keyword,in python anonymous functions are defined using the lambda keyword.\n",
    "- lambda functions are used extensively along with built-in functions like filter(),map(),reduce()"
   ]
  },
  {
   "cell_type": "markdown",
   "id": "939380d6",
   "metadata": {},
   "source": [
    "### rules to create lambda function\n",
    "- lambda can take any number of parameters(arguments)\n",
    "- instead of def,we use lambda.no paranthesis required\n",
    "- colon separates parameters and expression.\n",
    "- no need of print/return keyword\n",
    "- parameters/arguments is optional"
   ]
  },
  {
   "cell_type": "code",
   "execution_count": 299,
   "id": "9c223f1c",
   "metadata": {},
   "outputs": [
    {
     "data": {
      "text/plain": [
       "100"
      ]
     },
     "execution_count": 299,
     "metadata": {},
     "output_type": "execute_result"
    }
   ],
   "source": [
    "def square(num):\n",
    "    return num**2\n",
    "square(10)"
   ]
  },
  {
   "cell_type": "code",
   "execution_count": 300,
   "id": "44269917",
   "metadata": {},
   "outputs": [
    {
     "data": {
      "text/plain": [
       "<function __main__.<lambda>(num)>"
      ]
     },
     "execution_count": 300,
     "metadata": {},
     "output_type": "execute_result"
    }
   ],
   "source": [
    "lambda num:num**2         # lambda is anonymous function and sometimes it can also called as ghost function because we don't use def function"
   ]
  },
  {
   "cell_type": "code",
   "execution_count": 301,
   "id": "d8f08eda",
   "metadata": {},
   "outputs": [
    {
     "data": {
      "text/plain": [
       "[100, 81, 64, 49, 36, 25, 16, 9, 4, 1, 0, 1, 4, 9, 16, 25, 36, 49, 64, 81]"
      ]
     },
     "execution_count": 301,
     "metadata": {},
     "output_type": "execute_result"
    }
   ],
   "source": [
    "list(map(lambda num:num**2,list1))"
   ]
  },
  {
   "cell_type": "code",
   "execution_count": 302,
   "id": "212c4621",
   "metadata": {},
   "outputs": [],
   "source": [
    "def even(num):\n",
    "    if(num%2==0):\n",
    "        return num"
   ]
  },
  {
   "cell_type": "code",
   "execution_count": 303,
   "id": "0ad7ce7f",
   "metadata": {},
   "outputs": [
    {
     "name": "stdout",
     "output_type": "stream",
     "text": [
      "[2, 4, 6]\n"
     ]
    }
   ],
   "source": [
    "lst=[1,2,3,4,5,6]\n",
    "even_lst=list(filter(even,lst))\n",
    "print(even_lst)             # using filter"
   ]
  },
  {
   "cell_type": "code",
   "execution_count": 304,
   "id": "32156f0d",
   "metadata": {},
   "outputs": [
    {
     "name": "stdout",
     "output_type": "stream",
     "text": [
      "[2, 4]\n"
     ]
    }
   ],
   "source": [
    "#use of lambda with filter()\n",
    "lst = [1,2,3,4,5]\n",
    "even_lst=list(filter(lambda x:(x%2==0),lst))\n",
    "print(even_lst)"
   ]
  },
  {
   "cell_type": "code",
   "execution_count": 305,
   "id": "119d9560",
   "metadata": {},
   "outputs": [
    {
     "name": "stdout",
     "output_type": "stream",
     "text": [
      "[1, 4, 9, 16, 25]\n"
     ]
    }
   ],
   "source": [
    "#use of lambda with map()\n",
    "lst=[1,2,3,4,5]\n",
    "new_lst=list(map(lambda x:x**2,lst))\n",
    "print(new_lst)"
   ]
  },
  {
   "cell_type": "code",
   "execution_count": 306,
   "id": "f0344e36",
   "metadata": {},
   "outputs": [
    {
     "name": "stdout",
     "output_type": "stream",
     "text": [
      "120\n"
     ]
    }
   ],
   "source": [
    "#use of lambda with reduce()\n",
    "from functools import reduce\n",
    "lst=[1,2,3,4,5]\n",
    "product_lst=reduce(lambda x,y:x*y,lst)\n",
    "print(product_lst)"
   ]
  },
  {
   "cell_type": "markdown",
   "id": "c35ef5dc",
   "metadata": {},
   "source": [
    "### recursive function\n",
    "- in python,a function can call other functions.it is even possible for the function to call itself.these type of construct are termed as recursive functions."
   ]
  },
  {
   "cell_type": "code",
   "execution_count": null,
   "id": "6866e6a2",
   "metadata": {},
   "outputs": [],
   "source": []
  },
  {
   "cell_type": "code",
   "execution_count": null,
   "id": "d6bb64b9",
   "metadata": {},
   "outputs": [],
   "source": []
  },
  {
   "cell_type": "code",
   "execution_count": 307,
   "id": "e7033087",
   "metadata": {},
   "outputs": [],
   "source": [
    "def factorial(num):\n",
    "    if num ==1:\n",
    "        return 1\n",
    "    else:\n",
    "        return(num*factorial(num-1))"
   ]
  },
  {
   "cell_type": "code",
   "execution_count": 308,
   "id": "b8ed53ef",
   "metadata": {},
   "outputs": [
    {
     "name": "stdout",
     "output_type": "stream",
     "text": [
      "factorial of 7 is 5040\n"
     ]
    }
   ],
   "source": [
    "num=7\n",
    "print('factorial of {0} is {1}'.format(num,factorial(num)))"
   ]
  },
  {
   "cell_type": "markdown",
   "id": "fa851ab7",
   "metadata": {},
   "source": [
    "#### advantages of recursive functions\n",
    "- recursive functions make the code look clean and elegant.\n",
    "- a complex task can be broken down into simpler sub-problems using recursion.\n",
    "- sequence generation is easier with recursion than using some nested iteration"
   ]
  },
  {
   "cell_type": "markdown",
   "id": "5dcc24e1",
   "metadata": {},
   "source": [
    "### modules\n",
    "- modules refer to a file containing python statements and definitions.\n",
    "- a file containing python code,for e.g:abc.py,is called a module and its module name would be'abc'\n",
    "- we use modules to break down large programs into small manageable and organized files.furthermore,modules provide reusability of code.\n",
    "- we can define our most used functions in a modile and import it, instead of copying their definitions into different programs."
   ]
  },
  {
   "cell_type": "markdown",
   "id": "6df0fce5",
   "metadata": {},
   "source": [
    "### how to import a module ?"
   ]
  },
  {
   "cell_type": "markdown",
   "id": "79d4899f",
   "metadata": {},
   "source": [
    " -  no of modules having the one block is called packaging or library\n",
    " -  a module is nothing but simple python file"
   ]
  },
  {
   "cell_type": "code",
   "execution_count": 309,
   "id": "8285b8fd",
   "metadata": {},
   "outputs": [
    {
     "data": {
      "text/plain": [
       "120"
      ]
     },
     "execution_count": 309,
     "metadata": {},
     "output_type": "execute_result"
    }
   ],
   "source": [
    "import math\n",
    "math.factorial(5)"
   ]
  },
  {
   "cell_type": "code",
   "execution_count": 310,
   "id": "e6169149",
   "metadata": {},
   "outputs": [
    {
     "data": {
      "text/plain": [
       "15.0"
      ]
     },
     "execution_count": 310,
     "metadata": {},
     "output_type": "execute_result"
    }
   ],
   "source": [
    "math.sqrt(225)"
   ]
  },
  {
   "cell_type": "code",
   "execution_count": 311,
   "id": "9566c8d5",
   "metadata": {},
   "outputs": [
    {
     "data": {
      "text/plain": [
       "15"
      ]
     },
     "execution_count": 311,
     "metadata": {},
     "output_type": "execute_result"
    }
   ],
   "source": [
    "math.isqrt(225)"
   ]
  },
  {
   "cell_type": "code",
   "execution_count": 312,
   "id": "f3cd6623",
   "metadata": {},
   "outputs": [
    {
     "data": {
      "text/plain": [
       "120"
      ]
     },
     "execution_count": 312,
     "metadata": {},
     "output_type": "execute_result"
    }
   ],
   "source": [
    "import math as m          # m is called alias name\n",
    "m.factorial(5)"
   ]
  },
  {
   "cell_type": "code",
   "execution_count": 313,
   "id": "b8ed94d7",
   "metadata": {},
   "outputs": [],
   "source": [
    "### matplotlib.pyplot this is the main module.this is mainly used to create rename\n",
    "### matplotlib.pyplot.plot: in this matplotlib.pyplot is called module and .plot is called function\n",
    "## in the above and also used plt.plot"
   ]
  },
  {
   "cell_type": "code",
   "execution_count": 314,
   "id": "91724eb1",
   "metadata": {},
   "outputs": [
    {
     "data": {
      "text/plain": [
       "120"
      ]
     },
     "execution_count": 314,
     "metadata": {},
     "output_type": "execute_result"
    }
   ],
   "source": [
    "from math import factorial \n",
    "factorial(5)"
   ]
  },
  {
   "cell_type": "markdown",
   "id": "e8b9bcd3",
   "metadata": {},
   "source": [
    "#### examples"
   ]
  },
  {
   "cell_type": "code",
   "execution_count": 315,
   "id": "638d31c0",
   "metadata": {},
   "outputs": [
    {
     "name": "stdout",
     "output_type": "stream",
     "text": [
      "3.141592653589793\n"
     ]
    }
   ],
   "source": [
    "import math\n",
    "print(math.pi)"
   ]
  },
  {
   "cell_type": "code",
   "execution_count": 316,
   "id": "9923a365",
   "metadata": {},
   "outputs": [
    {
     "data": {
      "text/plain": [
       "datetime.datetime(2023, 8, 15, 15, 4, 8, 522358)"
      ]
     },
     "execution_count": 316,
     "metadata": {},
     "output_type": "execute_result"
    }
   ],
   "source": [
    "import datetime\n",
    "datetime.datetime.now()"
   ]
  },
  {
   "cell_type": "markdown",
   "id": "56a3f6c8",
   "metadata": {},
   "source": [
    "### import with renaming"
   ]
  },
  {
   "cell_type": "code",
   "execution_count": 317,
   "id": "c62dc4f7",
   "metadata": {},
   "outputs": [
    {
     "name": "stdout",
     "output_type": "stream",
     "text": [
      "3.141592653589793\n"
     ]
    }
   ],
   "source": [
    "import math as m\n",
    "print(m.pi)"
   ]
  },
  {
   "cell_type": "markdown",
   "id": "3db4b53b",
   "metadata": {},
   "source": [
    "### from import statement\n",
    "- we can import specific names from a module without importing the module as a whole."
   ]
  },
  {
   "cell_type": "code",
   "execution_count": 318,
   "id": "94738507",
   "metadata": {},
   "outputs": [
    {
     "data": {
      "text/plain": [
       "datetime.datetime(2023, 8, 15, 15, 4, 9, 264290)"
      ]
     },
     "execution_count": 318,
     "metadata": {},
     "output_type": "execute_result"
    }
   ],
   "source": [
    "from datetime import datetime\n",
    "datetime.now()"
   ]
  },
  {
   "cell_type": "markdown",
   "id": "e6e2f11a",
   "metadata": {},
   "source": [
    "### import all names"
   ]
  },
  {
   "cell_type": "code",
   "execution_count": 319,
   "id": "5388fae5",
   "metadata": {},
   "outputs": [
    {
     "name": "stdout",
     "output_type": "stream",
     "text": [
      "value of pi is 3.141592653589793\n"
     ]
    }
   ],
   "source": [
    "from math import *\n",
    "print('value of pi is ' +str(pi))"
   ]
  },
  {
   "cell_type": "markdown",
   "id": "a307728d",
   "metadata": {},
   "source": [
    "### dir() built in function\n",
    "- we can use the dir() function to find out names that are defined inside a module"
   ]
  },
  {
   "cell_type": "code",
   "execution_count": 320,
   "id": "695df47f",
   "metadata": {},
   "outputs": [
    {
     "data": {
      "text/plain": [
       "['__doc__',\n",
       " '__loader__',\n",
       " '__name__',\n",
       " '__package__',\n",
       " '__spec__',\n",
       " 'acos',\n",
       " 'acosh',\n",
       " 'asin',\n",
       " 'asinh',\n",
       " 'atan',\n",
       " 'atan2',\n",
       " 'atanh',\n",
       " 'ceil',\n",
       " 'comb',\n",
       " 'copysign',\n",
       " 'cos',\n",
       " 'cosh',\n",
       " 'degrees',\n",
       " 'dist',\n",
       " 'e',\n",
       " 'erf',\n",
       " 'erfc',\n",
       " 'exp',\n",
       " 'expm1',\n",
       " 'fabs',\n",
       " 'factorial',\n",
       " 'floor',\n",
       " 'fmod',\n",
       " 'frexp',\n",
       " 'fsum',\n",
       " 'gamma',\n",
       " 'gcd',\n",
       " 'hypot',\n",
       " 'inf',\n",
       " 'isclose',\n",
       " 'isfinite',\n",
       " 'isinf',\n",
       " 'isnan',\n",
       " 'isqrt',\n",
       " 'lcm',\n",
       " 'ldexp',\n",
       " 'lgamma',\n",
       " 'log',\n",
       " 'log10',\n",
       " 'log1p',\n",
       " 'log2',\n",
       " 'modf',\n",
       " 'nan',\n",
       " 'nextafter',\n",
       " 'perm',\n",
       " 'pi',\n",
       " 'pow',\n",
       " 'prod',\n",
       " 'radians',\n",
       " 'remainder',\n",
       " 'sin',\n",
       " 'sinh',\n",
       " 'sqrt',\n",
       " 'tan',\n",
       " 'tanh',\n",
       " 'tau',\n",
       " 'trunc',\n",
       " 'ulp']"
      ]
     },
     "execution_count": 320,
     "metadata": {},
     "output_type": "execute_result"
    }
   ],
   "source": [
    "dir(math)"
   ]
  },
  {
   "cell_type": "markdown",
   "id": "10e4c023",
   "metadata": {},
   "source": [
    "### datetime module\n",
    "- representing date in python"
   ]
  },
  {
   "cell_type": "code",
   "execution_count": 321,
   "id": "3ce0940d",
   "metadata": {},
   "outputs": [
    {
     "ename": "SyntaxError",
     "evalue": "incomplete input (2193881738.py, line 1)",
     "output_type": "error",
     "traceback": [
      "\u001b[1;36m  Cell \u001b[1;32mIn[321], line 1\u001b[1;36m\u001b[0m\n\u001b[1;33m    def date(year,month,date): # only this is the formate\u001b[0m\n\u001b[1;37m                                                         ^\u001b[0m\n\u001b[1;31mSyntaxError\u001b[0m\u001b[1;31m:\u001b[0m incomplete input\n"
     ]
    }
   ],
   "source": [
    "def date(year,month,date): # only this is the formate"
   ]
  },
  {
   "cell_type": "code",
   "execution_count": 322,
   "id": "86d18c2e",
   "metadata": {},
   "outputs": [
    {
     "name": "stdout",
     "output_type": "stream",
     "text": [
      "2023-08-01\n"
     ]
    }
   ],
   "source": [
    "from datetime import date\n",
    "date=date(2023,8,1)\n",
    "print(date)"
   ]
  },
  {
   "cell_type": "markdown",
   "id": "24a53f20",
   "metadata": {},
   "source": [
    "#### get current date"
   ]
  },
  {
   "cell_type": "code",
   "execution_count": 323,
   "id": "25b5b97a",
   "metadata": {},
   "outputs": [
    {
     "data": {
      "text/plain": [
       "datetime.date(2023, 8, 15)"
      ]
     },
     "execution_count": 323,
     "metadata": {},
     "output_type": "execute_result"
    }
   ],
   "source": [
    "date.today()"
   ]
  },
  {
   "cell_type": "code",
   "execution_count": 324,
   "id": "09ecd52c",
   "metadata": {},
   "outputs": [
    {
     "name": "stdout",
     "output_type": "stream",
     "text": [
      "2023-08-15\n"
     ]
    }
   ],
   "source": [
    "today=date.today()\n",
    "print(today)"
   ]
  },
  {
   "cell_type": "markdown",
   "id": "0dac3c3f",
   "metadata": {},
   "source": [
    "### get today's year,month and date"
   ]
  },
  {
   "cell_type": "code",
   "execution_count": 325,
   "id": "e304b120",
   "metadata": {},
   "outputs": [
    {
     "name": "stdout",
     "output_type": "stream",
     "text": [
      "current year: 2023\n",
      "current month: 8\n",
      "current day: 15\n"
     ]
    }
   ],
   "source": [
    "today=date.today()\n",
    "print('current year:',today.year)\n",
    "print('current month:',today.month)\n",
    "print('current day:',today.day)"
   ]
  },
  {
   "cell_type": "code",
   "execution_count": 326,
   "id": "33b96220",
   "metadata": {},
   "outputs": [
    {
     "name": "stdout",
     "output_type": "stream",
     "text": [
      "2023-08-15\n",
      "2023\n",
      "15\n",
      "8\n"
     ]
    }
   ],
   "source": [
    "today=date.today()\n",
    "print(today)\n",
    "print(today.year)\n",
    "print(today.day)\n",
    "print(today.month)"
   ]
  },
  {
   "cell_type": "markdown",
   "id": "df59b874",
   "metadata": {},
   "source": [
    "##### get date from timestamp\n",
    "- the timestamp is the number of seconds from 1st january 1970 at UTC to a particular date."
   ]
  },
  {
   "cell_type": "code",
   "execution_count": 327,
   "id": "add1eb37",
   "metadata": {},
   "outputs": [
    {
     "data": {
      "text/plain": [
       "datetime.datetime(1970, 1, 2, 5, 30)"
      ]
     },
     "execution_count": 327,
     "metadata": {},
     "output_type": "execute_result"
    }
   ],
   "source": [
    "from datetime import datetime\n",
    "datetime.fromtimestamp(86400) # 86400 is the one day having no of seconds"
   ]
  },
  {
   "cell_type": "code",
   "execution_count": 328,
   "id": "8030afd3",
   "metadata": {},
   "outputs": [
    {
     "name": "stdout",
     "output_type": "stream",
     "text": [
      "1970-01-13 19:16:40\n"
     ]
    }
   ],
   "source": [
    "from datetime import datetime\n",
    "print(datetime.fromtimestamp(1086400))"
   ]
  },
  {
   "cell_type": "markdown",
   "id": "bdfe6803",
   "metadata": {},
   "source": [
    "#### convert date to string"
   ]
  },
  {
   "cell_type": "code",
   "execution_count": 329,
   "id": "cd9fcf89",
   "metadata": {},
   "outputs": [
    {
     "data": {
      "text/plain": [
       "datetime.date(2023, 8, 15)"
      ]
     },
     "execution_count": 329,
     "metadata": {},
     "output_type": "execute_result"
    }
   ],
   "source": [
    "today=date.today()\n",
    "today"
   ]
  },
  {
   "cell_type": "code",
   "execution_count": 330,
   "id": "f12be57f",
   "metadata": {},
   "outputs": [
    {
     "data": {
      "text/plain": [
       "'2023-08-15'"
      ]
     },
     "execution_count": 330,
     "metadata": {},
     "output_type": "execute_result"
    }
   ],
   "source": [
    "from datetime import date\n",
    "date.isoformat(today)"
   ]
  },
  {
   "cell_type": "code",
   "execution_count": 331,
   "id": "f2f7c75e",
   "metadata": {},
   "outputs": [
    {
     "name": "stdout",
     "output_type": "stream",
     "text": [
      "string representation 2023-08-15\n"
     ]
    }
   ],
   "source": [
    "today=date.today()\n",
    "str=date.isoformat(today)\n",
    "print('string representation',str)"
   ]
  },
  {
   "cell_type": "markdown",
   "id": "c68728cc",
   "metadata": {},
   "source": [
    "#### representing datetime in python"
   ]
  },
  {
   "cell_type": "code",
   "execution_count": 332,
   "id": "c1150bec",
   "metadata": {},
   "outputs": [
    {
     "name": "stdout",
     "output_type": "stream",
     "text": [
      "2023-08-01 00:00:00\n"
     ]
    }
   ],
   "source": [
    "print(datetime(2023,8,1))"
   ]
  },
  {
   "cell_type": "code",
   "execution_count": 333,
   "id": "55aea048",
   "metadata": {},
   "outputs": [
    {
     "name": "stdout",
     "output_type": "stream",
     "text": [
      "2022-02-08 00:00:00\n",
      "1996-11-10 03:40:56\n"
     ]
    }
   ],
   "source": [
    "from datetime import datetime\n",
    "a=datetime(2022,2,8)\n",
    "print(a)\n",
    "a=datetime(1996,11,10,3,40,56)\n",
    "print(a)"
   ]
  },
  {
   "cell_type": "code",
   "execution_count": 334,
   "id": "1f1c636e",
   "metadata": {},
   "outputs": [
    {
     "name": "stdout",
     "output_type": "stream",
     "text": [
      "2023-08-15 15:04:13.732441\n"
     ]
    }
   ],
   "source": [
    "current_time=datetime.now()\n",
    "print(current_time)"
   ]
  },
  {
   "cell_type": "markdown",
   "id": "c8197dda",
   "metadata": {},
   "source": [
    "#### current date and time"
   ]
  },
  {
   "cell_type": "code",
   "execution_count": 335,
   "id": "7fe01418",
   "metadata": {},
   "outputs": [
    {
     "name": "stdout",
     "output_type": "stream",
     "text": [
      "2023-08-15 15:04:14.108201\n"
     ]
    }
   ],
   "source": [
    "print(datetime.now())"
   ]
  },
  {
   "cell_type": "markdown",
   "id": "4d29c79d",
   "metadata": {},
   "source": [
    "### random module\n",
    "- generate random float between 0.0 and 1.0"
   ]
  },
  {
   "cell_type": "code",
   "execution_count": 336,
   "id": "6c1e7be7",
   "metadata": {},
   "outputs": [
    {
     "data": {
      "text/plain": [
       "0.8891375010555311"
      ]
     },
     "execution_count": 336,
     "metadata": {},
     "output_type": "execute_result"
    }
   ],
   "source": [
    "import random\n",
    "random.random()"
   ]
  },
  {
   "cell_type": "markdown",
   "id": "bc9e5483",
   "metadata": {},
   "source": [
    "##### generate random integers"
   ]
  },
  {
   "cell_type": "code",
   "execution_count": 337,
   "id": "2e809387",
   "metadata": {},
   "outputs": [
    {
     "data": {
      "text/plain": [
       "50"
      ]
     },
     "execution_count": 337,
     "metadata": {},
     "output_type": "execute_result"
    }
   ],
   "source": [
    "random.randint(1,100)"
   ]
  },
  {
   "cell_type": "code",
   "execution_count": 338,
   "id": "d0b585d4",
   "metadata": {},
   "outputs": [
    {
     "data": {
      "text/plain": [
       "65"
      ]
     },
     "execution_count": 338,
     "metadata": {},
     "output_type": "execute_result"
    }
   ],
   "source": [
    "random.randrange(0,100,5)"
   ]
  },
  {
   "cell_type": "code",
   "execution_count": 339,
   "id": "80fa768d",
   "metadata": {},
   "outputs": [
    {
     "data": {
      "text/plain": [
       "2"
      ]
     },
     "execution_count": 339,
     "metadata": {},
     "output_type": "execute_result"
    }
   ],
   "source": [
    "list1=[1,2,3,4,5,6,7,8,9]\n",
    "random.choice(list1)"
   ]
  },
  {
   "cell_type": "code",
   "execution_count": 340,
   "id": "1f12ba45",
   "metadata": {},
   "outputs": [],
   "source": [
    "# modules are predefined functions for specific tasks"
   ]
  },
  {
   "cell_type": "markdown",
   "id": "703e3119",
   "metadata": {},
   "source": [
    "### modularizing the code\n",
    "functions can be used to reduce redundant code and enable code reuse.functions can also be used to modularize code and improve a program's quality.in python,you can place the function defunition into a file called modile with the file-name extension.py.the module can be later imported into a program for reuse.the module file should be placed in the same directory with your other programs.a module can contain more than one function.each function in a module must have a different name."
   ]
  },
  {
   "cell_type": "code",
   "execution_count": 341,
   "id": "8fa76de0",
   "metadata": {},
   "outputs": [
    {
     "name": "stdout",
     "output_type": "stream",
     "text": [
      "Overwriting mymath.py\n"
     ]
    }
   ],
   "source": [
    "%%writefile mymath.py\n",
    "def add(x,y):\n",
    "    return x+y\n",
    "def subtract(x,y):\n",
    "    return x-y\n",
    "def multiply(x,y):\n",
    "    return x*y\n",
    "def divide(x,y):\n",
    "    return x/y"
   ]
  },
  {
   "cell_type": "code",
   "execution_count": 342,
   "id": "59380b8e",
   "metadata": {},
   "outputs": [
    {
     "data": {
      "text/plain": [
       "2.0"
      ]
     },
     "execution_count": 342,
     "metadata": {},
     "output_type": "execute_result"
    }
   ],
   "source": [
    "import mymath\n",
    "mymath.divide(10,5)"
   ]
  },
  {
   "cell_type": "markdown",
   "id": "36695d76",
   "metadata": {},
   "source": [
    "### problem solving"
   ]
  },
  {
   "cell_type": "markdown",
   "id": "66f90978",
   "metadata": {},
   "source": [
    "**1.1**"
   ]
  },
  {
   "cell_type": "code",
   "execution_count": 343,
   "id": "6097a1de",
   "metadata": {},
   "outputs": [
    {
     "name": "stdout",
     "output_type": "stream",
     "text": [
      "*\n",
      "* *\n",
      "* * *\n",
      "* * * *\n"
     ]
    }
   ],
   "source": [
    "print('*')\n",
    "print('* *')\n",
    "print('* * *')\n",
    "print('* * * *')"
   ]
  },
  {
   "cell_type": "code",
   "execution_count": 344,
   "id": "228530ef",
   "metadata": {},
   "outputs": [
    {
     "name": "stdout",
     "output_type": "stream",
     "text": [
      "* * * * * "
     ]
    }
   ],
   "source": [
    "for i in range(5):\n",
    "    print('*',end=' ')"
   ]
  },
  {
   "cell_type": "code",
   "execution_count": 345,
   "id": "68f3a38b",
   "metadata": {},
   "outputs": [
    {
     "name": "stdout",
     "output_type": "stream",
     "text": [
      "enter the number of rows:5\n",
      "* \n",
      "* * \n",
      "* * * \n",
      "* * * * \n",
      "* * * * * \n"
     ]
    }
   ],
   "source": [
    "rows=int(input('enter the number of rows:'))\n",
    "for row in range(1,rows+1):\n",
    "    for i in range(row):\n",
    "        print('*',end=' ')\n",
    "    print()"
   ]
  },
  {
   "cell_type": "code",
   "execution_count": 346,
   "id": "8a90b31a",
   "metadata": {},
   "outputs": [
    {
     "name": "stdout",
     "output_type": "stream",
     "text": [
      "enter the number of coloumns:5\n",
      "* \n",
      "* * \n",
      "* * * \n",
      "* * * * \n",
      "* * * * * \n"
     ]
    }
   ],
   "source": [
    "coloumns=int(input('enter the number of coloumns:'))\n",
    "for coloumn in range(1,coloumns+1):\n",
    "    for i in range(coloumn):\n",
    "        print('*',end=' ')\n",
    "    print()"
   ]
  },
  {
   "cell_type": "code",
   "execution_count": 347,
   "id": "afdfd18a",
   "metadata": {},
   "outputs": [
    {
     "name": "stdout",
     "output_type": "stream",
     "text": [
      "enter the number of rows:5\n",
      "* * * * * \n",
      "* * * * \n",
      "* * * \n",
      "* * \n",
      "* \n"
     ]
    }
   ],
   "source": [
    "rows=int(input('enter the number of rows:'))\n",
    "for row in range(rows,0,-1):\n",
    "    for i in range(row):\n",
    "        print('*',end=' ')\n",
    "    print()"
   ]
  },
  {
   "cell_type": "code",
   "execution_count": 348,
   "id": "ece0ab5b",
   "metadata": {},
   "outputs": [
    {
     "name": "stdout",
     "output_type": "stream",
     "text": [
      "enter the number of rows:5\n",
      "1 \n",
      "2 2 \n",
      "3 3 3 \n",
      "4 4 4 4 \n",
      "5 5 5 5 5 \n"
     ]
    }
   ],
   "source": [
    "rows=int(input('enter the number of rows:'))\n",
    "for row in range(1,rows+1):\n",
    "    for i in range(row):\n",
    "        print(row,end=' ')\n",
    "    print()"
   ]
  },
  {
   "cell_type": "code",
   "execution_count": 349,
   "id": "16278f5b",
   "metadata": {},
   "outputs": [
    {
     "name": "stdout",
     "output_type": "stream",
     "text": [
      "enter the number of rows:4\n",
      "0 \n",
      "0 1 \n",
      "0 1 2 \n",
      "0 1 2 3 \n"
     ]
    }
   ],
   "source": [
    "rows=int(input('enter the number of rows:'))\n",
    "for row in range(1,rows+1):\n",
    "    for i in range(row):\n",
    "        print(i,end=' ')\n",
    "    print()"
   ]
  },
  {
   "cell_type": "code",
   "execution_count": 350,
   "id": "1307d88a",
   "metadata": {},
   "outputs": [
    {
     "name": "stdout",
     "output_type": "stream",
     "text": [
      "enter the number of rows:6\n",
      "1 \n",
      "1 2 \n",
      "1 2 3 \n",
      "1 2 3 4 \n",
      "1 2 3 4 5 \n",
      "1 2 3 4 5 6 \n"
     ]
    }
   ],
   "source": [
    "rows=int(input('enter the number of rows:'))\n",
    "for row in range(1,rows+1):\n",
    "    for column in range(1,row+1):\n",
    "        print(column,end=' ')\n",
    "    print()"
   ]
  },
  {
   "cell_type": "code",
   "execution_count": 351,
   "id": "ddbcf6c5",
   "metadata": {},
   "outputs": [
    {
     "name": "stdout",
     "output_type": "stream",
     "text": [
      "enter the number of rows:5\n",
      "2 \n",
      "2 2 \n",
      "2 2 2 \n",
      "2 2 2 2 \n",
      "2 2 2 2 2 \n"
     ]
    }
   ],
   "source": [
    "rows=int(input('enter the number of rows:'))\n",
    "for row in range(1,rows+1):\n",
    "    for i in range(row):\n",
    "        print(2,end=' ')\n",
    "    print()"
   ]
  },
  {
   "cell_type": "code",
   "execution_count": 352,
   "id": "82fd0380",
   "metadata": {},
   "outputs": [
    {
     "ename": "SyntaxError",
     "evalue": "invalid syntax (3296169149.py, line 6)",
     "output_type": "error",
     "traceback": [
      "\u001b[1;36m  Cell \u001b[1;32mIn[352], line 6\u001b[1;36m\u001b[0m\n\u001b[1;33m    num=num+1 or #num+=1\u001b[0m\n\u001b[1;37m                 ^\u001b[0m\n\u001b[1;31mSyntaxError\u001b[0m\u001b[1;31m:\u001b[0m invalid syntax\n"
     ]
    }
   ],
   "source": [
    "rows=int(input('enter the number of rows:'))\n",
    "num=1\n",
    "for row in range(1,rows+1):\n",
    "    for i in range(row):\n",
    "        print(num,end=' ')\n",
    "        num=num+1 or #num+=1\n",
    "    print()"
   ]
  },
  {
   "cell_type": "markdown",
   "id": "dcaf6840",
   "metadata": {},
   "source": [
    "### 2. write a program to check whether num is prime or not"
   ]
  },
  {
   "cell_type": "code",
   "execution_count": 353,
   "id": "9502c6f2",
   "metadata": {},
   "outputs": [
    {
     "name": "stdout",
     "output_type": "stream",
     "text": [
      "enter a number:5\n",
      "prime number\n"
     ]
    }
   ],
   "source": [
    "number=int(input('enter a number:'))#prime is devided by 1 and itself\n",
    "for i in range(2,number):\n",
    "    if number %i==0:\n",
    "        print('not a prime number')\n",
    "        break\n",
    "    else:\n",
    "        print('prime number') #if give any negative value it can not display anything\n",
    "        break"
   ]
  },
  {
   "cell_type": "code",
   "execution_count": 354,
   "id": "2ca1612b",
   "metadata": {},
   "outputs": [
    {
     "name": "stdout",
     "output_type": "stream",
     "text": [
      "enter a number:6\n",
      "not prime\n"
     ]
    }
   ],
   "source": [
    "number=int(input('enter a number:'))\n",
    "flag=0\n",
    "for i in range(2,number):\n",
    "    if number % i==0:\n",
    "        flag=1\n",
    "        break\n",
    "if flag==1:\n",
    "    print('not prime')\n",
    "else:\n",
    "    print('prime number')"
   ]
  },
  {
   "cell_type": "code",
   "execution_count": 355,
   "id": "c1f4b5ae",
   "metadata": {},
   "outputs": [
    {
     "name": "stdout",
     "output_type": "stream",
     "text": [
      "enter a number:8\n",
      "prime number\n"
     ]
    }
   ],
   "source": [
    "number=int(input('enter a number:'))\n",
    "flag=0\n",
    "if num>1:\n",
    "    for i in range(2,num):\n",
    "        if (num % i)==0:\n",
    "            flag=1\n",
    "            break\n",
    "if flag==1:\n",
    "    print('not prime')\n",
    "else:\n",
    "    print('prime number')"
   ]
  },
  {
   "cell_type": "markdown",
   "id": "720ee1ea",
   "metadata": {},
   "source": [
    "### 3.1. factorial of a number using loops"
   ]
  },
  {
   "cell_type": "code",
   "execution_count": 357,
   "id": "0ef1d99b",
   "metadata": {},
   "outputs": [
    {
     "name": "stdout",
     "output_type": "stream",
     "text": [
      "enter  a number to calculate factorial:4\n",
      "24\n"
     ]
    }
   ],
   "source": [
    "#5!=5*4*3*2*1\n",
    "\n",
    "num=int(input('enter  a number to calculate factorial:'))\n",
    "\n",
    "factorial=1\n",
    "\n",
    "if num<0:\n",
    "    print('no factorial for negative numbers.')\n",
    "elif num==0:\n",
    "    print('factorial of 0 is 1')\n",
    "else:\n",
    "    for i in range(1,num+1):\n",
    "        factorial=factorial * i\n",
    "    print(factorial)"
   ]
  },
  {
   "cell_type": "markdown",
   "id": "778faa1e",
   "metadata": {},
   "source": [
    "### 3.2. factorial of a number using recursion"
   ]
  },
  {
   "cell_type": "code",
   "execution_count": 358,
   "id": "3908402d",
   "metadata": {},
   "outputs": [
    {
     "name": "stdout",
     "output_type": "stream",
     "text": [
      "720\n"
     ]
    }
   ],
   "source": [
    "#recursion :a function calling itself\n",
    "def factorial(n):\n",
    "    if n==1:\n",
    "        return n\n",
    "    else:\n",
    "        return n*factorial(n-1)\n",
    "result=factorial(6)\n",
    "print(result)"
   ]
  },
  {
   "cell_type": "markdown",
   "id": "1084abc3",
   "metadata": {},
   "source": [
    "##### factorial of a number using recursion\n",
    "def factorial(n):if n==1:return n else:return n*factorial(n-1)\n",
    "factorial(5)\n",
    "num=int(input('enter a number:'))"
   ]
  },
  {
   "cell_type": "markdown",
   "id": "ac30ea5e",
   "metadata": {},
   "source": [
    "### check if the number is negative\n",
    "if num<0:print('sorry,factorial does not exist for negative numbers')elif num==0:print('the factorial of 0 is 1')else:print('the factorial of',num,'is',factorial(num))"
   ]
  },
  {
   "cell_type": "markdown",
   "id": "f135434a",
   "metadata": {},
   "source": [
    "### FILE I/O"
   ]
  },
  {
   "cell_type": "markdown",
   "id": "38335eff",
   "metadata": {},
   "source": [
    "- file is a named location on disk to store related information.it is used to perminently store data in a non-volatile memory(e.g hard disk)\n",
    "- since,random access memory(RAM)is volatile which loses its data when computer is turned off.we use files for future use of the data.\n",
    "- when we want to read from or write to a file we need to open it first.when we are done.it needs to be closed.so that resources that are tied with the file are freed."
   ]
  },
  {
   "cell_type": "markdown",
   "id": "676405c9",
   "metadata": {},
   "source": [
    "file operation:\n",
    "\n",
    " 1.open a file\n",
    " \n",
    " 2.read or write(perform operation)\n",
    " \n",
    " 3.close the file"
   ]
  },
  {
   "cell_type": "markdown",
   "id": "32a9c75e",
   "metadata": {},
   "source": [
    "### opening a file\n",
    "+ python has a built-in function open() to open a file.this function returns a file object.also called a handle.as it is used to read or modify the file accordingly. "
   ]
  },
  {
   "cell_type": "code",
   "execution_count": 360,
   "id": "bc48e4a9",
   "metadata": {},
   "outputs": [
    {
     "ename": "SyntaxError",
     "evalue": "invalid syntax. Perhaps you forgot a comma? (1585911594.py, line 1)",
     "output_type": "error",
     "traceback": [
      "\u001b[1;36m  Cell \u001b[1;32mIn[360], line 1\u001b[1;36m\u001b[0m\n\u001b[1;33m    file = open(path of the file)\u001b[0m\n\u001b[1;37m                ^\u001b[0m\n\u001b[1;31mSyntaxError\u001b[0m\u001b[1;31m:\u001b[0m invalid syntax. Perhaps you forgot a comma?\n"
     ]
    }
   ],
   "source": [
    "file = open(path of the file)\n",
    "path = c:/users/billa/onedrive/sample_file.txt\n",
    "file = open('sample_file.txt')"
   ]
  },
  {
   "cell_type": "markdown",
   "id": "41d999eb",
   "metadata": {},
   "source": [
    "we can specify the mode while opening a file.in mode,we specify whether we want to read 'r'.write 'w' or append 'a' to the file.we also specify if we want to open the file in text mode or binary mode."
   ]
  },
  {
   "cell_type": "markdown",
   "id": "dd174147",
   "metadata": {},
   "source": [
    "## python file modes\n",
    "- **read only('r')-** open a file for reading.(default)\n",
    "- **write only('w')-** open a file for writing.creates a new file if it does not exist or truncates the file if it exists.\n",
    "- **read and write('r+')-** open the file for reading and writing.raises i/o error if the does not exist.\n",
    "- **write and read('w+')-** open the file for reading and writing.for existing file.the data is truncated and over-written.\n",
    "- 'x'- open a file for exclusive creation.if the file already exists.the operation fails.\n",
    "- 'a'- open for  appending at the end of the file without truncating it.creates a new file if it does not exist.\n",
    "- 't'- open in text mode(default).\n",
    "- 'b'- open in binary mode.\n",
    "- '+'- open a file for updating (reading and writing)"
   ]
  },
  {
   "cell_type": "code",
   "execution_count": null,
   "id": "495156a1",
   "metadata": {},
   "outputs": [],
   "source": [
    "# truncated:everithing will be delete and new data will be entering.\n",
    "# append:adding something to the end of the file."
   ]
  },
  {
   "cell_type": "code",
   "execution_count": 361,
   "id": "7247541a",
   "metadata": {},
   "outputs": [],
   "source": [
    "file = open('sample_file.txt','w') # it can use only write"
   ]
  },
  {
   "cell_type": "code",
   "execution_count": 362,
   "id": "dc9cedef",
   "metadata": {},
   "outputs": [],
   "source": [
    "#file2= open('newfile.txt','r') ##it can be get error because in this name file is not having"
   ]
  },
  {
   "cell_type": "code",
   "execution_count": 363,
   "id": "64e100a5",
   "metadata": {},
   "outputs": [],
   "source": [
    "file2 = open('newfile.txt','w+') # it can use write and read"
   ]
  },
  {
   "cell_type": "markdown",
   "id": "c919bf01",
   "metadata": {},
   "source": [
    "### file object properties"
   ]
  },
  {
   "cell_type": "code",
   "execution_count": 364,
   "id": "b3c3fe3b",
   "metadata": {},
   "outputs": [
    {
     "name": "stdout",
     "output_type": "stream",
     "text": [
      "sample_file.txt\n",
      "False\n",
      "True\n",
      "None\n",
      "True\n"
     ]
    }
   ],
   "source": [
    "print(file.name)\n",
    "print(file.readable())\n",
    "print(file.writable())\n",
    "print(file.close())\n",
    "print(file.closed)"
   ]
  },
  {
   "cell_type": "markdown",
   "id": "d814fa06",
   "metadata": {},
   "source": [
    "### closing a file\n",
    "- closing a file will free up the resources that were tied with the file and is done using the close() method.\n",
    "- python has a garbage collector to clean up unreferenced object but,we must not rely on it to close the file."
   ]
  },
  {
   "cell_type": "code",
   "execution_count": 365,
   "id": "2870777f",
   "metadata": {},
   "outputs": [],
   "source": [
    "file=open('sample_file.txt')"
   ]
  },
  {
   "cell_type": "code",
   "execution_count": 366,
   "id": "9c1f8faf",
   "metadata": {},
   "outputs": [],
   "source": [
    "file.close()"
   ]
  },
  {
   "cell_type": "code",
   "execution_count": 367,
   "id": "5fe8d72a",
   "metadata": {},
   "outputs": [
    {
     "data": {
      "text/plain": [
       "True"
      ]
     },
     "execution_count": 367,
     "metadata": {},
     "output_type": "execute_result"
    }
   ],
   "source": [
    "file.closed"
   ]
  },
  {
   "cell_type": "markdown",
   "id": "4aa0d862",
   "metadata": {},
   "source": [
    "this method is not entirely safe.if an exception occurs when we are performing some operation with the file.the code exists without closing the file.\n",
    "- a safer way is to use a try.........finally block"
   ]
  },
  {
   "cell_type": "code",
   "execution_count": 368,
   "id": "7b3afc51",
   "metadata": {},
   "outputs": [],
   "source": [
    "try:\n",
    "    file=open('sample_file.txt')\n",
    "finally:\n",
    "    file.close()"
   ]
  },
  {
   "cell_type": "code",
   "execution_count": 369,
   "id": "7bdfb73b",
   "metadata": {},
   "outputs": [],
   "source": [
    "file.close()"
   ]
  },
  {
   "cell_type": "code",
   "execution_count": 370,
   "id": "d142b9c5",
   "metadata": {},
   "outputs": [],
   "source": [
    "try:\n",
    "    file=open('sample_file.txt','w')\n",
    "    file.write('statement1\\n')\n",
    "    file.write('statement 2\\n')\n",
    "    file.write('statement 3\\n')\n",
    "finally:\n",
    "    file.close()"
   ]
  },
  {
   "cell_type": "markdown",
   "id": "ebb24dd3",
   "metadata": {},
   "source": [
    "### writing to a file\n",
    "- in order to write into a file we need to open it in **write 'w',append 'a'or exclusive creation 'x' mode.**\n",
    "- we need to be careful with the 'w' mode as it will overwrite into the file if it already exists.all previous data are erased.\n",
    "- writing a string or sequence of bytes(for binary files)is done using **write()** method.this method returns the number of characters written to the file"
   ]
  },
  {
   "cell_type": "code",
   "execution_count": 371,
   "id": "8ab84568",
   "metadata": {},
   "outputs": [
    {
     "data": {
      "text/plain": [
       "36"
      ]
     },
     "execution_count": 371,
     "metadata": {},
     "output_type": "execute_result"
    }
   ],
   "source": [
    "file=open('sample_file.txt','a')\n",
    "file.write('this is python programming session.\\n') #\\n is used for line by line"
   ]
  },
  {
   "cell_type": "code",
   "execution_count": 372,
   "id": "00310dad",
   "metadata": {},
   "outputs": [
    {
     "data": {
      "text/plain": [
       "30"
      ]
     },
     "execution_count": 372,
     "metadata": {},
     "output_type": "execute_result"
    }
   ],
   "source": [
    "file.write('we are studying file handling\\n')"
   ]
  },
  {
   "cell_type": "code",
   "execution_count": 373,
   "id": "8921b989",
   "metadata": {},
   "outputs": [],
   "source": [
    "file.close()"
   ]
  },
  {
   "cell_type": "code",
   "execution_count": 374,
   "id": "04eb56e9",
   "metadata": {},
   "outputs": [
    {
     "ename": "ValueError",
     "evalue": "I/O operation on closed file.",
     "output_type": "error",
     "traceback": [
      "\u001b[1;31m---------------------------------------------------------------------------\u001b[0m",
      "\u001b[1;31mValueError\u001b[0m                                Traceback (most recent call last)",
      "Cell \u001b[1;32mIn[374], line 1\u001b[0m\n\u001b[1;32m----> 1\u001b[0m \u001b[43mfile\u001b[49m\u001b[38;5;241;43m.\u001b[39;49m\u001b[43mwrite\u001b[49m\u001b[43m(\u001b[49m\u001b[38;5;124;43m'\u001b[39;49m\u001b[38;5;124;43mnew statement\u001b[39;49m\u001b[38;5;124;43m'\u001b[39;49m\u001b[43m)\u001b[49m\n",
      "\u001b[1;31mValueError\u001b[0m: I/O operation on closed file."
     ]
    }
   ],
   "source": [
    "file.write('new statement') # once close the file it can not add any writing operation.because w is truncated "
   ]
  },
  {
   "cell_type": "markdown",
   "id": "87a4b2b2",
   "metadata": {},
   "source": [
    "### reading from a file\n",
    "- there are various methods available for this purpose.we can use the read(size) method to read in size number of data.if size parameter is not specified.it reads and returns up to the end of the file."
   ]
  },
  {
   "cell_type": "code",
   "execution_count": 375,
   "id": "1a6847cb",
   "metadata": {},
   "outputs": [],
   "source": [
    "file=open('sample_file.txt','r')"
   ]
  },
  {
   "cell_type": "code",
   "execution_count": 376,
   "id": "f880afc3",
   "metadata": {},
   "outputs": [
    {
     "data": {
      "text/plain": [
       "'statement1\\nstatement 2\\nstatement 3\\nthis is python programming session.\\nwe are studying file handling\\n'"
      ]
     },
     "execution_count": 376,
     "metadata": {},
     "output_type": "execute_result"
    }
   ],
   "source": [
    "file.read()"
   ]
  },
  {
   "cell_type": "code",
   "execution_count": 377,
   "id": "b557b963",
   "metadata": {},
   "outputs": [
    {
     "data": {
      "text/plain": [
       "''"
      ]
     },
     "execution_count": 377,
     "metadata": {},
     "output_type": "execute_result"
    }
   ],
   "source": [
    "file.read()"
   ]
  },
  {
   "cell_type": "code",
   "execution_count": 378,
   "id": "5d732b41",
   "metadata": {},
   "outputs": [
    {
     "data": {
      "text/plain": [
       "10"
      ]
     },
     "execution_count": 378,
     "metadata": {},
     "output_type": "execute_result"
    }
   ],
   "source": [
    "file.seek(10)"
   ]
  },
  {
   "cell_type": "code",
   "execution_count": 379,
   "id": "93551b49",
   "metadata": {},
   "outputs": [
    {
     "data": {
      "text/plain": [
       "'\\nstatement 2\\nstatement 3\\nthis is python programming session.\\nwe are studying file handling\\n'"
      ]
     },
     "execution_count": 379,
     "metadata": {},
     "output_type": "execute_result"
    }
   ],
   "source": [
    "file.read()"
   ]
  },
  {
   "cell_type": "code",
   "execution_count": 380,
   "id": "524e9322",
   "metadata": {},
   "outputs": [
    {
     "data": {
      "text/plain": [
       "''"
      ]
     },
     "execution_count": 380,
     "metadata": {},
     "output_type": "execute_result"
    }
   ],
   "source": [
    "file.read()"
   ]
  },
  {
   "cell_type": "code",
   "execution_count": 381,
   "id": "ef641ebb",
   "metadata": {},
   "outputs": [
    {
     "data": {
      "text/plain": [
       "0"
      ]
     },
     "execution_count": 381,
     "metadata": {},
     "output_type": "execute_result"
    }
   ],
   "source": [
    "file.seek(0)"
   ]
  },
  {
   "cell_type": "code",
   "execution_count": 382,
   "id": "e750b915",
   "metadata": {},
   "outputs": [
    {
     "data": {
      "text/plain": [
       "'statement1\\n'"
      ]
     },
     "execution_count": 382,
     "metadata": {},
     "output_type": "execute_result"
    }
   ],
   "source": [
    "file.readline() # read one line of statement at a time"
   ]
  },
  {
   "cell_type": "code",
   "execution_count": 383,
   "id": "4e61d911",
   "metadata": {},
   "outputs": [
    {
     "data": {
      "text/plain": [
       "'statement 2\\n'"
      ]
     },
     "execution_count": 383,
     "metadata": {},
     "output_type": "execute_result"
    }
   ],
   "source": [
    "file.readline()"
   ]
  },
  {
   "cell_type": "code",
   "execution_count": 384,
   "id": "d37a49ca",
   "metadata": {},
   "outputs": [
    {
     "data": {
      "text/plain": [
       "'statement 3\\n'"
      ]
     },
     "execution_count": 384,
     "metadata": {},
     "output_type": "execute_result"
    }
   ],
   "source": [
    "file.readline()"
   ]
  },
  {
   "cell_type": "code",
   "execution_count": 385,
   "id": "372f78f3",
   "metadata": {},
   "outputs": [
    {
     "data": {
      "text/plain": [
       "'this is python programming session.\\n'"
      ]
     },
     "execution_count": 385,
     "metadata": {},
     "output_type": "execute_result"
    }
   ],
   "source": [
    "file.readline()"
   ]
  },
  {
   "cell_type": "code",
   "execution_count": 386,
   "id": "62fe0922",
   "metadata": {},
   "outputs": [
    {
     "data": {
      "text/plain": [
       "0"
      ]
     },
     "execution_count": 386,
     "metadata": {},
     "output_type": "execute_result"
    }
   ],
   "source": [
    "file.seek(0) # it can takes the location based read"
   ]
  },
  {
   "cell_type": "markdown",
   "id": "cc3b0072",
   "metadata": {},
   "source": [
    " the **readlines()** method returns a list of the entire file.all those reading method return empty values when end of the file(EOF) is reached"
   ]
  },
  {
   "cell_type": "code",
   "execution_count": 387,
   "id": "d206b1a7",
   "metadata": {},
   "outputs": [
    {
     "data": {
      "text/plain": [
       "['statement1\\n',\n",
       " 'statement 2\\n',\n",
       " 'statement 3\\n',\n",
       " 'this is python programming session.\\n',\n",
       " 'we are studying file handling\\n']"
      ]
     },
     "execution_count": 387,
     "metadata": {},
     "output_type": "execute_result"
    }
   ],
   "source": [
    "file.readlines() # read all the statements at once"
   ]
  },
  {
   "cell_type": "code",
   "execution_count": 388,
   "id": "c6a9c798",
   "metadata": {},
   "outputs": [
    {
     "data": {
      "text/plain": [
       "[]"
      ]
     },
     "execution_count": 388,
     "metadata": {},
     "output_type": "execute_result"
    }
   ],
   "source": [
    "file.readlines()"
   ]
  },
  {
   "cell_type": "code",
   "execution_count": 389,
   "id": "f6aaebd0",
   "metadata": {},
   "outputs": [
    {
     "data": {
      "text/plain": [
       "10"
      ]
     },
     "execution_count": 389,
     "metadata": {},
     "output_type": "execute_result"
    }
   ],
   "source": [
    "file.seek(10)"
   ]
  },
  {
   "cell_type": "code",
   "execution_count": 390,
   "id": "6c34257e",
   "metadata": {},
   "outputs": [
    {
     "data": {
      "text/plain": [
       "10"
      ]
     },
     "execution_count": 390,
     "metadata": {},
     "output_type": "execute_result"
    }
   ],
   "source": [
    "file.tell() ## it can display the where the cursor location is there it can be indicate"
   ]
  },
  {
   "cell_type": "code",
   "execution_count": 391,
   "id": "df96acd0",
   "metadata": {},
   "outputs": [
    {
     "data": {
      "text/plain": [
       "['\\n',\n",
       " 'statement 2\\n',\n",
       " 'statement 3\\n',\n",
       " 'this is python programming session.\\n',\n",
       " 'we are studying file handling\\n']"
      ]
     },
     "execution_count": 391,
     "metadata": {},
     "output_type": "execute_result"
    }
   ],
   "source": [
    "file.readlines()"
   ]
  },
  {
   "cell_type": "markdown",
   "id": "c800a236",
   "metadata": {},
   "source": [
    "### using open() function and 'with' keyword"
   ]
  },
  {
   "cell_type": "code",
   "execution_count": 392,
   "id": "d8003ea2",
   "metadata": {},
   "outputs": [
    {
     "name": "stdout",
     "output_type": "stream",
     "text": [
      "statement1\n",
      "statement 2\n",
      "statement 3\n",
      "this is python programming session.\n",
      "we are studying file handling\n",
      "\n",
      "\n",
      "statement 2\n",
      "statement 3\n",
      "this is python programming session.\n",
      "we are studying file handling\n",
      "\n"
     ]
    }
   ],
   "source": [
    "with open('sample_file.txt','r') as file:\n",
    "    print(file.read())\n",
    "    file.seek(11)\n",
    "    print(file.read())"
   ]
  },
  {
   "cell_type": "code",
   "execution_count": 393,
   "id": "ba134f41",
   "metadata": {},
   "outputs": [],
   "source": [
    "#import csv # csv =comma seperated values\n",
    "\n",
    "#with open('cities.csv') as data:\n",
    "    #file_data=csv.reader(data)\n",
    "    \n",
    "   # for row in file_data:\n",
    "       # print(new)\n",
    "       # print(type(row))"
   ]
  },
  {
   "cell_type": "markdown",
   "id": "a0740c76",
   "metadata": {},
   "source": [
    "### renaming and deleting files in python.\n",
    "- while you were using the read/write functions,you may also need to rename/delete a file in python.so,there comes a os module in python which brings the support of the file rename/delete operations.\n",
    "- so,to continue,first of all,you should import the os module in your python script"
   ]
  },
  {
   "cell_type": "code",
   "execution_count": 394,
   "id": "52989d86",
   "metadata": {},
   "outputs": [],
   "source": [
    "import os"
   ]
  },
  {
   "cell_type": "code",
   "execution_count": 395,
   "id": "4aa56abf",
   "metadata": {},
   "outputs": [],
   "source": [
    "os.rename('sample_file.txt','rename.txt')"
   ]
  },
  {
   "cell_type": "code",
   "execution_count": 396,
   "id": "6ade614f",
   "metadata": {},
   "outputs": [],
   "source": [
    "os.remove('rename.txt')"
   ]
  },
  {
   "cell_type": "code",
   "execution_count": 397,
   "id": "03d32b5f",
   "metadata": {},
   "outputs": [],
   "source": [
    "#os.remove('c:/users/billa/onedrive/rename.txt') #delete path"
   ]
  },
  {
   "cell_type": "code",
   "execution_count": 398,
   "id": "7b75aa81",
   "metadata": {},
   "outputs": [
    {
     "data": {
      "text/plain": [
       "'C:\\\\Users\\\\billa\\\\OneDrive'"
      ]
     },
     "execution_count": 398,
     "metadata": {},
     "output_type": "execute_result"
    }
   ],
   "source": [
    "os.getcwd() # get current working directory"
   ]
  },
  {
   "cell_type": "code",
   "execution_count": 399,
   "id": "d7d91d5f",
   "metadata": {
    "scrolled": true
   },
   "outputs": [
    {
     "data": {
      "text/plain": [
       "['.849C9593-D756-4E56-8D6E-42412F2A707B',\n",
       " '.ipynb_checkpoints',\n",
       " 'bhargavi.ipynb',\n",
       " 'Desktop',\n",
       " 'desktop.ini',\n",
       " 'Documents',\n",
       " 'Documents - Copy',\n",
       " 'Getting started with OneDrive.pdf',\n",
       " 'inno',\n",
       " 'mymath.py',\n",
       " 'new.file',\n",
       " 'newfile.txt',\n",
       " 'Personal Vault.lnk',\n",
       " 'Pictures',\n",
       " '__pycache__']"
      ]
     },
     "execution_count": 399,
     "metadata": {},
     "output_type": "execute_result"
    }
   ],
   "source": [
    "os.listdir()"
   ]
  },
  {
   "cell_type": "code",
   "execution_count": 400,
   "id": "c40251a0",
   "metadata": {},
   "outputs": [],
   "source": [
    " os.chdir(\"C:\\Windows\")"
   ]
  },
  {
   "cell_type": "code",
   "execution_count": 401,
   "id": "f4590748",
   "metadata": {},
   "outputs": [
    {
     "data": {
      "text/plain": [
       "'C:\\\\Windows'"
      ]
     },
     "execution_count": 401,
     "metadata": {},
     "output_type": "execute_result"
    }
   ],
   "source": [
    "os.getcwd()"
   ]
  },
  {
   "cell_type": "markdown",
   "id": "20fa3ee1",
   "metadata": {},
   "source": [
    "### python errors and built-in-exceptions\n",
    "- when writing a program.we more often than not,will encounter errors.\n",
    "- error caused by not following the proper structure(syntax) of all the language is called syntax error or parsing error."
   ]
  },
  {
   "cell_type": "code",
   "execution_count": 402,
   "id": "9602d651",
   "metadata": {},
   "outputs": [
    {
     "ename": "IndentationError",
     "evalue": "expected an indented block after 'if' statement on line 1 (2370351283.py, line 2)",
     "output_type": "error",
     "traceback": [
      "\u001b[1;36m  Cell \u001b[1;32mIn[402], line 2\u001b[1;36m\u001b[0m\n\u001b[1;33m    print('hello')   ## have indentation error\u001b[0m\n\u001b[1;37m    ^\u001b[0m\n\u001b[1;31mIndentationError\u001b[0m\u001b[1;31m:\u001b[0m expected an indented block after 'if' statement on line 1\n"
     ]
    }
   ],
   "source": [
    "if True:\n",
    "print('hello')   ## have indentation error"
   ]
  },
  {
   "cell_type": "markdown",
   "id": "003da730",
   "metadata": {},
   "source": [
    "#### broadly speaking there are 3 main kinds of errors in programming:\n",
    "**1. compile-time errors**\n",
    "- we don't get these in python\n",
    "- python is a dynamically typed language\n",
    "- no compilation of code as such\n",
    "- we have `syntax errors` in python\n",
    "\n",
    "**2. logical errors**\n",
    "- whenever there is a problem with our logic\n",
    "- example-doing subtraction where addition was required logically\n",
    "\n",
    "**3. run-time errors**\n",
    "- occur when we run the code\n",
    "\n",
    "**there can be different types of `run-time` errors**\n",
    "- syntax error\n",
    "- name-error\n",
    "- value error\n",
    "- division by zero error\n",
    "- module not found error\n",
    "- file not found error\n",
    "- .........and so on"
   ]
  },
  {
   "cell_type": "code",
   "execution_count": 403,
   "id": "72e1120c",
   "metadata": {},
   "outputs": [],
   "source": [
    "# c,c++ are compiled languages # python is not compiled this is interpreted language\n",
    "#like if 10 lines are there in this if error is 4 th line stop here and not check until you fix above error "
   ]
  },
  {
   "cell_type": "markdown",
   "id": "06162411",
   "metadata": {},
   "source": [
    "##### what's the difference between errors and expections?\n",
    "- errors,in general,refer to **syntactical or interpreter-related errors**\n",
    "- errors detected during **execution are called exceptions**"
   ]
  },
  {
   "cell_type": "markdown",
   "id": "625adebb",
   "metadata": {},
   "source": [
    "they occur,for example,when a file we try to open does not exist(**filenotfounderror**).dividing a number by zero (**zerodivisionerror**).module we try to import is not found(importerror)etc."
   ]
  },
  {
   "cell_type": "markdown",
   "id": "d54a34d6",
   "metadata": {},
   "source": [
    "whenever these type of runtime error occur,python creates an exception object.if not handled properly.it prints a traceback to that error along with some details about why that error occured."
   ]
  },
  {
   "cell_type": "code",
   "execution_count": 404,
   "id": "b69e0abe",
   "metadata": {},
   "outputs": [
    {
     "name": "stdout",
     "output_type": "stream",
     "text": [
      "4\n"
     ]
    }
   ],
   "source": [
    "print(num)         #name error"
   ]
  },
  {
   "cell_type": "code",
   "execution_count": 405,
   "id": "88295cb4",
   "metadata": {},
   "outputs": [
    {
     "ename": "ZeroDivisionError",
     "evalue": "division by zero",
     "output_type": "error",
     "traceback": [
      "\u001b[1;31m---------------------------------------------------------------------------\u001b[0m",
      "\u001b[1;31mZeroDivisionError\u001b[0m                         Traceback (most recent call last)",
      "Cell \u001b[1;32mIn[405], line 1\u001b[0m\n\u001b[1;32m----> 1\u001b[0m \u001b[38;5;241;43m1\u001b[39;49m\u001b[38;5;241;43m/\u001b[39;49m\u001b[38;5;241;43m0\u001b[39;49m\n",
      "\u001b[1;31mZeroDivisionError\u001b[0m: division by zero"
     ]
    }
   ],
   "source": [
    "1/0              # zerodivision erroe"
   ]
  },
  {
   "cell_type": "code",
   "execution_count": 406,
   "id": "8501354a",
   "metadata": {},
   "outputs": [
    {
     "ename": "FileNotFoundError",
     "evalue": "[Errno 2] No such file or directory: 'new_file.txt'",
     "output_type": "error",
     "traceback": [
      "\u001b[1;31m---------------------------------------------------------------------------\u001b[0m",
      "\u001b[1;31mFileNotFoundError\u001b[0m                         Traceback (most recent call last)",
      "Cell \u001b[1;32mIn[406], line 1\u001b[0m\n\u001b[1;32m----> 1\u001b[0m \u001b[38;5;28;43mopen\u001b[39;49m\u001b[43m(\u001b[49m\u001b[38;5;124;43m'\u001b[39;49m\u001b[38;5;124;43mnew_file.txt\u001b[39;49m\u001b[38;5;124;43m'\u001b[39;49m\u001b[43m)\u001b[49m\n",
      "File \u001b[1;32m~\\anaconda3\\lib\\site-packages\\IPython\\core\\interactiveshell.py:282\u001b[0m, in \u001b[0;36m_modified_open\u001b[1;34m(file, *args, **kwargs)\u001b[0m\n\u001b[0;32m    275\u001b[0m \u001b[38;5;28;01mif\u001b[39;00m file \u001b[38;5;129;01min\u001b[39;00m {\u001b[38;5;241m0\u001b[39m, \u001b[38;5;241m1\u001b[39m, \u001b[38;5;241m2\u001b[39m}:\n\u001b[0;32m    276\u001b[0m     \u001b[38;5;28;01mraise\u001b[39;00m \u001b[38;5;167;01mValueError\u001b[39;00m(\n\u001b[0;32m    277\u001b[0m         \u001b[38;5;124mf\u001b[39m\u001b[38;5;124m\"\u001b[39m\u001b[38;5;124mIPython won\u001b[39m\u001b[38;5;124m'\u001b[39m\u001b[38;5;124mt let you open fd=\u001b[39m\u001b[38;5;132;01m{\u001b[39;00mfile\u001b[38;5;132;01m}\u001b[39;00m\u001b[38;5;124m by default \u001b[39m\u001b[38;5;124m\"\u001b[39m\n\u001b[0;32m    278\u001b[0m         \u001b[38;5;124m\"\u001b[39m\u001b[38;5;124mas it is likely to crash IPython. If you know what you are doing, \u001b[39m\u001b[38;5;124m\"\u001b[39m\n\u001b[0;32m    279\u001b[0m         \u001b[38;5;124m\"\u001b[39m\u001b[38;5;124myou can use builtins\u001b[39m\u001b[38;5;124m'\u001b[39m\u001b[38;5;124m open.\u001b[39m\u001b[38;5;124m\"\u001b[39m\n\u001b[0;32m    280\u001b[0m     )\n\u001b[1;32m--> 282\u001b[0m \u001b[38;5;28;01mreturn\u001b[39;00m io_open(file, \u001b[38;5;241m*\u001b[39margs, \u001b[38;5;241m*\u001b[39m\u001b[38;5;241m*\u001b[39mkwargs)\n",
      "\u001b[1;31mFileNotFoundError\u001b[0m: [Errno 2] No such file or directory: 'new_file.txt'"
     ]
    }
   ],
   "source": [
    "open('new_file.txt') #filenotfound error"
   ]
  },
  {
   "cell_type": "code",
   "execution_count": 407,
   "id": "d716700c",
   "metadata": {},
   "outputs": [
    {
     "ename": "SyntaxError",
     "evalue": "incomplete input (3830787417.py, line 1)",
     "output_type": "error",
     "traceback": [
      "\u001b[1;36m  Cell \u001b[1;32mIn[407], line 1\u001b[1;36m\u001b[0m\n\u001b[1;33m    if(5>3):         #syntax error\u001b[0m\n\u001b[1;37m                                  ^\u001b[0m\n\u001b[1;31mSyntaxError\u001b[0m\u001b[1;31m:\u001b[0m incomplete input\n"
     ]
    }
   ],
   "source": [
    "if(5>3):         #syntax error"
   ]
  },
  {
   "cell_type": "code",
   "execution_count": 408,
   "id": "931dc747",
   "metadata": {},
   "outputs": [
    {
     "ename": "ModuleNotFoundError",
     "evalue": "No module named 'something'",
     "output_type": "error",
     "traceback": [
      "\u001b[1;31m---------------------------------------------------------------------------\u001b[0m",
      "\u001b[1;31mModuleNotFoundError\u001b[0m                       Traceback (most recent call last)",
      "Cell \u001b[1;32mIn[408], line 1\u001b[0m\n\u001b[1;32m----> 1\u001b[0m \u001b[38;5;28;01mimport\u001b[39;00m \u001b[38;5;21;01msomething\u001b[39;00m\n",
      "\u001b[1;31mModuleNotFoundError\u001b[0m: No module named 'something'"
     ]
    }
   ],
   "source": [
    "import something         #modulenoterror"
   ]
  },
  {
   "cell_type": "markdown",
   "id": "da6b3f7a",
   "metadata": {},
   "source": [
    "### python built-in exceptions"
   ]
  },
  {
   "cell_type": "code",
   "execution_count": 409,
   "id": "62b17616",
   "metadata": {},
   "outputs": [
    {
     "data": {
      "text/plain": [
       "['ArithmeticError',\n",
       " 'AssertionError',\n",
       " 'AttributeError',\n",
       " 'BaseException',\n",
       " 'BlockingIOError',\n",
       " 'BrokenPipeError',\n",
       " 'BufferError',\n",
       " 'BytesWarning',\n",
       " 'ChildProcessError',\n",
       " 'ConnectionAbortedError',\n",
       " 'ConnectionError',\n",
       " 'ConnectionRefusedError',\n",
       " 'ConnectionResetError',\n",
       " 'DeprecationWarning',\n",
       " 'EOFError',\n",
       " 'Ellipsis',\n",
       " 'EncodingWarning',\n",
       " 'EnvironmentError',\n",
       " 'Exception',\n",
       " 'False',\n",
       " 'FileExistsError',\n",
       " 'FileNotFoundError',\n",
       " 'FloatingPointError',\n",
       " 'FutureWarning',\n",
       " 'GeneratorExit',\n",
       " 'IOError',\n",
       " 'ImportError',\n",
       " 'ImportWarning',\n",
       " 'IndentationError',\n",
       " 'IndexError',\n",
       " 'InterruptedError',\n",
       " 'IsADirectoryError',\n",
       " 'KeyError',\n",
       " 'KeyboardInterrupt',\n",
       " 'LookupError',\n",
       " 'MemoryError',\n",
       " 'ModuleNotFoundError',\n",
       " 'NameError',\n",
       " 'None',\n",
       " 'NotADirectoryError',\n",
       " 'NotImplemented',\n",
       " 'NotImplementedError',\n",
       " 'OSError',\n",
       " 'OverflowError',\n",
       " 'PendingDeprecationWarning',\n",
       " 'PermissionError',\n",
       " 'ProcessLookupError',\n",
       " 'RecursionError',\n",
       " 'ReferenceError',\n",
       " 'ResourceWarning',\n",
       " 'RuntimeError',\n",
       " 'RuntimeWarning',\n",
       " 'StopAsyncIteration',\n",
       " 'StopIteration',\n",
       " 'SyntaxError',\n",
       " 'SyntaxWarning',\n",
       " 'SystemError',\n",
       " 'SystemExit',\n",
       " 'TabError',\n",
       " 'TimeoutError',\n",
       " 'True',\n",
       " 'TypeError',\n",
       " 'UnboundLocalError',\n",
       " 'UnicodeDecodeError',\n",
       " 'UnicodeEncodeError',\n",
       " 'UnicodeError',\n",
       " 'UnicodeTranslateError',\n",
       " 'UnicodeWarning',\n",
       " 'UserWarning',\n",
       " 'ValueError',\n",
       " 'Warning',\n",
       " 'WindowsError',\n",
       " 'ZeroDivisionError',\n",
       " '__IPYTHON__',\n",
       " '__build_class__',\n",
       " '__debug__',\n",
       " '__doc__',\n",
       " '__import__',\n",
       " '__loader__',\n",
       " '__name__',\n",
       " '__package__',\n",
       " '__spec__',\n",
       " 'abs',\n",
       " 'aiter',\n",
       " 'all',\n",
       " 'anext',\n",
       " 'any',\n",
       " 'ascii',\n",
       " 'bin',\n",
       " 'bool',\n",
       " 'breakpoint',\n",
       " 'bytearray',\n",
       " 'bytes',\n",
       " 'callable',\n",
       " 'chr',\n",
       " 'classmethod',\n",
       " 'compile',\n",
       " 'complex',\n",
       " 'copyright',\n",
       " 'credits',\n",
       " 'delattr',\n",
       " 'dict',\n",
       " 'dir',\n",
       " 'display',\n",
       " 'divmod',\n",
       " 'enumerate',\n",
       " 'eval',\n",
       " 'exec',\n",
       " 'execfile',\n",
       " 'filter',\n",
       " 'float',\n",
       " 'format',\n",
       " 'frozenset',\n",
       " 'get_ipython',\n",
       " 'getattr',\n",
       " 'globals',\n",
       " 'hasattr',\n",
       " 'hash',\n",
       " 'help',\n",
       " 'hex',\n",
       " 'id',\n",
       " 'input',\n",
       " 'int',\n",
       " 'isinstance',\n",
       " 'issubclass',\n",
       " 'iter',\n",
       " 'len',\n",
       " 'license',\n",
       " 'list',\n",
       " 'locals',\n",
       " 'map',\n",
       " 'max',\n",
       " 'memoryview',\n",
       " 'min',\n",
       " 'next',\n",
       " 'object',\n",
       " 'oct',\n",
       " 'open',\n",
       " 'ord',\n",
       " 'pow',\n",
       " 'print',\n",
       " 'property',\n",
       " 'range',\n",
       " 'repr',\n",
       " 'reversed',\n",
       " 'round',\n",
       " 'runfile',\n",
       " 'set',\n",
       " 'setattr',\n",
       " 'slice',\n",
       " 'sorted',\n",
       " 'staticmethod',\n",
       " 'str',\n",
       " 'sum',\n",
       " 'super',\n",
       " 'tuple',\n",
       " 'type',\n",
       " 'vars',\n",
       " 'zip']"
      ]
     },
     "execution_count": 409,
     "metadata": {},
     "output_type": "execute_result"
    }
   ],
   "source": [
    "dir(__builtins__)"
   ]
  },
  {
   "cell_type": "markdown",
   "id": "c17583ab",
   "metadata": {},
   "source": [
    "### python exception handling - try,except and finally\n",
    "- python has many built-in exceptions which forces your program to output an error when something in it goes wrong.\n",
    "- when these exceptions occut,it causes the current process to stop and passes it to the calling process until it is handled.if nor handled,our program will crash.\n",
    "- for example,if function A calls function B which in turn calls function C and an exception occurs in function C.if it is nor handled in C,the exception passes to B and then to A.\n",
    "- if never handled, an error message is spit out and our program come to a sudden,unexpected halt."
   ]
  },
  {
   "cell_type": "markdown",
   "id": "cad98356",
   "metadata": {},
   "source": [
    "### catching exceptions in python\n",
    "- in python,exceptions can be handled using a try statement.\n",
    "- a critical operation which can raise exception is placed inside the try clause and the code that handles exception is weitten in except clause."
   ]
  },
  {
   "cell_type": "code",
   "execution_count": 410,
   "id": "2a616433",
   "metadata": {},
   "outputs": [
    {
     "name": "stdout",
     "output_type": "stream",
     "text": [
      "enter a number:67\n",
      "enter second number:56\n",
      "1.1964285714285714\n"
     ]
    }
   ],
   "source": [
    "num1=int(input('enter a number:'))\n",
    "num2=int(input('enter second number:'))\n",
    "result=num1/num2\n",
    "print(result) #if give second number'0' it can show the zerodivision error "
   ]
  },
  {
   "cell_type": "code",
   "execution_count": 411,
   "id": "a394f271",
   "metadata": {},
   "outputs": [
    {
     "name": "stdout",
     "output_type": "stream",
     "text": [
      "enter a number:4\n",
      "enter second number:2\n",
      "2.0\n"
     ]
    }
   ],
   "source": [
    "num1=int(input('enter a number:'))\n",
    "num2=int(input('enter second number:'))\n",
    "\n",
    "try:\n",
    "    result=num1/num2\n",
    "    print(result)\n",
    "except:\n",
    "    print('there is some error')"
   ]
  },
  {
   "cell_type": "markdown",
   "id": "c50457c2",
   "metadata": {},
   "source": [
    "**except** block receives the program flow if any line inside try block throws an error."
   ]
  },
  {
   "cell_type": "code",
   "execution_count": 412,
   "id": "31316995",
   "metadata": {},
   "outputs": [
    {
     "name": "stdout",
     "output_type": "stream",
     "text": [
      "1.0\n",
      "0.5\n",
      "0.3333333333333333\n",
      "some error occured\n",
      "some error occured\n"
     ]
    }
   ],
   "source": [
    "list1=[1,2,3,'a','s']\n",
    "for ele in list1:\n",
    "    try:\n",
    "        result=1/int(ele)\n",
    "        print(result)\n",
    "    except:\n",
    "        print('some error occured')"
   ]
  },
  {
   "cell_type": "markdown",
   "id": "ab0d53e4",
   "metadata": {},
   "source": [
    "##### **sys module**"
   ]
  },
  {
   "cell_type": "code",
   "execution_count": 413,
   "id": "2d463d3a",
   "metadata": {},
   "outputs": [
    {
     "name": "stdout",
     "output_type": "stream",
     "text": [
      "1.0\n",
      "0.5\n",
      "0.3333333333333333\n",
      "<class 'ValueError'>\n",
      "some error occured\n",
      "0.2\n"
     ]
    }
   ],
   "source": [
    "import sys\n",
    "\n",
    "list1=[1,2,3,'a','5']\n",
    "\n",
    "for ele in list1:\n",
    "    try:\n",
    "        result=1/int(ele)\n",
    "        print(result)\n",
    "    except:\n",
    "        #print(sys.exc_info())\n",
    "        print(sys.exc_info()[0])\n",
    "        print('some error occured')"
   ]
  },
  {
   "cell_type": "markdown",
   "id": "f835b5b2",
   "metadata": {},
   "source": [
    "### catching specific exceptions in python\n",
    "- in the above example,we did not mention any exception in the except clause.\n",
    "- this is not a good programming practice as it will catch all exceptions and handle every case in the same way.we can specify which exceptions an except clause will catch.\n",
    "- a try clause can have any number of except clause to handle them differently but only one will be executed in case an exception occures."
   ]
  },
  {
   "cell_type": "code",
   "execution_count": 414,
   "id": "17aa7c18",
   "metadata": {},
   "outputs": [
    {
     "name": "stdout",
     "output_type": "stream",
     "text": [
      "1.0\n",
      "0.5\n",
      "0.3333333333333333\n",
      "value error occured.\n",
      "0.2\n",
      "you were trying to divide a number by zero.\n"
     ]
    }
   ],
   "source": [
    "import sys\n",
    "\n",
    "list1=[1,2,3,'a','5',0]\n",
    "\n",
    "for ele in list1:\n",
    "    try:\n",
    "        result=1/int(ele)\n",
    "        print(result)\n",
    "    except (ValueError):\n",
    "        print('value error occured.')\n",
    "    except (ZeroDivisionError):\n",
    "        print('you were trying to divide a number by zero.')\n",
    "    except (NameError):\n",
    "        print('please check the variable names.')        \n",
    "    except:\n",
    "        print('some other error occured')"
   ]
  },
  {
   "cell_type": "markdown",
   "id": "e7a79f2f",
   "metadata": {},
   "source": [
    "### raising exceptions\n",
    "- in python programming,exceptions are raised when corresponding errors occur at run time,but we can forcefully raise it using the keyword raise.\n",
    "- we can also optionally pass in value to the exception to clarify why that exception was raised."
   ]
  },
  {
   "cell_type": "code",
   "execution_count": 415,
   "id": "a4d99413",
   "metadata": {},
   "outputs": [],
   "source": [
    "#prime number and factorial negative number is not calculates to it."
   ]
  },
  {
   "cell_type": "code",
   "execution_count": 417,
   "id": "180333de",
   "metadata": {},
   "outputs": [
    {
     "name": "stdout",
     "output_type": "stream",
     "text": [
      "enter a number:-8\n"
     ]
    },
    {
     "ename": "ValueError",
     "evalue": "x should not be less than 0!",
     "output_type": "error",
     "traceback": [
      "\u001b[1;31m---------------------------------------------------------------------------\u001b[0m",
      "\u001b[1;31mValueError\u001b[0m                                Traceback (most recent call last)",
      "Cell \u001b[1;32mIn[417], line 3\u001b[0m\n\u001b[0;32m      1\u001b[0m x\u001b[38;5;241m=\u001b[39m\u001b[38;5;28mint\u001b[39m(\u001b[38;5;28minput\u001b[39m(\u001b[38;5;124m'\u001b[39m\u001b[38;5;124menter a number:\u001b[39m\u001b[38;5;124m'\u001b[39m))\n\u001b[0;32m      2\u001b[0m \u001b[38;5;28;01mif\u001b[39;00m x\u001b[38;5;241m<\u001b[39m\u001b[38;5;241m0\u001b[39m:\n\u001b[1;32m----> 3\u001b[0m     \u001b[38;5;28;01mraise\u001b[39;00m \u001b[38;5;167;01mValueError\u001b[39;00m(\u001b[38;5;124m'\u001b[39m\u001b[38;5;124mx should not be less than 0!\u001b[39m\u001b[38;5;124m'\u001b[39m)\n",
      "\u001b[1;31mValueError\u001b[0m: x should not be less than 0!"
     ]
    }
   ],
   "source": [
    "x=int(input('enter a number:'))\n",
    "if x<0:\n",
    "    raise ValueError('x should not be less than 0!')"
   ]
  },
  {
   "cell_type": "code",
   "execution_count": 418,
   "id": "36f41255",
   "metadata": {},
   "outputs": [
    {
     "ename": "KeyboardInterrupt",
     "evalue": "",
     "output_type": "error",
     "traceback": [
      "\u001b[1;31m---------------------------------------------------------------------------\u001b[0m",
      "\u001b[1;31mKeyboardInterrupt\u001b[0m                         Traceback (most recent call last)",
      "Cell \u001b[1;32mIn[418], line 2\u001b[0m\n\u001b[0;32m      1\u001b[0m \u001b[38;5;66;03m# will interrupt the flow of the program if we press keys on keyboard\u001b[39;00m\n\u001b[1;32m----> 2\u001b[0m \u001b[38;5;28;01mraise\u001b[39;00m \u001b[38;5;167;01mKeyboardInterrupt\u001b[39;00m\n",
      "\u001b[1;31mKeyboardInterrupt\u001b[0m: "
     ]
    }
   ],
   "source": [
    "# will interrupt the flow of the program if we press keys on keyboard\n",
    "raise KeyboardInterrupt"
   ]
  },
  {
   "cell_type": "code",
   "execution_count": 419,
   "id": "86f20922",
   "metadata": {},
   "outputs": [
    {
     "ename": "MemoryError",
     "evalue": "this is memory error",
     "output_type": "error",
     "traceback": [
      "\u001b[1;31m---------------------------------------------------------------------------\u001b[0m",
      "\u001b[1;31mMemoryError\u001b[0m                               Traceback (most recent call last)",
      "Cell \u001b[1;32mIn[419], line 2\u001b[0m\n\u001b[0;32m      1\u001b[0m \u001b[38;5;66;03m# i don't want my system to use more than 2gb ram,in that case we can use this\u001b[39;00m\n\u001b[1;32m----> 2\u001b[0m \u001b[38;5;28;01mraise\u001b[39;00m \u001b[38;5;167;01mMemoryError\u001b[39;00m(\u001b[38;5;124m'\u001b[39m\u001b[38;5;124mthis is memory error\u001b[39m\u001b[38;5;124m'\u001b[39m)\n",
      "\u001b[1;31mMemoryError\u001b[0m: this is memory error"
     ]
    }
   ],
   "source": [
    "# i don't want my system to use more than 2gb ram,in that case we can use this\n",
    "raise MemoryError('this is memory error')"
   ]
  },
  {
   "cell_type": "markdown",
   "id": "59795c2c",
   "metadata": {},
   "source": [
    "### try ...... finally\n",
    "- the try statement in python can have an optional finally clause.this caluse is executed no matter what,and is generally used to release external resources."
   ]
  },
  {
   "cell_type": "code",
   "execution_count": null,
   "id": "68a2417e",
   "metadata": {},
   "outputs": [],
   "source": [
    "#like if and else\n",
    "try()           if()\n",
    "except()        elif()\n",
    "finally()       else()\n",
    "finally will always run"
   ]
  },
  {
   "cell_type": "code",
   "execution_count": null,
   "id": "f73c7ebe",
   "metadata": {},
   "outputs": [],
   "source": [
    "try:\n",
    "    f=open('sample.txt')\n",
    "    f.write()\n",
    "    f.write()\n",
    "    f.read()\n",
    "    #perform file operations\n",
    "    \n",
    "finally:\n",
    "    close()"
   ]
  },
  {
   "cell_type": "code",
   "execution_count": 420,
   "id": "0862f49b",
   "metadata": {},
   "outputs": [],
   "source": [
    "def divide(x,y):\n",
    "    try:\n",
    "        #floor division:gives only fractional\n",
    "        #part as answer\n",
    "        result=x//y\n",
    "    except ZeroDivisionError:\n",
    "        print('sorry ! you are dividing by zero')\n",
    "    else:\n",
    "        print('yeah ! your answer is :',result)\n",
    "    finally:\n",
    "        #this block is always executed\n",
    "        #regardless of exception generation.\n",
    "        print('this is always exeecuted')"
   ]
  },
  {
   "cell_type": "code",
   "execution_count": 421,
   "id": "860dc0a7",
   "metadata": {},
   "outputs": [
    {
     "name": "stdout",
     "output_type": "stream",
     "text": [
      "yeah ! your answer is : 1\n",
      "this is always exeecuted\n",
      "sorry ! you are dividing by zero\n",
      "this is always exeecuted\n"
     ]
    }
   ],
   "source": [
    "#look at parameters and note the working of program\n",
    "divide(3,2)\n",
    "divide(3,0)"
   ]
  },
  {
   "cell_type": "markdown",
   "id": "4458c1dd",
   "metadata": {},
   "source": [
    "## object oriented programming(OOP)"
   ]
  },
  {
   "cell_type": "markdown",
   "id": "37e1f0c6",
   "metadata": {},
   "source": [
    "### write code once for a given entity, and create multiple instances after\n",
    "#### oop will allow us to:\n",
    "- write the code once for a given object like student\n",
    "- reuse that code as many times as we want the objects(students)\n",
    "- write template code for objects having similar behaviours/characteristics/properties\n",
    "- use that code to create as many similar objects as we want\n",
    "#### example- a banking application has:\n",
    "- customers\n",
    "- bank accounts\n",
    "- transactions\n",
    "#### even in our code,we will have some representations of these objects existing in real-world\n",
    "- representation of customers,accounts,\n",
    "- representations of transactions happening among these accounts\n",
    "#### to implement OOP,we need 2 things:\n",
    "`1.class`\n",
    "- it's a template\n",
    "- a blue print\n",
    "- use it to create as many objects as we want\n",
    "- example:class student\n",
    "`object`\n",
    "- instances of a class\n",
    "- created using the blueprint code of class\n",
    "- example: 'vinay' is an instance of student\n",
    "#### a class contains:\n",
    "- properties-data or variables which have some values\n",
    "- methods-functions which are used to perform some mutations or tasks on object's properties\n",
    "- so,data and its mutations are stored together inside a class"
   ]
  },
  {
   "cell_type": "code",
   "execution_count": null,
   "id": "9ee56138",
   "metadata": {},
   "outputs": [],
   "source": [
    "# class is like blueprint or template in this having multiple objects"
   ]
  },
  {
   "cell_type": "code",
   "execution_count": 422,
   "id": "19e017f3",
   "metadata": {},
   "outputs": [],
   "source": [
    "class student:\n",
    "    def __init__(self):\n",
    "        self.name='bhargavi'\n",
    "        self.age=21"
   ]
  },
  {
   "cell_type": "code",
   "execution_count": 423,
   "id": "3512cdd9",
   "metadata": {},
   "outputs": [],
   "source": [
    "student1=student()  #student1 is an object of class student\n",
    "student2=student() \n",
    "student3=student()"
   ]
  },
  {
   "cell_type": "code",
   "execution_count": 424,
   "id": "1f9d9d37",
   "metadata": {},
   "outputs": [
    {
     "data": {
      "text/plain": [
       "'bhargavi'"
      ]
     },
     "execution_count": 424,
     "metadata": {},
     "output_type": "execute_result"
    }
   ],
   "source": [
    "student1.name"
   ]
  },
  {
   "cell_type": "code",
   "execution_count": 425,
   "id": "390711bf",
   "metadata": {},
   "outputs": [
    {
     "data": {
      "text/plain": [
       "21"
      ]
     },
     "execution_count": 425,
     "metadata": {},
     "output_type": "execute_result"
    }
   ],
   "source": [
    "student2.age"
   ]
  },
  {
   "cell_type": "code",
   "execution_count": 426,
   "id": "1a840872",
   "metadata": {},
   "outputs": [],
   "source": [
    "class student:\n",
    "    def __init__(self,newname,newage,newrollnumber): # initialize the template code when an object is created\n",
    "        self.name=newname\n",
    "        self.age=newage\n",
    "        self.rollnumber=newrollnumber"
   ]
  },
  {
   "cell_type": "markdown",
   "id": "a05802b6",
   "metadata": {},
   "source": [
    "in the above program,we created a class with the name `student`.then,we define attributes.the attributes are a characteristics of an object.\n",
    "\n",
    "these attributes are defined inside the `__init__`method of the class.it is the initializer method that is first run as soon as the object is created."
   ]
  },
  {
   "cell_type": "markdown",
   "id": "d8c3031f",
   "metadata": {},
   "source": [
    "- first of all self is not a keyword\n",
    "- it is a reference to an object\n",
    "- it tells the calls,which of its objects we are reffering to"
   ]
  },
  {
   "cell_type": "markdown",
   "id": "47ace229",
   "metadata": {},
   "source": [
    "- class methods must have an extra first parameter in the method definiation.we do not give a value for this parameter when we call the method,python provides it\n",
    "- if we have a method that takes no arguments,then we still have to have one argument.\n",
    "- this is similar to `this pointer` in c++ and`this reference` in java."
   ]
  },
  {
   "cell_type": "code",
   "execution_count": 427,
   "id": "bd9dfded",
   "metadata": {},
   "outputs": [],
   "source": [
    "student1=student('siri',21,406)\n",
    "student2=student('anu',22,467) \n",
    "student3=student('megh',23,401)"
   ]
  },
  {
   "cell_type": "code",
   "execution_count": 428,
   "id": "0f6207b0",
   "metadata": {},
   "outputs": [
    {
     "data": {
      "text/plain": [
       "'siri'"
      ]
     },
     "execution_count": 428,
     "metadata": {},
     "output_type": "execute_result"
    }
   ],
   "source": [
    "student1.name"
   ]
  },
  {
   "cell_type": "code",
   "execution_count": 429,
   "id": "c0d63e7f",
   "metadata": {
    "scrolled": false
   },
   "outputs": [
    {
     "data": {
      "text/plain": [
       "22"
      ]
     },
     "execution_count": 429,
     "metadata": {},
     "output_type": "execute_result"
    }
   ],
   "source": [
    "student2.age"
   ]
  },
  {
   "cell_type": "code",
   "execution_count": 430,
   "id": "cefac936",
   "metadata": {},
   "outputs": [
    {
     "data": {
      "text/plain": [
       "'megh'"
      ]
     },
     "execution_count": 430,
     "metadata": {},
     "output_type": "execute_result"
    }
   ],
   "source": [
    "student3.name"
   ]
  },
  {
   "cell_type": "code",
   "execution_count": 431,
   "id": "f9f251d2",
   "metadata": {},
   "outputs": [
    {
     "data": {
      "text/plain": [
       "406"
      ]
     },
     "execution_count": 431,
     "metadata": {},
     "output_type": "execute_result"
    }
   ],
   "source": [
    "student1.rollnumber"
   ]
  },
  {
   "cell_type": "code",
   "execution_count": 432,
   "id": "abd9ffe0",
   "metadata": {},
   "outputs": [
    {
     "name": "stdout",
     "output_type": "stream",
     "text": [
      "<__main__.student object at 0x0000023D7C4E80A0>\n"
     ]
    }
   ],
   "source": [
    " print(student1)                       "
   ]
  },
  {
   "cell_type": "code",
   "execution_count": 435,
   "id": "9f27141f",
   "metadata": {},
   "outputs": [],
   "source": [
    "class student:\n",
    "    def __init__(self,newname,newage,newrollnumber): # initialize the template code when an object is created\n",
    "        self.name=newname\n",
    "        self.age=newage\n",
    "        self.rollnumber=newrollnumber\n",
    "    def __str__(self):\n",
    "        return f'{self.name},{self.age},{self.rollnumber}' #formatting of the text"
   ]
  },
  {
   "cell_type": "code",
   "execution_count": 440,
   "id": "9b620550",
   "metadata": {},
   "outputs": [],
   "source": [
    "student1=student('siri',21,406)\n",
    "student2=student('anu',22,467) \n",
    "student3=student('megh',23,401)"
   ]
  },
  {
   "cell_type": "code",
   "execution_count": 437,
   "id": "1dd3366d",
   "metadata": {},
   "outputs": [
    {
     "name": "stdout",
     "output_type": "stream",
     "text": [
      "siri,21,406\n"
     ]
    }
   ],
   "source": [
    "print(student1)"
   ]
  },
  {
   "cell_type": "code",
   "execution_count": 438,
   "id": "34286709",
   "metadata": {},
   "outputs": [
    {
     "data": {
      "text/plain": [
       "'python,5'"
      ]
     },
     "execution_count": 438,
     "metadata": {},
     "output_type": "execute_result"
    }
   ],
   "source": [
    "'{0},{1}'.format('python',5)"
   ]
  },
  {
   "cell_type": "code",
   "execution_count": 439,
   "id": "be157b08",
   "metadata": {},
   "outputs": [],
   "source": [
    "class student:\n",
    "    def __init__(self,newname,newage,newrollnumber): # initialize the template code when an object is created\n",
    "        self.name=newname\n",
    "        self.age=newage\n",
    "        self.rollnumber=newrollnumber\n",
    "    def __str__(self):\n",
    "        return f'students name is {self.name},age is{self.age},and roll number is{self.rollnumber}'"
   ]
  },
  {
   "cell_type": "code",
   "execution_count": 441,
   "id": "29ba0da3",
   "metadata": {},
   "outputs": [
    {
     "name": "stdout",
     "output_type": "stream",
     "text": [
      "students name is anu,age is22,and roll number is467\n"
     ]
    }
   ],
   "source": [
    "print(student2)"
   ]
  },
  {
   "cell_type": "code",
   "execution_count": 442,
   "id": "edecaff4",
   "metadata": {},
   "outputs": [],
   "source": [
    "class student:\n",
    "    def __init__(self,newname,newage,newrollnumber=105): # when default arguments are only having in ending not middle\n",
    "        self.name=newname\n",
    "        self.age=newage\n",
    "        self.rollnumber=newrollnumber\n",
    "    def __str__(self):\n",
    "        return f'students name is {self.name},age is{self.age},and roll number is{self.rollnumber}'"
   ]
  },
  {
   "cell_type": "code",
   "execution_count": 444,
   "id": "a4469ab0",
   "metadata": {},
   "outputs": [
    {
     "data": {
      "text/plain": [
       "105"
      ]
     },
     "execution_count": 444,
     "metadata": {},
     "output_type": "execute_result"
    }
   ],
   "source": [
    "student1=student('siri',21)\n",
    "student1.rollnumber"
   ]
  },
  {
   "cell_type": "code",
   "execution_count": 445,
   "id": "fc588f85",
   "metadata": {},
   "outputs": [
    {
     "data": {
      "text/plain": [
       "406"
      ]
     },
     "execution_count": 445,
     "metadata": {},
     "output_type": "execute_result"
    }
   ],
   "source": [
    "student1=student('siri',21,406) #priority is this but not given that time it can choose 105\n",
    "student1.rollnumber"
   ]
  },
  {
   "cell_type": "code",
   "execution_count": 453,
   "id": "e62df9fe",
   "metadata": {},
   "outputs": [],
   "source": [
    "class student:\n",
    "    \n",
    "    \n",
    "    def __init__(self,newname,newage): \n",
    "        counter=0\n",
    "        counter +=1\n",
    "        self.name=newname\n",
    "        self.age=newage\n",
    "        self.rollnumber=counter\n",
    "    def __str__(self):\n",
    "        return f'students name is {self.name},age is{self.age},and roll number is{self.rollnumber}'"
   ]
  },
  {
   "cell_type": "code",
   "execution_count": 37,
   "id": "62e63456",
   "metadata": {},
   "outputs": [],
   "source": [
    "student1=student('siri',21)\n",
    "student2=student('anu',22) "
   ]
  },
  {
   "cell_type": "code",
   "execution_count": 455,
   "id": "117f3d11",
   "metadata": {},
   "outputs": [
    {
     "data": {
      "text/plain": [
       "1"
      ]
     },
     "execution_count": 455,
     "metadata": {},
     "output_type": "execute_result"
    }
   ],
   "source": [
    "student1.rollnumber"
   ]
  },
  {
   "cell_type": "code",
   "execution_count": 456,
   "id": "ef3cb06a",
   "metadata": {},
   "outputs": [
    {
     "data": {
      "text/plain": [
       "1"
      ]
     },
     "execution_count": 456,
     "metadata": {},
     "output_type": "execute_result"
    }
   ],
   "source": [
    "student2.rollnumber"
   ]
  },
  {
   "cell_type": "code",
   "execution_count": 2,
   "id": "15493b36",
   "metadata": {},
   "outputs": [],
   "source": [
    "class student:\n",
    "    counter=0 # class attribute or class variable\n",
    "    \n",
    "    def __init__(self,newname,newage): \n",
    "        counter=0\n",
    "        student.counter +=1\n",
    "        self.name=newname\n",
    "        self.age=newage\n",
    "        self.rollnumber=student.counter\n",
    "    def __str__(self):\n",
    "        return f'students name is {self.name},age is{self.age},and roll number is{self.rollnumber}'"
   ]
  },
  {
   "cell_type": "code",
   "execution_count": 3,
   "id": "6d1d8b4a",
   "metadata": {},
   "outputs": [],
   "source": [
    "student3=student('megh',23)"
   ]
  },
  {
   "cell_type": "code",
   "execution_count": 4,
   "id": "f1596a37",
   "metadata": {},
   "outputs": [
    {
     "data": {
      "text/plain": [
       "1"
      ]
     },
     "execution_count": 4,
     "metadata": {},
     "output_type": "execute_result"
    }
   ],
   "source": [
    "student3.rollnumber"
   ]
  },
  {
   "cell_type": "code",
   "execution_count": 5,
   "id": "ffeb454a",
   "metadata": {},
   "outputs": [],
   "source": [
    "student4=student('niks',24)"
   ]
  },
  {
   "cell_type": "code",
   "execution_count": 7,
   "id": "2b51d7cb",
   "metadata": {},
   "outputs": [
    {
     "data": {
      "text/plain": [
       "2"
      ]
     },
     "execution_count": 7,
     "metadata": {},
     "output_type": "execute_result"
    }
   ],
   "source": [
    "student4.rollnumber"
   ]
  },
  {
   "cell_type": "code",
   "execution_count": 20,
   "id": "a00d4911",
   "metadata": {},
   "outputs": [],
   "source": [
    "class student:\n",
    "    counter=100  # class attribute or class variable\n",
    "    \n",
    "    def __init__(self,newname,newage): \n",
    "        counter=0\n",
    "        student.counter +=1\n",
    "        self.name=newname\n",
    "        self.age=newage\n",
    "        self.rollnumber=student.counter\n",
    "    def __str__(self):\n",
    "        return f'students name is {self.name},age is{self.age},and roll number is{self.rollnumber}'"
   ]
  },
  {
   "cell_type": "code",
   "execution_count": 21,
   "id": "a6a5e8c0",
   "metadata": {},
   "outputs": [
    {
     "data": {
      "text/plain": [
       "101"
      ]
     },
     "execution_count": 21,
     "metadata": {},
     "output_type": "execute_result"
    }
   ],
   "source": [
    "student1.rollnumber"
   ]
  },
  {
   "cell_type": "code",
   "execution_count": 22,
   "id": "d4b0337e",
   "metadata": {},
   "outputs": [
    {
     "data": {
      "text/plain": [
       "102"
      ]
     },
     "execution_count": 22,
     "metadata": {},
     "output_type": "execute_result"
    }
   ],
   "source": [
    "student2.rollnumber"
   ]
  },
  {
   "cell_type": "markdown",
   "id": "1a1ccad9",
   "metadata": {},
   "source": [
    "### adding more behaviours to the class\n",
    "- we can add more **behaviours/functions** to our blueprint class\n",
    "- these are called **custom methods**\n",
    "- thesee are not special functions like dunders **init** or **str**\n",
    "- these are **something that we create** to perform certain tasks"
   ]
  },
  {
   "cell_type": "code",
   "execution_count": 27,
   "id": "144a10bb",
   "metadata": {},
   "outputs": [],
   "source": [
    "class student:\n",
    "    counter=0 # class attribute or class variable\n",
    "    \n",
    "    def __init__(self,newname,newage): \n",
    "        counter=0\n",
    "        student.counter +=1\n",
    "        self.name=newname\n",
    "        self.age=newage\n",
    "        self.rollnumber=student.counter\n",
    "        \n",
    "    def intro(self):       # custom method\n",
    "        return f\"hello! the student's name is {self.name}\"\n",
    "        \n",
    "    def __str__(self):\n",
    "        return f'students name is {self.name},age is{self.age},and roll number is{self.rollnumber}'"
   ]
  },
  {
   "cell_type": "code",
   "execution_count": 28,
   "id": "99f9dd0a",
   "metadata": {},
   "outputs": [
    {
     "data": {
      "text/plain": [
       "\"hello! the student's name is siri\""
      ]
     },
     "execution_count": 28,
     "metadata": {},
     "output_type": "execute_result"
    }
   ],
   "source": [
    "student1.intro()"
   ]
  },
  {
   "cell_type": "code",
   "execution_count": 29,
   "id": "bd8cc4bc",
   "metadata": {},
   "outputs": [
    {
     "data": {
      "text/plain": [
       "\"hello! the student's name is anu\""
      ]
     },
     "execution_count": 29,
     "metadata": {},
     "output_type": "execute_result"
    }
   ],
   "source": [
    "student2.intro()"
   ]
  },
  {
   "cell_type": "code",
   "execution_count": 41,
   "id": "7e344896",
   "metadata": {},
   "outputs": [],
   "source": [
    "student1 = student('srihari',22,\"reading books\")\n",
    "student2 = student('meghana',23,\"drawing\")"
   ]
  },
  {
   "cell_type": "code",
   "execution_count": 40,
   "id": "da7576be",
   "metadata": {},
   "outputs": [],
   "source": [
    "class student:\n",
    "    counter=0 # class attribute or class variable\n",
    "    \n",
    "    def __init__(self,newname,newage,newhobbies): \n",
    "        counter=0\n",
    "        student.counter +=1\n",
    "        self.name=newname\n",
    "        self.age=newage\n",
    "        self.rollnumber=student.counter\n",
    "        self.hobbies=newhobbies\n",
    "        \n",
    "    def hobbies(self):\n",
    "        return f\" the student's hobbies is {self.hobbies}\"\n",
    "        \n",
    "        \n",
    "    def __str__(self):\n",
    "        return f'students name is {self.name},age is{self.age},and hobbies is{self.hobbies}'"
   ]
  },
  {
   "cell_type": "code",
   "execution_count": 42,
   "id": "dac8fcd5",
   "metadata": {},
   "outputs": [
    {
     "data": {
      "text/plain": [
       "'reading books'"
      ]
     },
     "execution_count": 42,
     "metadata": {},
     "output_type": "execute_result"
    }
   ],
   "source": [
    "student1.hobbies"
   ]
  },
  {
   "cell_type": "markdown",
   "id": "c4b1d59a",
   "metadata": {},
   "source": [
    "**everything in python is an object**"
   ]
  },
  {
   "cell_type": "code",
   "execution_count": 47,
   "id": "e09c7215",
   "metadata": {},
   "outputs": [
    {
     "name": "stdout",
     "output_type": "stream",
     "text": [
      "<class 'int'>\n"
     ]
    }
   ],
   "source": [
    "num=10\n",
    "print(type(num))"
   ]
  },
  {
   "cell_type": "code",
   "execution_count": 43,
   "id": "b47341f8",
   "metadata": {},
   "outputs": [],
   "source": [
    "string1=\"python programming\""
   ]
  },
  {
   "cell_type": "code",
   "execution_count": 44,
   "id": "ab46c899",
   "metadata": {},
   "outputs": [
    {
     "data": {
      "text/plain": [
       "'Python programming'"
      ]
     },
     "execution_count": 44,
     "metadata": {},
     "output_type": "execute_result"
    }
   ],
   "source": [
    "string1.capitalize()"
   ]
  },
  {
   "cell_type": "code",
   "execution_count": 45,
   "id": "2a430104",
   "metadata": {},
   "outputs": [
    {
     "data": {
      "text/plain": [
       "'PYTHON PROGRAMMING'"
      ]
     },
     "execution_count": 45,
     "metadata": {},
     "output_type": "execute_result"
    }
   ],
   "source": [
    "string1.upper()"
   ]
  },
  {
   "cell_type": "markdown",
   "id": "c3432ebc",
   "metadata": {},
   "source": [
    "#### this is a huge benifit of OOP paradigm\n",
    "- we just need to write the blueprint code once\n",
    "- we can use that code as many times as we want \n",
    "- all objects created using that blueprint will follow those properties\n",
    "\n",
    "we can also pass default values of parameters inside__int__ to avoid that error"
   ]
  },
  {
   "cell_type": "markdown",
   "id": "bb29fad3",
   "metadata": {},
   "source": [
    "### let's see one more use case\n",
    "- create a class called account,which refers to a bank account\n",
    "- create attributes that will be uniquer for each instance of account\n",
    "\n",
    "1.`id`---> this has to be incremented and assigned automatically\n",
    "\n",
    "2.`bal`----> this will give balance amount for each account\n",
    "\n",
    "    - bal needs to be assigned a value as soon as an account is created\n",
    "    - as soon as account is created,it should have some opening balance\n",
    "\n",
    "- create 2 instances of accounts.a1 and a2\n",
    "     - a1 should have id=1 and bal=100\n",
    "     - a2 should have id=next id and bal=0\n",
    "- create a string representation for each account\n",
    "     - when we print an account,like print(a1)\n",
    "     - it should print out:\n",
    "- account{id} has rs.{balance}."
   ]
  },
  {
   "cell_type": "code",
   "execution_count": 86,
   "id": "45eabf74",
   "metadata": {},
   "outputs": [],
   "source": [
    "class account: # in this account created automatically\n",
    "    counter=100\n",
    "    \n",
    "    def __init__(self,balance=0):\n",
    "        account.counter += 1\n",
    "        self.id=account.counter\n",
    "        self.bal=balance\n",
    "        "
   ]
  },
  {
   "cell_type": "code",
   "execution_count": 87,
   "id": "00d67b7e",
   "metadata": {},
   "outputs": [],
   "source": [
    "account1=account(100)"
   ]
  },
  {
   "cell_type": "code",
   "execution_count": 90,
   "id": "3703ba11",
   "metadata": {},
   "outputs": [
    {
     "data": {
      "text/plain": [
       "101"
      ]
     },
     "execution_count": 90,
     "metadata": {},
     "output_type": "execute_result"
    }
   ],
   "source": [
    "account1.id"
   ]
  },
  {
   "cell_type": "code",
   "execution_count": 91,
   "id": "fea6885d",
   "metadata": {},
   "outputs": [
    {
     "data": {
      "text/plain": [
       "100"
      ]
     },
     "execution_count": 91,
     "metadata": {},
     "output_type": "execute_result"
    }
   ],
   "source": [
    "account1.bal"
   ]
  },
  {
   "cell_type": "code",
   "execution_count": 69,
   "id": "05ac9bed",
   "metadata": {},
   "outputs": [],
   "source": [
    "account2=account()"
   ]
  },
  {
   "cell_type": "code",
   "execution_count": 70,
   "id": "648970d3",
   "metadata": {
    "scrolled": true
   },
   "outputs": [
    {
     "data": {
      "text/plain": [
       "102"
      ]
     },
     "execution_count": 70,
     "metadata": {},
     "output_type": "execute_result"
    }
   ],
   "source": [
    "account2.id"
   ]
  },
  {
   "cell_type": "code",
   "execution_count": 71,
   "id": "e94ac028",
   "metadata": {},
   "outputs": [
    {
     "data": {
      "text/plain": [
       "0"
      ]
     },
     "execution_count": 71,
     "metadata": {},
     "output_type": "execute_result"
    }
   ],
   "source": [
    "account2.bal"
   ]
  },
  {
   "cell_type": "code",
   "execution_count": 94,
   "id": "caf78505",
   "metadata": {},
   "outputs": [],
   "source": [
    "class account:\n",
    "    counter=100\n",
    "    \n",
    "    def __init__(self,balance=0):\n",
    "        account.counter += 1\n",
    "        self.id=account.counter\n",
    "        self.bal=balance\n",
    "        \n",
    "    def __str__(self):\n",
    "        return f\"account {self.id} has rs.{self.bal}\""
   ]
  },
  {
   "cell_type": "code",
   "execution_count": 95,
   "id": "2121fd31",
   "metadata": {},
   "outputs": [
    {
     "name": "stdout",
     "output_type": "stream",
     "text": [
      "<__main__.account object at 0x00000167AD10E770>\n"
     ]
    }
   ],
   "source": [
    "print(account1)"
   ]
  },
  {
   "cell_type": "code",
   "execution_count": 75,
   "id": "ce180c07",
   "metadata": {},
   "outputs": [],
   "source": [
    "class account:\n",
    "    counter=100\n",
    "    \n",
    "    def __init__(self,balance=0):\n",
    "        account.counter += 1\n",
    "        self.id=account.counter\n",
    "        self.bal=balance\n",
    "        \n",
    "    def deposit(self,amount):\n",
    "             self.bal=self.bal+amount\n",
    "        \n",
    "    def __str__(self):\n",
    "        return f\"account {self.id} has rs.{self.bal}\""
   ]
  },
  {
   "cell_type": "code",
   "execution_count": 117,
   "id": "28cd73aa",
   "metadata": {},
   "outputs": [],
   "source": [
    "account1=account(100)"
   ]
  },
  {
   "cell_type": "code",
   "execution_count": 118,
   "id": "642b24f7",
   "metadata": {},
   "outputs": [],
   "source": [
    "account2=account()"
   ]
  },
  {
   "cell_type": "code",
   "execution_count": 119,
   "id": "f5ff3b96",
   "metadata": {},
   "outputs": [
    {
     "data": {
      "text/plain": [
       "100"
      ]
     },
     "execution_count": 119,
     "metadata": {},
     "output_type": "execute_result"
    }
   ],
   "source": [
    "account1.bal"
   ]
  },
  {
   "cell_type": "code",
   "execution_count": 120,
   "id": "88addc7d",
   "metadata": {},
   "outputs": [
    {
     "data": {
      "text/plain": [
       "0"
      ]
     },
     "execution_count": 120,
     "metadata": {},
     "output_type": "execute_result"
    }
   ],
   "source": [
    "account2.bal"
   ]
  },
  {
   "cell_type": "code",
   "execution_count": 121,
   "id": "940a9d4b",
   "metadata": {},
   "outputs": [],
   "source": [
    "account1.deposit(100)\n",
    "account2.deposit(50)"
   ]
  },
  {
   "cell_type": "code",
   "execution_count": 122,
   "id": "b53387e8",
   "metadata": {},
   "outputs": [
    {
     "data": {
      "text/plain": [
       "200"
      ]
     },
     "execution_count": 122,
     "metadata": {},
     "output_type": "execute_result"
    }
   ],
   "source": [
    "account1.bal"
   ]
  },
  {
   "cell_type": "code",
   "execution_count": 123,
   "id": "c480e0b5",
   "metadata": {},
   "outputs": [
    {
     "data": {
      "text/plain": [
       "50"
      ]
     },
     "execution_count": 123,
     "metadata": {},
     "output_type": "execute_result"
    }
   ],
   "source": [
    "account2.bal"
   ]
  },
  {
   "cell_type": "code",
   "execution_count": 83,
   "id": "837c8461",
   "metadata": {},
   "outputs": [],
   "source": [
    "account1.deposit(-100)"
   ]
  },
  {
   "cell_type": "code",
   "execution_count": 84,
   "id": "12f56aad",
   "metadata": {},
   "outputs": [
    {
     "data": {
      "text/plain": [
       "100"
      ]
     },
     "execution_count": 84,
     "metadata": {},
     "output_type": "execute_result"
    }
   ],
   "source": [
    "account1.bal"
   ]
  },
  {
   "cell_type": "code",
   "execution_count": 61,
   "id": "898d5231",
   "metadata": {},
   "outputs": [],
   "source": [
    "class account:\n",
    "    counter=100\n",
    "    \n",
    "    def __init__(self,balance=0):\n",
    "        account.counter += 1\n",
    "        self.id=account.counter\n",
    "        self.bal=balance\n",
    "        \n",
    "    def deposit(self,amount):\n",
    "        if amount >=0:\n",
    "            self.bal=self.bal+amount\n",
    "        \n",
    "    def __str__(self):\n",
    "        return f\"account {self.id} has rs.{self.bal}\""
   ]
  },
  {
   "cell_type": "code",
   "execution_count": 62,
   "id": "2e5e28d0",
   "metadata": {},
   "outputs": [],
   "source": [
    "account1.deposit(-100)"
   ]
  },
  {
   "cell_type": "code",
   "execution_count": 63,
   "id": "61f7686d",
   "metadata": {},
   "outputs": [
    {
     "data": {
      "text/plain": [
       "200"
      ]
     },
     "execution_count": 63,
     "metadata": {},
     "output_type": "execute_result"
    }
   ],
   "source": [
    "account1.bal"
   ]
  },
  {
   "cell_type": "code",
   "execution_count": 102,
   "id": "f157458e",
   "metadata": {},
   "outputs": [],
   "source": [
    "class account:\n",
    "    counter=100\n",
    "    \n",
    "    def __init__(self,balance=0):\n",
    "        account.counter += 1\n",
    "        self.id=account.counter\n",
    "        self.bal=balance\n",
    "        \n",
    "    def deposit(self,amount):\n",
    "        if amount >=0:\n",
    "            self.bal=self.bal+amount   # or we can use @ self.bal += amount @\n",
    "      \n",
    "    def withdraw(self,amount):\n",
    "        self.bal = self.bal - amount\n",
    "                 \n",
    "    def __str__(self):\n",
    "        return f\"account {self.id} has rs.{self.bal}\""
   ]
  },
  {
   "cell_type": "code",
   "execution_count": 98,
   "id": "9bd4bb81",
   "metadata": {},
   "outputs": [],
   "source": [
    "account1.withdraw(20)"
   ]
  },
  {
   "cell_type": "code",
   "execution_count": 99,
   "id": "1693bfec",
   "metadata": {},
   "outputs": [
    {
     "data": {
      "text/plain": [
       "180"
      ]
     },
     "execution_count": 99,
     "metadata": {},
     "output_type": "execute_result"
    }
   ],
   "source": [
    "account1.bal"
   ]
  },
  {
   "cell_type": "code",
   "execution_count": 112,
   "id": "5a4d1b16",
   "metadata": {},
   "outputs": [],
   "source": [
    "account1.withdraw(-20)"
   ]
  },
  {
   "cell_type": "code",
   "execution_count": 113,
   "id": "674de09b",
   "metadata": {},
   "outputs": [
    {
     "data": {
      "text/plain": [
       "240"
      ]
     },
     "execution_count": 113,
     "metadata": {},
     "output_type": "execute_result"
    }
   ],
   "source": [
    "account1.bal"
   ]
  },
  {
   "cell_type": "code",
   "execution_count": 114,
   "id": "b2ff8d97",
   "metadata": {},
   "outputs": [],
   "source": [
    "account1.withdraw(300)"
   ]
  },
  {
   "cell_type": "code",
   "execution_count": 115,
   "id": "66b8f3d7",
   "metadata": {},
   "outputs": [
    {
     "data": {
      "text/plain": [
       "-60"
      ]
     },
     "execution_count": 115,
     "metadata": {},
     "output_type": "execute_result"
    }
   ],
   "source": [
    "account1.bal"
   ]
  },
  {
   "cell_type": "code",
   "execution_count": 131,
   "id": "2a3dcd94",
   "metadata": {},
   "outputs": [],
   "source": [
    "class account:\n",
    "    counter=100\n",
    "    \n",
    "    def __init__(self,balance=0):\n",
    "        account.counter += 1\n",
    "        self.id=account.counter\n",
    "        self.bal=balance\n",
    "        \n",
    "    def deposit(self,amount):\n",
    "        if amount >=0:\n",
    "            self.bal=self.bal+amount\n",
    "            \n",
    "    def withdraw(self,amount):\n",
    "        if amount >0 and self.bal>=amount:\n",
    "            self.bal=self.bal-amount\n",
    "        \n",
    "    def __str__(self):\n",
    "        return f\"account {self.id} has rs.{self.bal}\""
   ]
  },
  {
   "cell_type": "code",
   "execution_count": 124,
   "id": "734434c9",
   "metadata": {},
   "outputs": [],
   "source": [
    "account1.withdraw(300)"
   ]
  },
  {
   "cell_type": "code",
   "execution_count": 125,
   "id": "ed6896d5",
   "metadata": {},
   "outputs": [
    {
     "data": {
      "text/plain": [
       "200"
      ]
     },
     "execution_count": 125,
     "metadata": {},
     "output_type": "execute_result"
    }
   ],
   "source": [
    "account1.bal"
   ]
  },
  {
   "cell_type": "code",
   "execution_count": 132,
   "id": "44c3d631",
   "metadata": {},
   "outputs": [],
   "source": [
    "account3=account(500)"
   ]
  },
  {
   "cell_type": "code",
   "execution_count": 133,
   "id": "08c7c3a4",
   "metadata": {},
   "outputs": [
    {
     "name": "stdout",
     "output_type": "stream",
     "text": [
      "account 101 has rs.0\n"
     ]
    }
   ],
   "source": [
    "account3.withdraw(500)\n",
    "print(account3)"
   ]
  },
  {
   "cell_type": "markdown",
   "id": "1871da59",
   "metadata": {},
   "source": [
    "### inheritance "
   ]
  },
  {
   "cell_type": "markdown",
   "id": "eda4b220",
   "metadata": {},
   "source": [
    "it refers to defining a new class with little or no modification to an existing class. the new class is called `derived (or child)` class and the one from which it inherits is called the `base(or parent) class`."
   ]
  },
  {
   "cell_type": "code",
   "execution_count": null,
   "id": "b587f6d6",
   "metadata": {},
   "outputs": [],
   "source": [
    " # all the software devolop that time it can be used to oops concept"
   ]
  },
  {
   "cell_type": "code",
   "execution_count": null,
   "id": "8f106e7a",
   "metadata": {},
   "outputs": [],
   "source": [
    "inheritance---->class account\n",
    "these 2 types 1.saving accounts 2.current account\n",
    "the both account are used to modify the details thats why used is this inheritance concept"
   ]
  },
  {
   "cell_type": "code",
   "execution_count": 13,
   "id": "0f7374cc",
   "metadata": {},
   "outputs": [
    {
     "name": "stdout",
     "output_type": "stream",
     "text": [
      "vinay False\n"
     ]
    },
    {
     "ename": "AttributeError",
     "evalue": "'Employee' object has no attribute 'getName'",
     "output_type": "error",
     "traceback": [
      "\u001b[1;31m---------------------------------------------------------------------------\u001b[0m",
      "\u001b[1;31mAttributeError\u001b[0m                            Traceback (most recent call last)",
      "Cell \u001b[1;32mIn[13], line 27\u001b[0m\n\u001b[0;32m     24\u001b[0m \u001b[38;5;28mprint\u001b[39m(emp\u001b[38;5;241m.\u001b[39mgetname(),emp\u001b[38;5;241m.\u001b[39misEmployee())\n\u001b[0;32m     26\u001b[0m emp_new \u001b[38;5;241m=\u001b[39m Employee(\u001b[38;5;124m'\u001b[39m\u001b[38;5;124mrajinikant\u001b[39m\u001b[38;5;124m'\u001b[39m)\u001b[38;5;66;03m# an object of employee\u001b[39;00m\n\u001b[1;32m---> 27\u001b[0m \u001b[38;5;28mprint\u001b[39m(\u001b[43memp_new\u001b[49m\u001b[38;5;241;43m.\u001b[39;49m\u001b[43mgetName\u001b[49m(),emp_new\u001b[38;5;241m.\u001b[39misEmployee())\n",
      "\u001b[1;31mAttributeError\u001b[0m: 'Employee' object has no attribute 'getName'"
     ]
    }
   ],
   "source": [
    "class Person:\n",
    "    \n",
    "    # constructor\n",
    "    def __init__(self,name):\n",
    "        self.name=name\n",
    "        \n",
    "    # to get name\n",
    "    def getname(self):\n",
    "        return self.name\n",
    "    \n",
    "    #to check if this person is an employee\n",
    "    def isEmployee(self):\n",
    "        return False\n",
    "        \n",
    "    \n",
    "##inherited or subclass (note person in bracket)\n",
    "class Employee(Person):\n",
    "    \n",
    "    #here we return true\n",
    "    def isEmployee(self):\n",
    "        return True\n",
    "    \n",
    "emp=Person('vinay')#an object of person\n",
    "print(emp.getname(),emp.isEmployee())\n",
    "\n",
    "emp_new = Employee('rajinikant')# an object of employee\n",
    "print(emp_new.getName(),emp_new.isEmployee())\n",
    "    \n",
    "    "
   ]
  },
  {
   "cell_type": "markdown",
   "id": "eae64317",
   "metadata": {},
   "source": [
    "### Let's continue with the banking application example now\n",
    "- lets i want to create different kinds of accounts\n",
    "- savings and current account"
   ]
  },
  {
   "cell_type": "markdown",
   "id": "31e19e7f",
   "metadata": {},
   "source": [
    "### question:what is the difference between current and savings account?\n",
    "- savings-say,we limit on the number of transactions<100\n",
    "- current-can be any number of transactions\n",
    "#### this is a small difference"
   ]
  },
  {
   "cell_type": "markdown",
   "id": "e00d6474",
   "metadata": {},
   "source": [
    "**does it makes sense for me to write two entire seperate classes for such a small change?**\n",
    "- you will be duplicating a lot of code\n",
    "- you will have two copies\n",
    "- if you want to make any changes,you will have to make changes to both-difficult to maintain"
   ]
  },
  {
   "cell_type": "code",
   "execution_count": 30,
   "id": "a85bffbb",
   "metadata": {},
   "outputs": [],
   "source": [
    "class account:\n",
    "    counter=0\n",
    "    def __init__(self,openingbal=0):\n",
    "        account.counter +=1\n",
    "        self.id=account.counter\n",
    "        self.bal=openingbal\n",
    "        \n",
    "    def deposit(self,amount):\n",
    "        if amount>=0:\n",
    "            self.bal+=amount\n",
    "            \n",
    "    def withdraw(self,amount):\n",
    "        if amount>=0 and self.bal>=amount:\n",
    "            self.bal-=amount\n",
    "            \n",
    "    def __str__(self):\n",
    "        return f'acc {self.id} has {self.bal}'\n",
    "\n",
    "class savingsaccount(account):\n",
    "    pass\n",
    "\n",
    "class currentaccount(account):\n",
    "    pass\n",
    "\n",
    "sal=savingsaccount()\n",
    "cal=currentaccount()       "
   ]
  },
  {
   "cell_type": "markdown",
   "id": "667babf9",
   "metadata": {},
   "source": [
    "#### what should happen everytime we a deposit or withdraw?\n",
    "- numTrans should increase\n",
    "#### question:but where do we put the changes related to limit?\n",
    "maybe copy of withdraw and deposite method in savingaccount\n",
    "\n",
    "but that will start `duplicating the code - lets minimize that`"
   ]
  },
  {
   "cell_type": "code",
   "execution_count": 35,
   "id": "f974b175",
   "metadata": {},
   "outputs": [],
   "source": [
    "class Account:\n",
    "    counter=0\n",
    "    def __init__(self,openingBal=0):\n",
    "        Account.counter += 1\n",
    "        self.id=Account.counter\n",
    "        self.bal=openingBal\n",
    "        self.numTrans=0\n",
    "        self.maxTrans=2 #new\n",
    "        \n",
    "    def deposit(self,amount):\n",
    "        #do you understand why <and not <=?\n",
    "        if amount >=0 and self.numTrans < self.maxTrans: #new\n",
    "            self.bal += amount\n",
    "            self.numTrans += 1 #new\n",
    "            \n",
    "    def withdraw(self,amount):\n",
    "        if amount >=0 and self.bal >= amount and self.numTrans < self.maxTrans: #new\n",
    "            self.bal -= amount\n",
    "            self.numTrans += 1 #new\n",
    "            \n",
    "    def __str__(self):\n",
    "        return f\"Acc{self.id} has {self.bal}\"\n",
    "    \n",
    "class SavingsAccount(Account):\n",
    "    pass\n",
    "\n",
    "class CurrentAccount(Account):\n",
    "    pass"
   ]
  },
  {
   "cell_type": "code",
   "execution_count": 36,
   "id": "41335f32",
   "metadata": {},
   "outputs": [
    {
     "name": "stdout",
     "output_type": "stream",
     "text": [
      "acc 1 has 0\n",
      "acc 1 has 0\n",
      "acc 1 has 0\n",
      "acc 1 has 0\n"
     ]
    }
   ],
   "source": [
    "sa1=SavingsAccount()\n",
    "ca1=CurrentAccount()\n",
    "\n",
    "print(sal)\n",
    "sa1.deposit(100)\n",
    "print(sal)\n",
    "sa1.deposit(100)\n",
    "print(sal)\n",
    "sa1.deposit(100)\n",
    "print(sal)"
   ]
  },
  {
   "cell_type": "markdown",
   "id": "d3726dcd",
   "metadata": {},
   "source": [
    "but what is the problem here?\n",
    "- we are making changes in parent class code\n",
    "- due to this,both savings account and current account are getting affected"
   ]
  },
  {
   "cell_type": "code",
   "execution_count": 37,
   "id": "cb385106",
   "metadata": {},
   "outputs": [
    {
     "name": "stdout",
     "output_type": "stream",
     "text": [
      "acc 2 has 0\n",
      "acc 2 has 0\n",
      "acc 2 has 100\n"
     ]
    }
   ],
   "source": [
    "ca1.deposit(100)\n",
    "print(cal)\n",
    "ca1.deposit(100)\n",
    "print(cal)\n",
    "cal.deposit(100)\n",
    "print(cal)"
   ]
  },
  {
   "cell_type": "markdown",
   "id": "499edb89",
   "metadata": {},
   "source": [
    "how do we resolve this issue?\n",
    "\n",
    "how do we ensure that different maxTrans limits get applied to savingsaccount and currentaccount?\n",
    "\n",
    "- lets say maxTrans =2 for savingsaccount and 5 for currentaccount\n",
    "- just update the value of maxTrans from 2 to 5 for currentaccount\n",
    "this will fix the issue"
   ]
  },
  {
   "cell_type": "code",
   "execution_count": 38,
   "id": "53084114",
   "metadata": {},
   "outputs": [],
   "source": [
    "class Account:\n",
    "    counter=0\n",
    "    def __init__(self,openingBal=0):\n",
    "        Account.counter += 1\n",
    "        self.id=Account.counter\n",
    "        self.bal=openingBal\n",
    "        self.numTrans=0\n",
    "        self.maxTrans=2 #new\n",
    "        \n",
    "    def deposit(self,amount):\n",
    "        #do you understand why <and not <=?\n",
    "        if amount >=0 and self.numTrans < self.maxTrans: #new\n",
    "            self.bal += amount\n",
    "            self.numTrans += 1 #new\n",
    "            \n",
    "    def withdraw(self,amount):\n",
    "        if amount >=0 and self.bal >= amount and self.numTrans < self.maxTrans: #new\n",
    "            self.bal -= amount\n",
    "            self.numTrans += 1 #new\n",
    "            \n",
    "    def __str__(self):\n",
    "        return f\"Acc{self.id} has {self.bal}\"\n",
    "    \n",
    "class SavingsAccount(Account):\n",
    "    pass\n",
    "\n",
    "# maxtrans is being updated here just for currentaccount\n",
    "class CurrentAccount(Account):\n",
    "    def __init__(self):\n",
    "        self.maxTrans =10 #new"
   ]
  },
  {
   "cell_type": "markdown",
   "id": "081248fe",
   "metadata": {},
   "source": [
    "now why did we receive this error and how to fix this error?\n",
    "\n",
    "- we have to define`__init__` for the currentaccount class also and inside that we will mention."
   ]
  },
  {
   "cell_type": "code",
   "execution_count": 39,
   "id": "8413e8cb",
   "metadata": {},
   "outputs": [],
   "source": [
    "class Account:\n",
    "    counter=0\n",
    "    def __init__(self,openingBal=0):\n",
    "        Account.counter += 1\n",
    "        self.id=Account.counter\n",
    "        self.bal=openingBal\n",
    "        self.numTrans=0\n",
    "        self.maxTrans=2  #new\n",
    "        \n",
    "    def deposit(self,amount):\n",
    "        #do you understand why <and not <=?\n",
    "        if amount >=0 and self.numTrans < self.maxTrans: #new\n",
    "            self.bal += amount\n",
    "            self.numTrans += 1  #new\n",
    "            \n",
    "    def withdraw(self,amount):\n",
    "        if amount >=0 and self.bal >= amount and self.numTrans < self.maxTrans: #new\n",
    "            self.bal -= amount\n",
    "            self.numTrans += 1  #new\n",
    "            \n",
    "    def __str__(self):\n",
    "        return f\"Acc{self.id} has {self.bal}\"\n",
    "    \n",
    "class SavingsAccount(Account):\n",
    "    pass\n",
    "\n",
    "# maxtrans is being updated here just for currentaccount\n",
    "class CurrentAccount(Account):\n",
    "    def __init__(self):\n",
    "        self.maxTrans =10 #new    "
   ]
  },
  {
   "cell_type": "code",
   "execution_count": 40,
   "id": "0ef39e88",
   "metadata": {},
   "outputs": [
    {
     "name": "stdout",
     "output_type": "stream",
     "text": [
      "Acc1 has 0\n",
      "Acc1 has 100\n"
     ]
    },
    {
     "ename": "AttributeError",
     "evalue": "'CurrentAccount' object has no attribute 'id'",
     "output_type": "error",
     "traceback": [
      "\u001b[1;31m---------------------------------------------------------------------------\u001b[0m",
      "\u001b[1;31mAttributeError\u001b[0m                            Traceback (most recent call last)",
      "Cell \u001b[1;32mIn[40], line 8\u001b[0m\n\u001b[0;32m      5\u001b[0m sa1\u001b[38;5;241m.\u001b[39mdeposit(\u001b[38;5;241m100\u001b[39m)\n\u001b[0;32m      6\u001b[0m \u001b[38;5;28mprint\u001b[39m(sa1)\n\u001b[1;32m----> 8\u001b[0m \u001b[38;5;28;43mprint\u001b[39;49m\u001b[43m(\u001b[49m\u001b[43mca1\u001b[49m\u001b[43m)\u001b[49m\n\u001b[0;32m      9\u001b[0m ca1\u001b[38;5;241m.\u001b[39mdeposit(\u001b[38;5;241m100\u001b[39m)\n\u001b[0;32m     10\u001b[0m \u001b[38;5;28mprint\u001b[39m(ca1)\n",
      "Cell \u001b[1;32mIn[39], line 22\u001b[0m, in \u001b[0;36mAccount.__str__\u001b[1;34m(self)\u001b[0m\n\u001b[0;32m     21\u001b[0m \u001b[38;5;28;01mdef\u001b[39;00m \u001b[38;5;21m__str__\u001b[39m(\u001b[38;5;28mself\u001b[39m):\n\u001b[1;32m---> 22\u001b[0m     \u001b[38;5;28;01mreturn\u001b[39;00m \u001b[38;5;124mf\u001b[39m\u001b[38;5;124m\"\u001b[39m\u001b[38;5;124mAcc\u001b[39m\u001b[38;5;132;01m{\u001b[39;00m\u001b[38;5;28mself\u001b[39m\u001b[38;5;241m.\u001b[39mid\u001b[38;5;132;01m}\u001b[39;00m\u001b[38;5;124m has \u001b[39m\u001b[38;5;132;01m{\u001b[39;00m\u001b[38;5;28mself\u001b[39m\u001b[38;5;241m.\u001b[39mbal\u001b[38;5;132;01m}\u001b[39;00m\u001b[38;5;124m\"\u001b[39m\n",
      "\u001b[1;31mAttributeError\u001b[0m: 'CurrentAccount' object has no attribute 'id'"
     ]
    }
   ],
   "source": [
    "sa1=SavingsAccount()\n",
    "ca1=CurrentAccount()\n",
    "\n",
    "print(sa1)\n",
    "sa1.deposit(100)\n",
    "print(sa1)\n",
    "\n",
    "print(ca1)\n",
    "ca1.deposit(100)\n",
    "print(ca1)"
   ]
  },
  {
   "cell_type": "code",
   "execution_count": 89,
   "id": "41c1305f",
   "metadata": {},
   "outputs": [
    {
     "ename": "SyntaxError",
     "evalue": "invalid syntax (1612779157.py, line 12)",
     "output_type": "error",
     "traceback": [
      "\u001b[1;36m  Cell \u001b[1;32mIn[89], line 12\u001b[1;36m\u001b[0m\n\u001b[1;33m    if amount >=0 and :\u001b[0m\n\u001b[1;37m                      ^\u001b[0m\n\u001b[1;31mSyntaxError\u001b[0m\u001b[1;31m:\u001b[0m invalid syntax\n"
     ]
    }
   ],
   "source": [
    "class Account:\n",
    "    counter=100\n",
    "    \n",
    "    def __init__(self,balance=0):\n",
    "        Account.counter += 1\n",
    "        self.id=Account.counter\n",
    "        self.bal=balance\n",
    "        self.numtrans=0\n",
    "        self.maxtrans=5  # only 5 transactions are done after words it can,t work the account\n",
    "        \n",
    "    def deposit(self,amount):\n",
    "        if amount >=0 and :\n",
    "            self.bal=self.bal+amount\n",
    "            \n",
    "    def withdraw(self,amount):\n",
    "        if amount >0 and self.bal>=amount:\n",
    "            self.bal=self.bal-amount\n",
    "        \n",
    "    def __str__(self):\n",
    "        return f\"Account {self.id} has rs.{self.bal}\"\n",
    "    \n",
    "class SavingsAccount(Account):  ## account is the name of parent class\n",
    "    pass\n",
    "\n",
    "class CurrentAccount(Account):  #and these currentaccount and savings account clases are child classes\n",
    "    def __init__(self):\n",
    "        super(). __init__() \n",
    "        self.id =104\n",
    "    self.maxtrans=20  \n",
    "            \n",
    "            \n",
    "            \n",
    "            \n",
    "###replacing parent innit-----with child ---init----\n",
    "###extending parent init---along with child---init---"
   ]
  },
  {
   "cell_type": "code",
   "execution_count": 84,
   "id": "6c53f178",
   "metadata": {},
   "outputs": [],
   "source": [
    "sa1=SavingsAccount()\n",
    "ca1=CurrentAccount()"
   ]
  },
  {
   "cell_type": "code",
   "execution_count": 73,
   "id": "bc0ad0d4",
   "metadata": {},
   "outputs": [
    {
     "name": "stdout",
     "output_type": "stream",
     "text": [
      "Account 101 has rs.0\n"
     ]
    }
   ],
   "source": [
    "print(sa1)"
   ]
  },
  {
   "cell_type": "code",
   "execution_count": 74,
   "id": "ce16d92e",
   "metadata": {},
   "outputs": [
    {
     "name": "stdout",
     "output_type": "stream",
     "text": [
      "Account 104 has rs.0\n"
     ]
    }
   ],
   "source": [
    "print(ca1) # if use the in class current account add the self.id=104"
   ]
  },
  {
   "cell_type": "code",
   "execution_count": 85,
   "id": "a899b4cb",
   "metadata": {},
   "outputs": [],
   "source": [
    "sa1.deposit(100)\n",
    "sa1.deposit(100)\n",
    "sa1.deposit(100)\n",
    "sa1.deposit(100)\n",
    "sa1.deposit(100) # 5 times used savings account"
   ]
  },
  {
   "cell_type": "code",
   "execution_count": 86,
   "id": "59dc1f00",
   "metadata": {},
   "outputs": [
    {
     "name": "stdout",
     "output_type": "stream",
     "text": [
      "Account 101 has rs.500\n"
     ]
    }
   ],
   "source": [
    "print(sa1)"
   ]
  },
  {
   "cell_type": "code",
   "execution_count": 87,
   "id": "67ea4103",
   "metadata": {},
   "outputs": [],
   "source": [
    "ca1.deposit(100) # these are used 20 times"
   ]
  },
  {
   "cell_type": "code",
   "execution_count": 88,
   "id": "cfa6eb9a",
   "metadata": {},
   "outputs": [
    {
     "name": "stdout",
     "output_type": "stream",
     "text": [
      "Account 102 has rs.100\n"
     ]
    }
   ],
   "source": [
    "print(ca1)"
   ]
  },
  {
   "cell_type": "code",
   "execution_count": 83,
   "id": "7d6b598f",
   "metadata": {},
   "outputs": [],
   "source": [
    "class Account:\n",
    "    counter=100\n",
    "    \n",
    "    def __init__(self,balance=0):\n",
    "        Account.counter += 1\n",
    "        self.id=Account.counter\n",
    "        self.bal=balance\n",
    "        self.numtrans=0\n",
    "        self.maxtrans=5  \n",
    "        \n",
    "    def deposit(self,amount):\n",
    "        if amount >=0 and self.numtrans < self.maxtrans:\n",
    "            self.bal+=amount\n",
    "            self.numtrans +=1\n",
    "            \n",
    "    def withdraw(self,amount):\n",
    "        if amount >0 and self.bal>=amount and self.numtrans <self.maxtrans:\n",
    "            self.bal=self.bal-amount\n",
    "            self.numtrans +=1\n",
    "        \n",
    "    def __str__(self):\n",
    "        return f\"Account {self.id} has rs.{self.bal}\"\n",
    "    \n",
    "class SavingsAccount(Account):  \n",
    "    pass\n",
    "\n",
    "class CurrentAccount(Account):  \n",
    "    def __init__(self):\n",
    "        super(). __init__() \n",
    "        self.maxtrans=20 "
   ]
  },
  {
   "cell_type": "code",
   "execution_count": 90,
   "id": "d14b238b",
   "metadata": {},
   "outputs": [
    {
     "name": "stdout",
     "output_type": "stream",
     "text": [
      "Account 101 has rs.500\n"
     ]
    }
   ],
   "source": [
    "print(sa1)"
   ]
  },
  {
   "cell_type": "code",
   "execution_count": 91,
   "id": "9c49da8e",
   "metadata": {},
   "outputs": [
    {
     "name": "stdout",
     "output_type": "stream",
     "text": [
      "Account 102 has rs.100\n"
     ]
    }
   ],
   "source": [
    "print(ca1)"
   ]
  },
  {
   "cell_type": "markdown",
   "id": "3c136217",
   "metadata": {},
   "source": [
    "### polymorphism\n",
    "- polymorphism means having many forms\n",
    "- it's the ability of an object to be displayed in more than one form"
   ]
  },
  {
   "cell_type": "code",
   "execution_count": null,
   "id": "d7f7a25a",
   "metadata": {},
   "outputs": [],
   "source": [
    "# method have multiple forms is called polymorphism"
   ]
  },
  {
   "cell_type": "code",
   "execution_count": 106,
   "id": "9b5b73fc",
   "metadata": {},
   "outputs": [
    {
     "name": "stdout",
     "output_type": "stream",
     "text": [
      "new delhi is the capital of India.\n",
      "hindi is the most widely spoken language of India.\n",
      "USA is a developed country.\n",
      "new delhi is the capital of India.\n",
      "hindi is the most widely spoken language of India.\n",
      "USA is a developed country.\n"
     ]
    }
   ],
   "source": [
    "class India:\n",
    "    def capital(self):\n",
    "        print(\"new delhi is the capital of India.\")\n",
    "        \n",
    "    def language(self):\n",
    "        print(\"hindi is the most widely spoken language of India.\")\n",
    "        \n",
    "    def type_of(self):\n",
    "        print(\"India is a developing country.\")\n",
    "        \n",
    "class USA:\n",
    "    def capital(self):\n",
    "        print('washington,D.C. is the capital of USA.')\n",
    "    \n",
    "    def language(self):\n",
    "        print(\"english is the primary language of USA.\")\n",
    "        \n",
    "    def type_of(self):\n",
    "        print('USA is a developed country.')\n",
    "        \n",
    "ind = India()\n",
    "usa = USA()\n",
    "\n",
    "for country in (ind,usa):\n",
    "    ind.capital()\n",
    "    ind.language()\n",
    "    usa.type_of()"
   ]
  },
  {
   "cell_type": "markdown",
   "id": "b6362c9b",
   "metadata": {},
   "source": [
    "### polymorphism for banking application use case\n",
    "- suppose our application needs methods to calculate interest for each specific account\n",
    "- the interest of each account is calculated differently\n",
    "- so we can't have a single implementation."
   ]
  },
  {
   "cell_type": "markdown",
   "id": "eb877a2a",
   "metadata": {},
   "source": [
    "#### how will we implement this?\n",
    "- parent class declares a function without providing am implementation.\n",
    "- each child class inherits the function declaration and can provide its own implementation\n",
    "- let's give account class a method called getlnterest()-which is inherited by both child classes. \n",
    "- with polymorphism.each child class may have its own way of implementing the method."
   ]
  },
  {
   "cell_type": "code",
   "execution_count": 102,
   "id": "2eed38fc",
   "metadata": {},
   "outputs": [],
   "source": [
    "class account:\n",
    "    counter =0\n",
    "    \n",
    "    def __init__(self,openingbal=0):\n",
    "        account.counter +=1\n",
    "        self.id =account.counter\n",
    "        self.bal =openingbal\n",
    "        self.numtrans =0\n",
    "        self.maxtrans =2\n",
    "        \n",
    "    def deposit(self,amount):\n",
    "        if amount >=0 and self.numtrans <self.maxtrans:\n",
    "            self.bal +=amount\n",
    "            self.numtrans +=1\n",
    "            \n",
    "    def withdraw(self,amount):\n",
    "        if amount >=0 and self.bal >=amount and self.numtrans <self.maxtrans:\n",
    "            self.numtrans +=1\n",
    "            \n",
    "    def getInterest(self): #new\n",
    "        pass\n",
    "    \n",
    "    def __str__(self):\n",
    "        return f\"acc {self.id} has {self.bal}\"        #new---->self.__bal\n",
    "    \n",
    "class savingsaccount(account):\n",
    "    def __init__(self):\n",
    "        super().__init__()\n",
    "            \n",
    "    def getInterest(self):\n",
    "        Interest =self.bal*0.07\n",
    "        print(f\"Interest on account {self.id} is {Interest}\")\n",
    "            \n",
    "class currentaccount(account):\n",
    "    def __init__(self):\n",
    "        super().__init__()\n",
    "        self.maxtrans = 5\n",
    "            \n",
    "    def getInterest(self):\n",
    "        Interest =(self.bal*0.05)/self.numtrans\n",
    "        print(f\"Interest on account {self.id} is {Interest}\")"
   ]
  },
  {
   "cell_type": "code",
   "execution_count": 103,
   "id": "9e608abf",
   "metadata": {},
   "outputs": [
    {
     "name": "stdout",
     "output_type": "stream",
     "text": [
      "acc 1 has 0\n",
      "acc 1 has 100\n",
      "Interest on account 1 is 7.000000000000001\n"
     ]
    }
   ],
   "source": [
    "sa1=savingsaccount()\n",
    "ca1=currentaccount()\n",
    "\n",
    "print(sa1)\n",
    "sa1.deposit(100)\n",
    "sa1.withdraw(50)\n",
    "print(sa1)\n",
    "sa1.getInterest()"
   ]
  },
  {
   "cell_type": "code",
   "execution_count": 104,
   "id": "ed1f29fa",
   "metadata": {},
   "outputs": [
    {
     "name": "stdout",
     "output_type": "stream",
     "text": [
      "acc 2 has 0\n",
      "acc 2 has 200\n",
      "Interest on account 2 is 5.0\n"
     ]
    }
   ],
   "source": [
    "print(ca1)\n",
    "ca1.deposit(100)\n",
    "ca1.deposit(100)\n",
    "print(ca1)\n",
    "ca1.getInterest()"
   ]
  },
  {
   "cell_type": "code",
   "execution_count": null,
   "id": "e5148bec",
   "metadata": {},
   "outputs": [],
   "source": []
  },
  {
   "cell_type": "code",
   "execution_count": null,
   "id": "61c5c663",
   "metadata": {},
   "outputs": [],
   "source": []
  },
  {
   "cell_type": "code",
   "execution_count": null,
   "id": "69cce979",
   "metadata": {},
   "outputs": [],
   "source": []
  },
  {
   "cell_type": "code",
   "execution_count": null,
   "id": "d13e9199",
   "metadata": {},
   "outputs": [],
   "source": []
  },
  {
   "cell_type": "code",
   "execution_count": null,
   "id": "2283da96",
   "metadata": {},
   "outputs": [],
   "source": []
  },
  {
   "cell_type": "code",
   "execution_count": null,
   "id": "2da2f0b3",
   "metadata": {},
   "outputs": [],
   "source": []
  },
  {
   "cell_type": "code",
   "execution_count": null,
   "id": "48b25581",
   "metadata": {},
   "outputs": [],
   "source": []
  },
  {
   "cell_type": "code",
   "execution_count": null,
   "id": "a5e113a1",
   "metadata": {},
   "outputs": [],
   "source": []
  },
  {
   "cell_type": "code",
   "execution_count": null,
   "id": "06d56422",
   "metadata": {},
   "outputs": [],
   "source": []
  },
  {
   "cell_type": "code",
   "execution_count": null,
   "id": "9974f29f",
   "metadata": {},
   "outputs": [],
   "source": []
  }
 ],
 "metadata": {
  "kernelspec": {
   "display_name": "Python 3 (ipykernel)",
   "language": "python",
   "name": "python3"
  },
  "language_info": {
   "codemirror_mode": {
    "name": "ipython",
    "version": 3
   },
   "file_extension": ".py",
   "mimetype": "text/x-python",
   "name": "python",
   "nbconvert_exporter": "python",
   "pygments_lexer": "ipython3",
   "version": "3.10.9"
  }
 },
 "nbformat": 4,
 "nbformat_minor": 5
}
